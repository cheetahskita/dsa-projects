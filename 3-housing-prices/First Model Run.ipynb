{
 "cells": [
  {
   "cell_type": "code",
   "execution_count": 1,
   "metadata": {},
   "outputs": [],
   "source": [
    "import numpy as np\n",
    "import pandas as pd\n",
    "from scipy import stats\n",
    "import matplotlib.pyplot as plt\n",
    "from scipy import stats\n",
    "%matplotlib inline\n",
    "plt.style.use('ggplot')\n",
    "import seaborn as sns"
   ]
  },
  {
   "cell_type": "code",
   "execution_count": 2,
   "metadata": {},
   "outputs": [],
   "source": [
    "housing = pd.read_csv(\"Ames_Housing_Price_Data.csv\", index_col=0)"
   ]
  },
  {
   "cell_type": "code",
   "execution_count": 4,
   "metadata": {},
   "outputs": [],
   "source": [
    "housing = housing.replace({\"Po\":1, \"Fa\":2, \"TA\":3, \"Gd\":4, \"Ex\":5})"
   ]
  },
  {
   "cell_type": "code",
   "execution_count": 5,
   "metadata": {},
   "outputs": [],
   "source": [
    "housing = housing.replace({\"Unf\":1, \"LwQ\":2, \"Rec\":3, \"BLQ\":4, \"ALQ\":5, \"GLQ\":6})"
   ]
  },
  {
   "cell_type": "code",
   "execution_count": 14,
   "metadata": {},
   "outputs": [],
   "source": [
    "qcc = housing.copy()"
   ]
  },
  {
   "cell_type": "code",
   "execution_count": 15,
   "metadata": {},
   "outputs": [],
   "source": [
    "qcc = qcc.filter(regex='Qual$|Qu$|QC$|Fence$|Type1$|Type2$|Cond$|\\\n",
    "Mas$|Exterior$|Shape$|Alley$|Street$|Contour$|RoofStyle$|RoofMatl$|Config$|Slope$|Frontage$|LotArea$')"
   ]
  },
  {
   "cell_type": "code",
   "execution_count": null,
   "metadata": {},
   "outputs": [],
   "source": [
    "n = qcc.copy()\n",
    "n = pd.get_dummies(n)"
   ]
  },
  {
   "cell_type": "code",
   "execution_count": 18,
   "metadata": {},
   "outputs": [
    {
     "data": {
      "text/plain": [
       "LotFrontage           462\n",
       "LotArea                 0\n",
       "OverallQual             0\n",
       "OverallCond             0\n",
       "ExterQual               0\n",
       "ExterCond               0\n",
       "BsmtQual               69\n",
       "BsmtCond               69\n",
       "BsmtFinType1           69\n",
       "BsmtFinType2           70\n",
       "HeatingQC               0\n",
       "KitchenQual             0\n",
       "FireplaceQu          1241\n",
       "GarageQual            129\n",
       "GarageCond            129\n",
       "PoolQC               2571\n",
       "Street_Grvl             0\n",
       "Street_Pave             0\n",
       "Alley_Grvl              0\n",
       "Alley_Pave              0\n",
       "LotShape_IR1            0\n",
       "LotShape_IR2            0\n",
       "LotShape_IR3            0\n",
       "LotShape_Reg            0\n",
       "LandContour_Bnk         0\n",
       "LandContour_HLS         0\n",
       "LandContour_Low         0\n",
       "LandContour_Lvl         0\n",
       "LotConfig_Corner        0\n",
       "LotConfig_CulDSac       0\n",
       "LotConfig_FR2           0\n",
       "LotConfig_FR3           0\n",
       "LotConfig_Inside        0\n",
       "LandSlope_Gtl           0\n",
       "LandSlope_Mod           0\n",
       "LandSlope_Sev           0\n",
       "RoofStyle_Flat          0\n",
       "RoofStyle_Gable         0\n",
       "RoofStyle_Gambrel       0\n",
       "RoofStyle_Hip           0\n",
       "RoofStyle_Mansard       0\n",
       "RoofStyle_Shed          0\n",
       "RoofMatl_CompShg        0\n",
       "RoofMatl_Membran        0\n",
       "RoofMatl_Metal          0\n",
       "RoofMatl_Roll           0\n",
       "RoofMatl_Tar&Grv        0\n",
       "RoofMatl_WdShake        0\n",
       "RoofMatl_WdShngl        0\n",
       "Fence_GdPrv             0\n",
       "Fence_GdWo              0\n",
       "Fence_MnPrv             0\n",
       "Fence_MnWw              0\n",
       "dtype: int64"
      ]
     },
     "execution_count": 18,
     "metadata": {},
     "output_type": "execute_result"
    }
   ],
   "source": [
    "n.isnull().sum(axis=0)"
   ]
  },
  {
   "cell_type": "code",
   "execution_count": 19,
   "metadata": {},
   "outputs": [],
   "source": [
    "n = n.replace(np.nan, 0)"
   ]
  },
  {
   "cell_type": "code",
   "execution_count": 20,
   "metadata": {},
   "outputs": [
    {
     "data": {
      "text/plain": [
       "LotFrontage          0\n",
       "LotArea              0\n",
       "OverallQual          0\n",
       "OverallCond          0\n",
       "ExterQual            0\n",
       "ExterCond            0\n",
       "BsmtQual             0\n",
       "BsmtCond             0\n",
       "BsmtFinType1         0\n",
       "BsmtFinType2         0\n",
       "HeatingQC            0\n",
       "KitchenQual          0\n",
       "FireplaceQu          0\n",
       "GarageQual           0\n",
       "GarageCond           0\n",
       "PoolQC               0\n",
       "Street_Grvl          0\n",
       "Street_Pave          0\n",
       "Alley_Grvl           0\n",
       "Alley_Pave           0\n",
       "LotShape_IR1         0\n",
       "LotShape_IR2         0\n",
       "LotShape_IR3         0\n",
       "LotShape_Reg         0\n",
       "LandContour_Bnk      0\n",
       "LandContour_HLS      0\n",
       "LandContour_Low      0\n",
       "LandContour_Lvl      0\n",
       "LotConfig_Corner     0\n",
       "LotConfig_CulDSac    0\n",
       "LotConfig_FR2        0\n",
       "LotConfig_FR3        0\n",
       "LotConfig_Inside     0\n",
       "LandSlope_Gtl        0\n",
       "LandSlope_Mod        0\n",
       "LandSlope_Sev        0\n",
       "RoofStyle_Flat       0\n",
       "RoofStyle_Gable      0\n",
       "RoofStyle_Gambrel    0\n",
       "RoofStyle_Hip        0\n",
       "RoofStyle_Mansard    0\n",
       "RoofStyle_Shed       0\n",
       "RoofMatl_CompShg     0\n",
       "RoofMatl_Membran     0\n",
       "RoofMatl_Metal       0\n",
       "RoofMatl_Roll        0\n",
       "RoofMatl_Tar&Grv     0\n",
       "RoofMatl_WdShake     0\n",
       "RoofMatl_WdShngl     0\n",
       "Fence_GdPrv          0\n",
       "Fence_GdWo           0\n",
       "Fence_MnPrv          0\n",
       "Fence_MnWw           0\n",
       "dtype: int64"
      ]
     },
     "execution_count": 20,
     "metadata": {},
     "output_type": "execute_result"
    }
   ],
   "source": [
    "n.isnull().sum(axis=0)"
   ]
  },
  {
   "cell_type": "code",
   "execution_count": 22,
   "metadata": {},
   "outputs": [],
   "source": [
    "X = n"
   ]
  },
  {
   "cell_type": "code",
   "execution_count": 25,
   "metadata": {},
   "outputs": [],
   "source": [
    "m = housing.copy()"
   ]
  },
  {
   "cell_type": "code",
   "execution_count": 26,
   "metadata": {},
   "outputs": [],
   "source": [
    "m['SalePrice1'] = np.log10(m['SalePrice'])"
   ]
  },
  {
   "cell_type": "code",
   "execution_count": 34,
   "metadata": {},
   "outputs": [],
   "source": [
    "m['SalePrice1'] = m['SalePrice1'].astype(np.int64)"
   ]
  },
  {
   "cell_type": "code",
   "execution_count": 35,
   "metadata": {},
   "outputs": [],
   "source": [
    "y1 = m['SalePrice1']"
   ]
  },
  {
   "cell_type": "code",
   "execution_count": 36,
   "metadata": {},
   "outputs": [],
   "source": [
    "from sklearn.feature_selection import SelectKBest\n",
    "from sklearn.feature_selection import chi2\n",
    "\n",
    "bestfeatures = SelectKBest(score_func=chi2, k=10)\n",
    "fit = bestfeatures.fit(X,y1)\n",
    "dfscores = pd.DataFrame(fit.scores_)\n",
    "dfcolumns = pd.DataFrame(X.columns)"
   ]
  },
  {
   "cell_type": "code",
   "execution_count": 37,
   "metadata": {},
   "outputs": [
    {
     "name": "stdout",
     "output_type": "stream",
     "text": [
      "           Specs          Score\n",
      "1        LotArea  206385.328604\n",
      "12   FireplaceQu     263.927275\n",
      "8   BsmtFinType1     176.557425\n",
      "0    LotFrontage     147.298010\n",
      "2    OverallQual     123.215613\n",
      "6       BsmtQual      66.282664\n",
      "14    GarageCond      64.623890\n",
      "13    GarageQual      64.406244\n",
      "10     HeatingQC      32.822123\n",
      "20  LotShape_IR1      26.664903\n"
     ]
    }
   ],
   "source": [
    "featureScores = pd.concat([dfcolumns,dfscores],axis=1)\n",
    "featureScores.columns = ['Specs','Score']  #naming the dataframe columns\n",
    "print(featureScores.nlargest(10,'Score'))  #print 10 best features"
   ]
  },
  {
   "cell_type": "code",
   "execution_count": 44,
   "metadata": {},
   "outputs": [
    {
     "name": "stdout",
     "output_type": "stream",
     "text": [
      "[7.59201431e-02 1.00079216e-01 1.30880404e-01 6.96353078e-02\n",
      " 1.63872112e-02 2.76144333e-02 6.24697690e-02 4.00165455e-02\n",
      " 5.81227137e-02 1.32278446e-02 5.51908020e-02 2.95382969e-02\n",
      " 3.93173308e-02 4.83284656e-02 6.62336657e-02 8.20165066e-04\n",
      " 4.60665384e-03 5.57670328e-03 1.55184669e-02 3.09902243e-03\n",
      " 6.71644948e-03 6.29648764e-04 1.63423759e-03 1.22894107e-02\n",
      " 7.01690665e-03 3.87667930e-03 1.46308527e-03 7.09166164e-03\n",
      " 1.37021112e-02 5.11245281e-04 5.90967540e-03 6.77963628e-04\n",
      " 1.04086329e-02 6.24281450e-03 3.00817151e-03 2.84614593e-06\n",
      " 1.80422257e-04 7.25985892e-03 3.49488477e-03 8.42931410e-03\n",
      " 3.40123335e-03 0.00000000e+00 1.22056803e-03 0.00000000e+00\n",
      " 0.00000000e+00 0.00000000e+00 1.10243118e-03 0.00000000e+00\n",
      " 0.00000000e+00 4.98902654e-03 9.88740114e-03 1.60505660e-02\n",
      " 2.19593085e-04]\n"
     ]
    },
    {
     "name": "stderr",
     "output_type": "stream",
     "text": [
      "/opt/anaconda3/lib/python3.7/site-packages/sklearn/ensemble/forest.py:245: FutureWarning: The default value of n_estimators will change from 10 in version 0.20 to 100 in 0.22.\n",
      "  \"10 in version 0.20 to 100 in 0.22.\", FutureWarning)\n"
     ]
    },
    {
     "data": {
      "image/png": "[encoded data removed]",
      "text/plain": [
       "<Figure size 432x576 with 1 Axes>"
      ]
     },
     "metadata": {
      "needs_background": "light"
     },
     "output_type": "display_data"
    }
   ],
   "source": [
    "import pandas as pd\n",
    "import numpy as np\n",
    "\n",
    "from sklearn.ensemble import ExtraTreesClassifier\n",
    "import matplotlib.pyplot as plt\n",
    "model = ExtraTreesClassifier()\n",
    "model.fit(X,y1)\n",
    "print(model.feature_importances_) #use inbuilt class feature_importances of tree based classifiers\n",
    "#plot graph of feature importances for better visualization\n",
    "feat_importances = pd.Series(model.feature_importances_, index=X.columns)\n",
    "feat_importances.nlargest(15).plot(kind='barh', figsize=(6,8))\n",
    "plt.show()"
   ]
  }
 ],
 "metadata": {
  "kernelspec": {
   "display_name": "Python 3",
   "language": "python",
   "name": "python3"
  },
  "language_info": {
   "codemirror_mode": {
    "name": "ipython",
    "version": 3
   },
   "file_extension": ".py",
   "mimetype": "text/x-python",
   "name": "python",
   "nbconvert_exporter": "python",
   "pygments_lexer": "ipython3",
   "version": "3.7.6"
  }
 },
 "nbformat": 4,
 "nbformat_minor": 2
}
