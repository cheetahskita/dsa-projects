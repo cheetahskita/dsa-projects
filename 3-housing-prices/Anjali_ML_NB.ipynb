{
 "cells": [
  {
   "cell_type": "code",
   "execution_count": 1,
   "metadata": {},
   "outputs": [],
   "source": [
    "import numpy as np\n",
    "import pandas as pd\n",
    "from scipy import stats\n",
    "import matplotlib.pyplot as plt\n",
    "from scipy import stats\n",
    "%matplotlib inline\n",
    "plt.style.use('ggplot')\n",
    "import seaborn as sns"
   ]
  },
  {
   "cell_type": "code",
   "execution_count": 2,
   "metadata": {},
   "outputs": [],
   "source": [
    "housing = pd.read_csv(\"Ames_Housing_Price_Data.csv\", index_col=0)"
   ]
  },
  {
   "cell_type": "markdown",
   "metadata": {},
   "source": [
    "## Overall Quality"
   ]
  },
  {
   "cell_type": "code",
   "execution_count": 56,
   "metadata": {},
   "outputs": [],
   "source": [
    "quality = housing.copy()"
   ]
  },
  {
   "cell_type": "code",
   "execution_count": null,
   "metadata": {},
   "outputs": [],
   "source": [
    "#checking correlation between all features and target (sale price)\n",
    "#overall quality highest correlated\n",
    "#overall condition in the least 3 correlated\n",
    "\n",
    "correlations = quality[quality.columns[1:]].corr()['SalePrice'][:]\n",
    "correlations.sort_values(ascending=False)"
   ]
  },
  {
   "cell_type": "code",
   "execution_count": 57,
   "metadata": {},
   "outputs": [],
   "source": [
    "sale_log = np.log10(quality['SalePrice'])"
   ]
  },
  {
   "cell_type": "code",
   "execution_count": 58,
   "metadata": {},
   "outputs": [
    {
     "data": {
      "text/plain": [
       "<matplotlib.axes._subplots.AxesSubplot at 0x7fb2a8cc0f90>"
      ]
     },
     "execution_count": 58,
     "metadata": {},
     "output_type": "execute_result"
    },
    {
     "data": {
      "image/png": "[encoded data removed]",
      "text/plain": [
       "<Figure size 432x288 with 1 Axes>"
      ]
     },
     "metadata": {
      "needs_background": "light"
     },
     "output_type": "display_data"
    }
   ],
   "source": [
    "sns.boxplot(x='OverallQual', y=sale_log, data=housing)"
   ]
  },
  {
   "cell_type": "code",
   "execution_count": 59,
   "metadata": {},
   "outputs": [],
   "source": [
    "only_quality = quality.filter(regex='Qual$|Qu$|QC$|Fence$|Type1$|Type2$')"
   ]
  },
  {
   "cell_type": "code",
   "execution_count": null,
   "metadata": {},
   "outputs": [],
   "source": [
    "only_quality.isnull().sum(axis=0)"
   ]
  },
  {
   "cell_type": "code",
   "execution_count": 64,
   "metadata": {},
   "outputs": [],
   "source": [
    "only_quality = only_quality.replace(np.nan, 0)"
   ]
  },
  {
   "cell_type": "code",
   "execution_count": 60,
   "metadata": {},
   "outputs": [],
   "source": [
    "only_quality = only_quality.replace({\"Po\":1, \"Fa\":2, \"TA\":3, \"Gd\":4,\\\n",
    "                                     \"Ex\":5})"
   ]
  },
  {
   "cell_type": "code",
   "execution_count": 61,
   "metadata": {},
   "outputs": [],
   "source": [
    "only_quality = only_quality.replace({\"Unf\":1, \"LwQ\":2,\\\n",
    "                                     \"Rec\":3, \"BLQ\":4, \"ALQ\":5, \"GLQ\":6})"
   ]
  },
  {
   "cell_type": "code",
   "execution_count": null,
   "metadata": {},
   "outputs": [],
   "source": [
    "only_quality.dtypes"
   ]
  },
  {
   "cell_type": "code",
   "execution_count": 62,
   "metadata": {},
   "outputs": [],
   "source": [
    "only_quality = only_quality.drop('Fence', 1)"
   ]
  },
  {
   "cell_type": "code",
   "execution_count": 65,
   "metadata": {},
   "outputs": [],
   "source": [
    "from sklearn.linear_model import LinearRegression\n",
    "continuous_features = ['ExterQual', 'BsmtQual', 'BsmtFinType1',\\\n",
    "                       'BsmtFinType2', 'HeatingQC', 'KitchenQual',\\\n",
    "                       'FireplaceQu', 'GarageQual', 'PoolQC']\n",
    "scores = {}\n",
    "ols4 = LinearRegression()\n",
    "from sklearn.metrics import r2_score\n",
    "for feature_name in continuous_features:\n",
    "                df2     = only_quality.copy()\n",
    "                feature = df2[feature_name].copy()\n",
    "                df2.drop(feature_name, axis=1, inplace=True)\n",
    "                ols4.fit(df2, feature)\n",
    "                scores[feature_name] = ols4.score(df2, feature)    "
   ]
  },
  {
   "cell_type": "code",
   "execution_count": 67,
   "metadata": {},
   "outputs": [
    {
     "data": {
      "text/plain": [
       "Text(0.5, 1.0, '$R^2$ of a continuous feature against the other features')"
      ]
     },
     "execution_count": 67,
     "metadata": {},
     "output_type": "execute_result"
    },
    {
     "data": {
      "image/png": "[encoded data removed]",
      "text/plain": [
       "<Figure size 432x288 with 1 Axes>"
      ]
     },
     "metadata": {
      "needs_background": "light"
     },
     "output_type": "display_data"
    }
   ],
   "source": [
    "sns.barplot(x='R2', y='index', data=pd.DataFrame(scores, index=['R2'])\\\n",
    "            .T.reset_index())\n",
    "plt.title('$R^2$ of a continuous feature against the other features')"
   ]
  },
  {
   "cell_type": "code",
   "execution_count": 68,
   "metadata": {},
   "outputs": [
    {
     "data": {
      "text/html": [
       "<div>\n",
       "<style scoped>\n",
       "    .dataframe tbody tr th:only-of-type {\n",
       "        vertical-align: middle;\n",
       "    }\n",
       "\n",
       "    .dataframe tbody tr th {\n",
       "        vertical-align: top;\n",
       "    }\n",
       "\n",
       "    .dataframe thead th {\n",
       "        text-align: right;\n",
       "    }\n",
       "</style>\n",
       "<table border=\"1\" class=\"dataframe\">\n",
       "  <thead>\n",
       "    <tr style=\"text-align: right;\">\n",
       "      <th></th>\n",
       "      <th>OverallQual</th>\n",
       "      <th>ExterQual</th>\n",
       "      <th>BsmtQual</th>\n",
       "      <th>BsmtFinType1</th>\n",
       "      <th>BsmtFinType2</th>\n",
       "      <th>HeatingQC</th>\n",
       "      <th>KitchenQual</th>\n",
       "      <th>FireplaceQu</th>\n",
       "      <th>GarageQual</th>\n",
       "      <th>PoolQC</th>\n",
       "    </tr>\n",
       "  </thead>\n",
       "  <tbody>\n",
       "    <tr>\n",
       "      <td>OverallQual</td>\n",
       "      <td>1.000000</td>\n",
       "      <td>0.714140</td>\n",
       "      <td>0.622697</td>\n",
       "      <td>0.293822</td>\n",
       "      <td>-0.001032</td>\n",
       "      <td>0.441467</td>\n",
       "      <td>0.653820</td>\n",
       "      <td>0.466129</td>\n",
       "      <td>0.290338</td>\n",
       "      <td>0.026092</td>\n",
       "    </tr>\n",
       "    <tr>\n",
       "      <td>ExterQual</td>\n",
       "      <td>0.714140</td>\n",
       "      <td>1.000000</td>\n",
       "      <td>0.544637</td>\n",
       "      <td>0.258615</td>\n",
       "      <td>-0.013526</td>\n",
       "      <td>0.500442</td>\n",
       "      <td>0.697801</td>\n",
       "      <td>0.334071</td>\n",
       "      <td>0.207335</td>\n",
       "      <td>0.024435</td>\n",
       "    </tr>\n",
       "    <tr>\n",
       "      <td>BsmtQual</td>\n",
       "      <td>0.622697</td>\n",
       "      <td>0.544637</td>\n",
       "      <td>1.000000</td>\n",
       "      <td>0.440746</td>\n",
       "      <td>0.115469</td>\n",
       "      <td>0.393289</td>\n",
       "      <td>0.490160</td>\n",
       "      <td>0.289943</td>\n",
       "      <td>0.200196</td>\n",
       "      <td>-0.004101</td>\n",
       "    </tr>\n",
       "    <tr>\n",
       "      <td>BsmtFinType1</td>\n",
       "      <td>0.293822</td>\n",
       "      <td>0.258615</td>\n",
       "      <td>0.440746</td>\n",
       "      <td>1.000000</td>\n",
       "      <td>0.093043</td>\n",
       "      <td>0.167571</td>\n",
       "      <td>0.265460</td>\n",
       "      <td>0.124460</td>\n",
       "      <td>0.178601</td>\n",
       "      <td>-0.003119</td>\n",
       "    </tr>\n",
       "    <tr>\n",
       "      <td>BsmtFinType2</td>\n",
       "      <td>-0.001032</td>\n",
       "      <td>-0.013526</td>\n",
       "      <td>0.115469</td>\n",
       "      <td>0.093043</td>\n",
       "      <td>1.000000</td>\n",
       "      <td>-0.022877</td>\n",
       "      <td>-0.009246</td>\n",
       "      <td>-0.013900</td>\n",
       "      <td>0.071122</td>\n",
       "      <td>0.017884</td>\n",
       "    </tr>\n",
       "    <tr>\n",
       "      <td>HeatingQC</td>\n",
       "      <td>0.441467</td>\n",
       "      <td>0.500442</td>\n",
       "      <td>0.393289</td>\n",
       "      <td>0.167571</td>\n",
       "      <td>-0.022877</td>\n",
       "      <td>1.000000</td>\n",
       "      <td>0.481421</td>\n",
       "      <td>0.195907</td>\n",
       "      <td>0.128139</td>\n",
       "      <td>-0.006205</td>\n",
       "    </tr>\n",
       "    <tr>\n",
       "      <td>KitchenQual</td>\n",
       "      <td>0.653820</td>\n",
       "      <td>0.697801</td>\n",
       "      <td>0.490160</td>\n",
       "      <td>0.265460</td>\n",
       "      <td>-0.009246</td>\n",
       "      <td>0.481421</td>\n",
       "      <td>1.000000</td>\n",
       "      <td>0.314742</td>\n",
       "      <td>0.201136</td>\n",
       "      <td>0.031706</td>\n",
       "    </tr>\n",
       "    <tr>\n",
       "      <td>FireplaceQu</td>\n",
       "      <td>0.466129</td>\n",
       "      <td>0.334071</td>\n",
       "      <td>0.289943</td>\n",
       "      <td>0.124460</td>\n",
       "      <td>-0.013900</td>\n",
       "      <td>0.195907</td>\n",
       "      <td>0.314742</td>\n",
       "      <td>1.000000</td>\n",
       "      <td>0.207640</td>\n",
       "      <td>0.020756</td>\n",
       "    </tr>\n",
       "    <tr>\n",
       "      <td>GarageQual</td>\n",
       "      <td>0.290338</td>\n",
       "      <td>0.207335</td>\n",
       "      <td>0.200196</td>\n",
       "      <td>0.178601</td>\n",
       "      <td>0.071122</td>\n",
       "      <td>0.128139</td>\n",
       "      <td>0.201136</td>\n",
       "      <td>0.207640</td>\n",
       "      <td>1.000000</td>\n",
       "      <td>0.028301</td>\n",
       "    </tr>\n",
       "    <tr>\n",
       "      <td>PoolQC</td>\n",
       "      <td>0.026092</td>\n",
       "      <td>0.024435</td>\n",
       "      <td>-0.004101</td>\n",
       "      <td>-0.003119</td>\n",
       "      <td>0.017884</td>\n",
       "      <td>-0.006205</td>\n",
       "      <td>0.031706</td>\n",
       "      <td>0.020756</td>\n",
       "      <td>0.028301</td>\n",
       "      <td>1.000000</td>\n",
       "    </tr>\n",
       "  </tbody>\n",
       "</table>\n",
       "</div>"
      ],
      "text/plain": [
       "              OverallQual  ExterQual  BsmtQual  BsmtFinType1  BsmtFinType2  \\\n",
       "OverallQual      1.000000   0.714140  0.622697      0.293822     -0.001032   \n",
       "ExterQual        0.714140   1.000000  0.544637      0.258615     -0.013526   \n",
       "BsmtQual         0.622697   0.544637  1.000000      0.440746      0.115469   \n",
       "BsmtFinType1     0.293822   0.258615  0.440746      1.000000      0.093043   \n",
       "BsmtFinType2    -0.001032  -0.013526  0.115469      0.093043      1.000000   \n",
       "HeatingQC        0.441467   0.500442  0.393289      0.167571     -0.022877   \n",
       "KitchenQual      0.653820   0.697801  0.490160      0.265460     -0.009246   \n",
       "FireplaceQu      0.466129   0.334071  0.289943      0.124460     -0.013900   \n",
       "GarageQual       0.290338   0.207335  0.200196      0.178601      0.071122   \n",
       "PoolQC           0.026092   0.024435 -0.004101     -0.003119      0.017884   \n",
       "\n",
       "              HeatingQC  KitchenQual  FireplaceQu  GarageQual    PoolQC  \n",
       "OverallQual    0.441467     0.653820     0.466129    0.290338  0.026092  \n",
       "ExterQual      0.500442     0.697801     0.334071    0.207335  0.024435  \n",
       "BsmtQual       0.393289     0.490160     0.289943    0.200196 -0.004101  \n",
       "BsmtFinType1   0.167571     0.265460     0.124460    0.178601 -0.003119  \n",
       "BsmtFinType2  -0.022877    -0.009246    -0.013900    0.071122  0.017884  \n",
       "HeatingQC      1.000000     0.481421     0.195907    0.128139 -0.006205  \n",
       "KitchenQual    0.481421     1.000000     0.314742    0.201136  0.031706  \n",
       "FireplaceQu    0.195907     0.314742     1.000000    0.207640  0.020756  \n",
       "GarageQual     0.128139     0.201136     0.207640    1.000000  0.028301  \n",
       "PoolQC        -0.006205     0.031706     0.020756    0.028301  1.000000  "
      ]
     },
     "execution_count": 68,
     "metadata": {},
     "output_type": "execute_result"
    }
   ],
   "source": [
    "only_quality[['OverallQual']+['ExterQual', 'BsmtQual', 'BsmtFinType1',\\\n",
    "                              'BsmtFinType2','HeatingQC','KitchenQual',\\\n",
    "                              'FireplaceQu','GarageQual','PoolQC']].corr()"
   ]
  },
  {
   "cell_type": "code",
   "execution_count": 69,
   "metadata": {},
   "outputs": [
    {
     "data": {
      "text/plain": [
       "<matplotlib.axes._subplots.AxesSubplot at 0x7fb278f0f490>"
      ]
     },
     "execution_count": 69,
     "metadata": {},
     "output_type": "execute_result"
    },
    {
     "data": {
      "image/png": "[encoded data removed]",
      "text/plain": [
       "<Figure size 432x288 with 1 Axes>"
      ]
     },
     "metadata": {
      "needs_background": "light"
     },
     "output_type": "display_data"
    }
   ],
   "source": [
    "features = ['ExterQual','BsmtQual','BsmtFinType1','BsmtFinType2',\\\n",
    "            'HeatingQC','KitchenQual','FireplaceQu','GarageQual','PoolQC']\n",
    "corr = only_quality[['OverallQual'] + features].corr()\n",
    "\n",
    "corr = corr.sort_values('OverallQual', ascending=False)\n",
    "sns.barplot( corr.OverallQual[1:], corr.index[1:], orient='h')"
   ]
  },
  {
   "cell_type": "code",
   "execution_count": 70,
   "metadata": {},
   "outputs": [],
   "source": [
    "X_quality = only_quality.copy()"
   ]
  },
  {
   "cell_type": "code",
   "execution_count": 71,
   "metadata": {},
   "outputs": [],
   "source": [
    "X_quality = X_quality.drop(['OverallQual','BsmtFinType2','PoolQC'], 1)"
   ]
  },
  {
   "cell_type": "code",
   "execution_count": 72,
   "metadata": {},
   "outputs": [],
   "source": [
    "y_quality = only_quality['OverallQual']"
   ]
  },
  {
   "cell_type": "code",
   "execution_count": 73,
   "metadata": {},
   "outputs": [],
   "source": [
    "from sklearn.model_selection import train_test_split\n",
    "X_train2, X_test2, y_train2, y_test2 = train_test_split\\\n",
    "(X_quality, y_quality, test_size=0.3, random_state=42)"
   ]
  },
  {
   "cell_type": "code",
   "execution_count": 74,
   "metadata": {},
   "outputs": [
    {
     "name": "stdout",
     "output_type": "stream",
     "text": [
      "R^2 for train set: 0.658504\n",
      "--------------------------------------------------\n",
      "R^2 for test  set: 0.653943\n"
     ]
    }
   ],
   "source": [
    "from sklearn.linear_model import LinearRegression \n",
    "\n",
    "ols2 = LinearRegression()\n",
    "ols2.fit(X_train2, y_train2)\n",
    "print(\"R^2 for train set: %f\" %ols2.score(X_train2, y_train2))\n",
    "\n",
    "print('-'*50)\n",
    "\n",
    "print(\"R^2 for test  set: %f\" %ols2.score(X_test2, y_test2))"
   ]
  },
  {
   "cell_type": "code",
   "execution_count": 75,
   "metadata": {},
   "outputs": [],
   "source": [
    "y_sale = np.log10(housing['SalePrice'])"
   ]
  },
  {
   "cell_type": "code",
   "execution_count": 76,
   "metadata": {},
   "outputs": [],
   "source": [
    "X_train3, X_test3, y_train3, y_test3 = train_test_split\\\n",
    "(X_quality, y_sale, test_size=0.3, random_state=42)"
   ]
  },
  {
   "cell_type": "code",
   "execution_count": 78,
   "metadata": {},
   "outputs": [
    {
     "name": "stdout",
     "output_type": "stream",
     "text": [
      "R^2 for train set: 0.673964\n",
      "--------------------------------------------------\n",
      "R^2 for test  set: 0.719691\n"
     ]
    }
   ],
   "source": [
    "ols3 = LinearRegression()\n",
    "ols3.fit(X_train3, y_train3)\n",
    "print(\"R^2 for train set: %f\" %ols3.score(X_train3, y_train3))\n",
    "\n",
    "print('-'*50)\n",
    "\n",
    "print(\"R^2 for test  set: %f\" %ols3.score(X_test3, y_test3))"
   ]
  },
  {
   "cell_type": "markdown",
   "metadata": {},
   "source": [
    "## Overall Condition"
   ]
  },
  {
   "cell_type": "code",
   "execution_count": null,
   "metadata": {},
   "outputs": [],
   "source": [
    "condition = housing.copy()"
   ]
  },
  {
   "cell_type": "code",
   "execution_count": 98,
   "metadata": {},
   "outputs": [],
   "source": [
    "only_condition = only_quality = quality.filter(regex='Cond$')"
   ]
  },
  {
   "cell_type": "code",
   "execution_count": 99,
   "metadata": {},
   "outputs": [
    {
     "data": {
      "text/html": [
       "<div>\n",
       "<style scoped>\n",
       "    .dataframe tbody tr th:only-of-type {\n",
       "        vertical-align: middle;\n",
       "    }\n",
       "\n",
       "    .dataframe tbody tr th {\n",
       "        vertical-align: top;\n",
       "    }\n",
       "\n",
       "    .dataframe thead th {\n",
       "        text-align: right;\n",
       "    }\n",
       "</style>\n",
       "<table border=\"1\" class=\"dataframe\">\n",
       "  <thead>\n",
       "    <tr style=\"text-align: right;\">\n",
       "      <th></th>\n",
       "      <th>OverallCond</th>\n",
       "      <th>ExterCond</th>\n",
       "      <th>BsmtCond</th>\n",
       "      <th>GarageCond</th>\n",
       "    </tr>\n",
       "  </thead>\n",
       "  <tbody>\n",
       "    <tr>\n",
       "      <td>1</td>\n",
       "      <td>6</td>\n",
       "      <td>TA</td>\n",
       "      <td>TA</td>\n",
       "      <td>TA</td>\n",
       "    </tr>\n",
       "    <tr>\n",
       "      <td>2</td>\n",
       "      <td>5</td>\n",
       "      <td>TA</td>\n",
       "      <td>TA</td>\n",
       "      <td>TA</td>\n",
       "    </tr>\n",
       "    <tr>\n",
       "      <td>3</td>\n",
       "      <td>9</td>\n",
       "      <td>TA</td>\n",
       "      <td>TA</td>\n",
       "      <td>Po</td>\n",
       "    </tr>\n",
       "    <tr>\n",
       "      <td>4</td>\n",
       "      <td>8</td>\n",
       "      <td>Gd</td>\n",
       "      <td>TA</td>\n",
       "      <td>TA</td>\n",
       "    </tr>\n",
       "    <tr>\n",
       "      <td>5</td>\n",
       "      <td>6</td>\n",
       "      <td>TA</td>\n",
       "      <td>TA</td>\n",
       "      <td>TA</td>\n",
       "    </tr>\n",
       "  </tbody>\n",
       "</table>\n",
       "</div>"
      ],
      "text/plain": [
       "   OverallCond ExterCond BsmtCond GarageCond\n",
       "1            6        TA       TA         TA\n",
       "2            5        TA       TA         TA\n",
       "3            9        TA       TA         Po\n",
       "4            8        Gd       TA         TA\n",
       "5            6        TA       TA         TA"
      ]
     },
     "execution_count": 99,
     "metadata": {},
     "output_type": "execute_result"
    }
   ],
   "source": [
    "only_condition.head()"
   ]
  },
  {
   "cell_type": "code",
   "execution_count": 105,
   "metadata": {},
   "outputs": [],
   "source": [
    "only_condition = only_condition.replace(np.nan, 0)"
   ]
  },
  {
   "cell_type": "code",
   "execution_count": 100,
   "metadata": {},
   "outputs": [],
   "source": [
    "only_condition = only_condition.replace({\"Po\":1, \"Fa\":2, \"TA\":3, \"Gd\":4,\\\n",
    "                                     \"Ex\":5})"
   ]
  },
  {
   "cell_type": "code",
   "execution_count": 113,
   "metadata": {},
   "outputs": [
    {
     "data": {
      "text/plain": [
       "<matplotlib.axes._subplots.AxesSubplot at 0x7fb2a937da10>"
      ]
     },
     "execution_count": 113,
     "metadata": {},
     "output_type": "execute_result"
    },
    {
     "data": {
      "image/png": "[encoded data removed]",
      "text/plain": [
       "<Figure size 432x288 with 1 Axes>"
      ]
     },
     "metadata": {
      "needs_background": "light"
     },
     "output_type": "display_data"
    }
   ],
   "source": [
    "features = ['ExterCond','BsmtCond','GarageCond']\n",
    "corr = only_condition[['OverallCond'] + features].corr()\n",
    "\n",
    "corr = corr.sort_values('OverallCond', ascending=False)\n",
    "sns.barplot( corr.OverallCond[1:], corr.index[1:], orient='h')"
   ]
  },
  {
   "cell_type": "markdown",
   "metadata": {},
   "source": [
    "## Feature Engineering: Curb Appeal"
   ]
  },
  {
   "cell_type": "code",
   "execution_count": 3,
   "metadata": {},
   "outputs": [],
   "source": [
    "curb = housing.copy()"
   ]
  },
  {
   "cell_type": "code",
   "execution_count": 4,
   "metadata": {},
   "outputs": [],
   "source": [
    "curb['MasVnrArea'].replace(to_replace=0, value=np.nan, inplace=True)"
   ]
  },
  {
   "cell_type": "code",
   "execution_count": 5,
   "metadata": {},
   "outputs": [],
   "source": [
    "curb['MasVnrArea_bin'] = pd.qcut(curb['MasVnrArea'], q=5)"
   ]
  },
  {
   "cell_type": "code",
   "execution_count": 6,
   "metadata": {},
   "outputs": [],
   "source": [
    "curb['MasVnrArea_vals'] = pd.cut(x=curb['MasVnrArea'],\\\n",
    "                                 bins=[0.999, 104.0, 169.4, 242.0, 363.6,\\\n",
    "                                       1600], labels=[1,2,3,4,5])"
   ]
  },
  {
   "cell_type": "code",
   "execution_count": 7,
   "metadata": {},
   "outputs": [],
   "source": [
    "curb['LotFrontage'].replace(to_replace=0, value=np.nan, inplace=True)"
   ]
  },
  {
   "cell_type": "code",
   "execution_count": 8,
   "metadata": {},
   "outputs": [],
   "source": [
    "curb['LotFrontage_bin'] = pd.qcut(curb['LotFrontage'], q=5)"
   ]
  },
  {
   "cell_type": "code",
   "execution_count": 9,
   "metadata": {},
   "outputs": [],
   "source": [
    "curb['LotFrontage_vals'] = pd.cut(x=curb['LotFrontage'],\\\n",
    "                                 bins=[20.999, 52.0, 62.0, 72.0, 82.0,\\\n",
    "                                       313.0], labels=[1,2,3,4,5])"
   ]
  },
  {
   "cell_type": "code",
   "execution_count": 10,
   "metadata": {},
   "outputs": [],
   "source": [
    "curb = curb.replace(np.nan, 0)"
   ]
  },
  {
   "cell_type": "code",
   "execution_count": 11,
   "metadata": {},
   "outputs": [],
   "source": [
    "curb = curb.replace({\"Po\":1, \"Fa\":2, \"TA\":3, \"Gd\":4, \"Ex\":5})"
   ]
  },
  {
   "cell_type": "code",
   "execution_count": 12,
   "metadata": {},
   "outputs": [
    {
     "name": "stdout",
     "output_type": "stream",
     "text": [
      "Street\n",
      "Pave    178295.719455\n",
      "Grvl    117382.900000\n",
      "Name: SalePrice, dtype: float64\n"
     ]
    }
   ],
   "source": [
    "print(curb.groupby('Street')['SalePrice'].mean()\\\n",
    "      .sort_values(ascending=False))"
   ]
  },
  {
   "cell_type": "code",
   "execution_count": 13,
   "metadata": {},
   "outputs": [],
   "source": [
    "curb['Street'] = curb['Street'].replace({\"Grvl\":2, \"Pave\":4})"
   ]
  },
  {
   "cell_type": "code",
   "execution_count": 14,
   "metadata": {},
   "outputs": [
    {
     "name": "stdout",
     "output_type": "stream",
     "text": [
      "LotShape\n",
      "IR2    226790.633803\n",
      "IR3    209374.230769\n",
      "IR1    206628.735673\n",
      "Reg    160817.951859\n",
      "Name: SalePrice, dtype: float64\n"
     ]
    }
   ],
   "source": [
    "print(curb.groupby('LotShape')['SalePrice'].mean()\\\n",
    "      .sort_values(ascending=False))"
   ]
  },
  {
   "cell_type": "code",
   "execution_count": 15,
   "metadata": {},
   "outputs": [],
   "source": [
    "curb['LotShape'] = curb['LotShape'].replace\\\n",
    "({\"Reg\":1.5, \"IR1\":3, \"IR3\":3, \"IR2\":4.5})"
   ]
  },
  {
   "cell_type": "code",
   "execution_count": 16,
   "metadata": {},
   "outputs": [
    {
     "name": "stdout",
     "output_type": "stream",
     "text": [
      "LandContour\n",
      "HLS    239313.687500\n",
      "Low    201157.692308\n",
      "Lvl    176158.613607\n",
      "Bnk    150282.463158\n",
      "Name: SalePrice, dtype: float64\n"
     ]
    }
   ],
   "source": [
    "print(curb.groupby('LandContour')['SalePrice'].mean()\\\n",
    "      .sort_values(ascending=False))"
   ]
  },
  {
   "cell_type": "code",
   "execution_count": 17,
   "metadata": {},
   "outputs": [],
   "source": [
    "curb['LandContour'] = curb['LandContour'].replace\\\n",
    "({\"Bnk\":1.25, \"Lvl\":2.5, \"Low\":3.75, \"HLS\":5})"
   ]
  },
  {
   "cell_type": "code",
   "execution_count": 18,
   "metadata": {},
   "outputs": [
    {
     "name": "stdout",
     "output_type": "stream",
     "text": [
      "LotConfig\n",
      "CulDSac    219371.152439\n",
      "FR3        189638.461538\n",
      "Corner     178015.701595\n",
      "Inside     174649.191941\n",
      "FR2        171979.358974\n",
      "Name: SalePrice, dtype: float64\n"
     ]
    }
   ],
   "source": [
    "print(curb.groupby('LotConfig')['SalePrice'].mean()\\\n",
    "      .sort_values(ascending=False))"
   ]
  },
  {
   "cell_type": "code",
   "execution_count": 19,
   "metadata": {},
   "outputs": [],
   "source": [
    "curb['LotConfig'] = curb['LotConfig'].replace\\\n",
    "({\"FR2\":1, \"Inside\":2, \"Corner\":3, \"FR3\":4, \"CulDSac\":5})"
   ]
  },
  {
   "cell_type": "code",
   "execution_count": 20,
   "metadata": {},
   "outputs": [
    {
     "name": "stdout",
     "output_type": "stream",
     "text": [
      "LandSlope\n",
      "Sev    216496.153846\n",
      "Mod    203104.128440\n",
      "Gtl    176745.739626\n",
      "Name: SalePrice, dtype: float64\n"
     ]
    }
   ],
   "source": [
    "print(curb.groupby('LandSlope')['SalePrice'].mean()\\\n",
    "      .sort_values(ascending=False))"
   ]
  },
  {
   "cell_type": "code",
   "execution_count": 21,
   "metadata": {},
   "outputs": [],
   "source": [
    "curb['LandSlope'] = curb['LandSlope'].replace\\\n",
    "({\"Gtl\":1.5, \"Mod\":3, \"Sev\":5})"
   ]
  },
  {
   "cell_type": "code",
   "execution_count": 22,
   "metadata": {},
   "outputs": [
    {
     "name": "stdout",
     "output_type": "stream",
     "text": [
      "RoofStyle\n",
      "Shed       221500.000000\n",
      "Hip        215765.198732\n",
      "Flat       188843.750000\n",
      "Mansard    178447.900000\n",
      "Gable      169522.345799\n",
      "Gambrel    144355.555556\n",
      "Name: SalePrice, dtype: float64\n"
     ]
    }
   ],
   "source": [
    "print(curb.groupby('RoofStyle')['SalePrice'].mean()\\\n",
    "      .sort_values(ascending=False))"
   ]
  },
  {
   "cell_type": "code",
   "execution_count": 23,
   "metadata": {},
   "outputs": [],
   "source": [
    "curb['RoofStyle'] = curb['RoofStyle'].replace\\\n",
    "({\"Gambrel\":1, \"Gable\":2, \"Mansard\":3, \"Flat\":4,\"Hip\":5, \"Shed\":5})"
   ]
  },
  {
   "cell_type": "code",
   "execution_count": 24,
   "metadata": {},
   "outputs": [
    {
     "name": "stdout",
     "output_type": "stream",
     "text": [
      "RoofMatl\n",
      "WdShngl    374357.142857\n",
      "Membran    241500.000000\n",
      "WdShake    232375.000000\n",
      "Tar&Grv    185166.666667\n",
      "Metal      180000.000000\n",
      "CompShg    177288.847484\n",
      "Roll       137000.000000\n",
      "Name: SalePrice, dtype: float64\n"
     ]
    }
   ],
   "source": [
    "print(curb.groupby('RoofMatl')['SalePrice'].mean()\\\n",
    "      .sort_values(ascending=False))"
   ]
  },
  {
   "cell_type": "code",
   "execution_count": 25,
   "metadata": {},
   "outputs": [],
   "source": [
    "curb['RoofMatl'] = curb['RoofMatl'].replace\\\n",
    "({\"Roll\":1, \"CompShg\":2, \"Metal\":2, \"Tar&Grv\":2.5,\\\n",
    "  \"WdShake\":3, \"Membran\":4, \"WdShngl\":5})"
   ]
  },
  {
   "cell_type": "code",
   "execution_count": 26,
   "metadata": {},
   "outputs": [
    {
     "name": "stdout",
     "output_type": "stream",
     "text": [
      "Exterior1st\n",
      "ImStucc    262000.000000\n",
      "PreCast    260000.000000\n",
      "VinylSd    213723.040323\n",
      "CemntBd    213163.556701\n",
      "BrkFace    188901.875000\n",
      "Plywood    170596.922680\n",
      "HdBoard    162253.906250\n",
      "BrkComm    153000.000000\n",
      "MetalSd    152843.665848\n",
      "Stucco     149468.351351\n",
      "WdShing    148886.647059\n",
      "Wd Sdng    147727.379221\n",
      "AsbShng    106998.529412\n",
      "CBlock      93250.000000\n",
      "AsphShn     91187.500000\n",
      "Name: SalePrice, dtype: float64\n"
     ]
    }
   ],
   "source": [
    "print(curb.groupby('Exterior1st')['SalePrice'].mean()\\\n",
    "      .sort_values(ascending=False))"
   ]
  },
  {
   "cell_type": "code",
   "execution_count": 27,
   "metadata": {},
   "outputs": [],
   "source": [
    "curb['Exterior1st'] = curb['Exterior1st'].replace\\\n",
    "({\"AsphShn\":1, \"CBlock\":1, \"AsbShng\":2, \"Wd Sdng\":2.5,\\\n",
    "  \"WdShing\":2.5, \"Stucco\":2.5, \"MetalSd\":3, \"BrkComm\":3, \"HdBoard\":3.5,\\\n",
    "  \"Plywood\":4, \"BrkFace\":4, \"CemntBd\":4.5, \"VinylSd\":4.5, \"PreCast\":5,\\\n",
    "  \"ImStucc\":5})"
   ]
  },
  {
   "cell_type": "code",
   "execution_count": 29,
   "metadata": {},
   "outputs": [],
   "source": [
    "curb['curb_appeal']= (curb['MasVnrArea_vals'] + curb['LotFrontage_vals']\\\n",
    "+ curb['Street'] + curb['LotShape'] + curb['LandContour'] + curb['LotConfig']\\\n",
    "+ curb['LandSlope'] + curb['RoofStyle'] + curb['RoofMatl'] + curb['Exterior1st']\\\n",
    "+ curb['ExterQual'] + curb['ExterCond'])/12"
   ]
  },
  {
   "cell_type": "code",
   "execution_count": 30,
   "metadata": {},
   "outputs": [],
   "source": [
    "target = np.log10(curb['SalePrice'])"
   ]
  },
  {
   "cell_type": "code",
   "execution_count": 31,
   "metadata": {},
   "outputs": [],
   "source": [
    "independent = curb[['curb_appeal']]"
   ]
  },
  {
   "cell_type": "code",
   "execution_count": 32,
   "metadata": {},
   "outputs": [],
   "source": [
    "from sklearn.model_selection import train_test_split\n",
    "X_train1, X_test1, y_train1, y_test1 = train_test_split\\\n",
    "(independent, target, test_size=0.3, random_state=42)"
   ]
  },
  {
   "cell_type": "code",
   "execution_count": 33,
   "metadata": {},
   "outputs": [
    {
     "name": "stdout",
     "output_type": "stream",
     "text": [
      "R^2 for train set: 0.412844\n",
      "--------------------------------------------------\n",
      "R^2 for test  set: 0.457090\n"
     ]
    }
   ],
   "source": [
    "from sklearn.linear_model import LinearRegression \n",
    "\n",
    "ols1 = LinearRegression()\n",
    "ols1.fit(X_train1, y_train1)\n",
    "print(\"R^2 for train set: %f\" %ols1.score(X_train1, y_train1))\n",
    "\n",
    "print('-'*50)\n",
    "\n",
    "print(\"R^2 for test  set: %f\" %ols1.score(X_test1, y_test1))"
   ]
  },
  {
   "cell_type": "code",
   "execution_count": 35,
   "metadata": {},
   "outputs": [
    {
     "data": {
      "text/plain": [
       "0.6542807652928291"
      ]
     },
     "execution_count": 35,
     "metadata": {},
     "output_type": "execute_result"
    }
   ],
   "source": [
    "target.corr(curb['curb_appeal'])"
   ]
  },
  {
   "cell_type": "code",
   "execution_count": 37,
   "metadata": {},
   "outputs": [
    {
     "data": {
      "text/plain": [
       "<matplotlib.axes._subplots.AxesSubplot at 0x7fb288d13690>"
      ]
     },
     "execution_count": 37,
     "metadata": {},
     "output_type": "execute_result"
    },
    {
     "data": {
      "image/png": "[encoded data removed]",
      "text/plain": [
       "<Figure size 432x288 with 1 Axes>"
      ]
     },
     "metadata": {
      "needs_background": "light"
     },
     "output_type": "display_data"
    }
   ],
   "source": [
    "sns.scatterplot(x=curb['curb_appeal'], y=target, data=curb)"
   ]
  },
  {
   "cell_type": "code",
   "execution_count": 90,
   "metadata": {},
   "outputs": [],
   "source": [
    "curb_only = curb[['MasVnrArea_vals','LotFrontage_vals','Street',\\\n",
    "                  'LotShape','LandContour','LotConfig','LandSlope',\\\n",
    "                  'RoofStyle','RoofMatl','Exterior1st','ExterQual',\\\n",
    "                  'ExterCond']]"
   ]
  },
  {
   "cell_type": "code",
   "execution_count": 93,
   "metadata": {},
   "outputs": [],
   "source": [
    "from sklearn.linear_model import LinearRegression\n",
    "continuous_features = ['MasVnrArea_vals','LotFrontage_vals',\\\n",
    "                       'Street','LotShape','LandContour','LotConfig',\\\n",
    "                       'LandSlope','RoofStyle','RoofMatl','Exterior1st',\\\n",
    "                       'ExterQual','ExterCond']\n",
    "scores = {}\n",
    "ols = LinearRegression()\n",
    "from sklearn.metrics import r2_score\n",
    "for feature_name in continuous_features:\n",
    "                df3     = curb_only.copy()\n",
    "                feature = df3[feature_name].copy()\n",
    "                df3.drop(feature_name, axis=1, inplace=True)\n",
    "                ols.fit(df3, feature)\n",
    "                scores[feature_name] = ols.score(df3, feature)"
   ]
  },
  {
   "cell_type": "code",
   "execution_count": 94,
   "metadata": {},
   "outputs": [
    {
     "data": {
      "text/plain": [
       "Text(0.5, 1.0, '$R^2$ of a continuous feature against the other features')"
      ]
     },
     "execution_count": 94,
     "metadata": {},
     "output_type": "execute_result"
    },
    {
     "data": {
      "image/png": "[encoded data removed]",
      "text/plain": [
       "<Figure size 432x288 with 1 Axes>"
      ]
     },
     "metadata": {
      "needs_background": "light"
     },
     "output_type": "display_data"
    }
   ],
   "source": [
    "sns.barplot(x='R2', y='index', data=pd.DataFrame(scores, index=['R2'])\\\n",
    "            .T.reset_index())\n",
    "plt.title('$R^2$ of a continuous feature against the other features')"
   ]
  },
  {
   "cell_type": "code",
   "execution_count": null,
   "metadata": {},
   "outputs": [],
   "source": []
  }
 ],
 "metadata": {
  "kernelspec": {
   "display_name": "Python 3",
   "language": "python",
   "name": "python3"
  },
  "language_info": {
   "codemirror_mode": {
    "name": "ipython",
    "version": 3
   },
   "file_extension": ".py",
   "mimetype": "text/x-python",
   "name": "python",
   "nbconvert_exporter": "python",
   "pygments_lexer": "ipython3",
   "version": "3.7.6"
  }
 },
 "nbformat": 4,
 "nbformat_minor": 2
}
