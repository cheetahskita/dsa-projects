{
 "cells": [
  {
   "cell_type": "markdown",
   "metadata": {},
   "source": [
    "# Graphics Notebook for CVS Data"
   ]
  },
  {
   "cell_type": "markdown",
   "metadata": {},
   "source": [
    "For generating graphs to be used in presentation"
   ]
  },
  {
   "cell_type": "code",
   "execution_count": 1,
   "metadata": {},
   "outputs": [],
   "source": [
    "import pandas as pd\n",
    "from matplotlib import pyplot as plt\n",
    "from matplotlib import figure\n",
    "plt.style.use('ggplot')\n",
    "%matplotlib inline"
   ]
  },
  {
   "cell_type": "code",
   "execution_count": 5,
   "metadata": {},
   "outputs": [],
   "source": [
    "df_states = pd.read_csv('df_states.csv')\n",
    "df_cities = pd.read_csv('df_cities.csv')\n",
    "df_cvs = pd.read_csv('df_cvs.csv')"
   ]
  },
  {
   "cell_type": "markdown",
   "metadata": {},
   "source": [
    "### CVS Stores by State"
   ]
  },
  {
   "cell_type": "code",
   "execution_count": 16,
   "metadata": {},
   "outputs": [
    {
     "data": {
      "text/html": [
       "<div>\n",
       "<style scoped>\n",
       "    .dataframe tbody tr th:only-of-type {\n",
       "        vertical-align: middle;\n",
       "    }\n",
       "\n",
       "    .dataframe tbody tr th {\n",
       "        vertical-align: top;\n",
       "    }\n",
       "\n",
       "    .dataframe thead th {\n",
       "        text-align: right;\n",
       "    }\n",
       "</style>\n",
       "<table border=\"1\" class=\"dataframe\">\n",
       "  <thead>\n",
       "    <tr style=\"text-align: right;\">\n",
       "      <th></th>\n",
       "      <th>state</th>\n",
       "      <th>state_pop</th>\n",
       "      <th>city_count</th>\n",
       "      <th>cvs_count</th>\n",
       "      <th>under</th>\n",
       "      <th>under_count</th>\n",
       "    </tr>\n",
       "  </thead>\n",
       "  <tbody>\n",
       "    <tr>\n",
       "      <th>0</th>\n",
       "      <td>California</td>\n",
       "      <td>39512223</td>\n",
       "      <td>398</td>\n",
       "      <td>1175</td>\n",
       "      <td>True</td>\n",
       "      <td>10.0</td>\n",
       "    </tr>\n",
       "    <tr>\n",
       "      <th>1</th>\n",
       "      <td>Texas</td>\n",
       "      <td>28995881</td>\n",
       "      <td>280</td>\n",
       "      <td>843</td>\n",
       "      <td>True</td>\n",
       "      <td>27.0</td>\n",
       "    </tr>\n",
       "    <tr>\n",
       "      <th>2</th>\n",
       "      <td>Florida</td>\n",
       "      <td>21477737</td>\n",
       "      <td>267</td>\n",
       "      <td>874</td>\n",
       "      <td>False</td>\n",
       "      <td>-230.0</td>\n",
       "    </tr>\n",
       "    <tr>\n",
       "      <th>3</th>\n",
       "      <td>New York</td>\n",
       "      <td>19453561</td>\n",
       "      <td>293</td>\n",
       "      <td>572</td>\n",
       "      <td>True</td>\n",
       "      <td>12.0</td>\n",
       "    </tr>\n",
       "    <tr>\n",
       "      <th>4</th>\n",
       "      <td>Pennsylvania</td>\n",
       "      <td>12801989</td>\n",
       "      <td>278</td>\n",
       "      <td>487</td>\n",
       "      <td>False</td>\n",
       "      <td>-103.0</td>\n",
       "    </tr>\n",
       "  </tbody>\n",
       "</table>\n",
       "</div>"
      ],
      "text/plain": [
       "          state  state_pop  city_count  cvs_count  under  under_count\n",
       "0    California   39512223         398       1175   True         10.0\n",
       "1         Texas   28995881         280        843   True         27.0\n",
       "2       Florida   21477737         267        874  False       -230.0\n",
       "3      New York   19453561         293        572   True         12.0\n",
       "4  Pennsylvania   12801989         278        487  False       -103.0"
      ]
     },
     "execution_count": 16,
     "metadata": {},
     "output_type": "execute_result"
    }
   ],
   "source": [
    "df_states.head()"
   ]
  },
  {
   "cell_type": "code",
   "execution_count": 73,
   "metadata": {},
   "outputs": [],
   "source": [
    "green_states = df_states[df_states['under']==False].reset_index().sort_values('under_count',ascending=True)\n",
    "red_states = df_states[df_states['under']].reset_index().sort_values('under_count',ascending=True)"
   ]
  },
  {
   "cell_type": "code",
   "execution_count": 272,
   "metadata": {},
   "outputs": [
    {
     "data": {
      "image/png": "[encoded data removed]",
      "text/plain": [
       "<Figure size 432x432 with 1 Axes>"
      ]
     },
     "metadata": {
      "needs_background": "light"
     },
     "output_type": "display_data"
    }
   ],
   "source": [
    "trendline = [[0,40000000/1e6],[0,40000000/33333]]\n",
    "fig, ax = plt.subplots(figsize=(6,6))\n",
    "\n",
    "plt.scatter(green_states['state_pop']/1e6, green_states['cvs_count'], c='g')\n",
    "# for i, txt in enumerate(green_states.state):\n",
    "#     ax.annotate(txt, (green_states['state_pop'][i], green_states['cvs_count'][i]), size=6, ha='left')\n",
    "\n",
    "plt.scatter(red_states['state_pop']/1e6, red_states['cvs_count'], c='r')\n",
    "# for i, txt in enumerate(red_states.state):\n",
    "#     ax.annotate(txt, (red_states['state_pop'][i], red_states['cvs_count'][i]), size=6)\n",
    "\n",
    "plt.plot(trendline[0],trendline[1])\n",
    "\n",
    "plt.xlabel('State Population (in MM)')\n",
    "plt.ylabel('Total Number of CVS Stores')\n",
    "plt.title('CVS Stores per State by Population')"
   ]
  },
  {
   "cell_type": "code",
   "execution_count": 281,
   "metadata": {},
   "outputs": [
    {
     "data": {
      "image/png": "[encoded data removed]",
      "text/plain": [
       "<Figure size 576x432 with 1 Axes>"
      ]
     },
     "metadata": {
      "needs_background": "light"
     },
     "output_type": "display_data"
    }
   ],
   "source": [
    "green_states_bar = green_states[0:10]\n",
    "red_states_bar = red_states[-10:]\n",
    "\n",
    "fig, ax = plt.subplots(figsize=(8, 6))\n",
    "ax.bar(green_states_bar['state'],-green_states_bar['under_count'],color='g')\n",
    "# ax.set_xticklabels(green_states['state'], rotation=90, ha='center')\n",
    "\n",
    "ax.bar(red_states_bar['state'],-red_states_bar['under_count'],color='r')\n",
    "ax.set_xticklabels(pd.concat([green_states_bar['state'],red_states_bar['state']]), rotation=90, ha='center')\n",
    "\n",
    "# plt.xlabel('State')\n",
    "plt.ylabel('Expected Number of CVS Stores')\n",
    "plt.title('Expected CVS Stores per State Based on Population')"
   ]
  },
  {
   "cell_type": "markdown",
   "metadata": {},
   "source": [
    "### CVS Stores by City"
   ]
  },
  {
   "cell_type": "code",
   "execution_count": 119,
   "metadata": {},
   "outputs": [
    {
     "data": {
      "text/html": [
       "<div>\n",
       "<style scoped>\n",
       "    .dataframe tbody tr th:only-of-type {\n",
       "        vertical-align: middle;\n",
       "    }\n",
       "\n",
       "    .dataframe tbody tr th {\n",
       "        vertical-align: top;\n",
       "    }\n",
       "\n",
       "    .dataframe thead th {\n",
       "        text-align: right;\n",
       "    }\n",
       "</style>\n",
       "<table border=\"1\" class=\"dataframe\">\n",
       "  <thead>\n",
       "    <tr style=\"text-align: right;\">\n",
       "      <th></th>\n",
       "      <th>state</th>\n",
       "      <th>city</th>\n",
       "      <th>city_pop</th>\n",
       "      <th>cvs_count</th>\n",
       "      <th>under</th>\n",
       "      <th>under_count</th>\n",
       "    </tr>\n",
       "  </thead>\n",
       "  <tbody>\n",
       "    <tr>\n",
       "      <th>0</th>\n",
       "      <td>Wyoming</td>\n",
       "      <td>Cheyenne</td>\n",
       "      <td>64235</td>\n",
       "      <td>1</td>\n",
       "      <td>True</td>\n",
       "      <td>1.0</td>\n",
       "    </tr>\n",
       "    <tr>\n",
       "      <th>1</th>\n",
       "      <td>Wyoming</td>\n",
       "      <td>Casper</td>\n",
       "      <td>57931</td>\n",
       "      <td>1</td>\n",
       "      <td>True</td>\n",
       "      <td>1.0</td>\n",
       "    </tr>\n",
       "    <tr>\n",
       "      <th>2</th>\n",
       "      <td>Wisconsin</td>\n",
       "      <td>Racine</td>\n",
       "      <td>76760</td>\n",
       "      <td>2</td>\n",
       "      <td>True</td>\n",
       "      <td>0.0</td>\n",
       "    </tr>\n",
       "    <tr>\n",
       "      <th>3</th>\n",
       "      <td>Wisconsin</td>\n",
       "      <td>Appleton</td>\n",
       "      <td>74098</td>\n",
       "      <td>4</td>\n",
       "      <td>False</td>\n",
       "      <td>-2.0</td>\n",
       "    </tr>\n",
       "    <tr>\n",
       "      <th>4</th>\n",
       "      <td>Wisconsin</td>\n",
       "      <td>West Allis</td>\n",
       "      <td>59890</td>\n",
       "      <td>3</td>\n",
       "      <td>False</td>\n",
       "      <td>-1.0</td>\n",
       "    </tr>\n",
       "  </tbody>\n",
       "</table>\n",
       "</div>"
      ],
      "text/plain": [
       "       state        city  city_pop  cvs_count  under  under_count\n",
       "0    Wyoming    Cheyenne     64235          1   True          1.0\n",
       "1    Wyoming      Casper     57931          1   True          1.0\n",
       "2  Wisconsin      Racine     76760          2   True          0.0\n",
       "3  Wisconsin    Appleton     74098          4  False         -2.0\n",
       "4  Wisconsin  West Allis     59890          3  False         -1.0"
      ]
     },
     "execution_count": 119,
     "metadata": {},
     "output_type": "execute_result"
    }
   ],
   "source": [
    "df_cities.head()"
   ]
  },
  {
   "cell_type": "code",
   "execution_count": 144,
   "metadata": {},
   "outputs": [
    {
     "data": {
      "text/plain": [
       "Text(0.5, 1.0, 'CVS Stores per City by Population')"
      ]
     },
     "execution_count": 144,
     "metadata": {},
     "output_type": "execute_result"
    },
    {
     "data": {
      "image/png": "[encoded data removed]",
      "text/plain": [
       "<Figure size 432x432 with 1 Axes>"
      ]
     },
     "metadata": {
      "needs_background": "light"
     },
     "output_type": "display_data"
    }
   ],
   "source": [
    "green_cities = df_cities[df_cities['under']==False].reset_index().sort_values('under_count',ascending=True)\n",
    "red_cities = df_cities[df_cities['under']].reset_index().sort_values('under_count',ascending=True)\n",
    "\n",
    "trendline = [[0,3000000/1e6],[0,3000000/33333]]\n",
    "fig, ax = plt.subplots(figsize=(6,6))\n",
    "\n",
    "plt.scatter(green_cities['city_pop']/1e6, green_cities['cvs_count'], c='g')\n",
    "# for i, txt in enumerate(green_states.state):\n",
    "#     ax.annotate(txt, (green_states['state_pop'][i], green_states['cvs_count'][i]), size=6, ha='left')\n",
    "\n",
    "plt.scatter(red_cities['city_pop']/1e6, red_cities['cvs_count'], c='r')\n",
    "# for i, txt in enumerate(red_states.state):\n",
    "#     ax.annotate(txt, (red_states['state_pop'][i], red_states['cvs_count'][i]), size=6)\n",
    "\n",
    "plt.plot(trendline[0],trendline[1])\n",
    "\n",
    "plt.xlabel('City Population (in MM)')\n",
    "plt.ylabel('Total Number of CVS Stores')\n",
    "plt.title('CVS Stores per City by Population')"
   ]
  },
  {
   "cell_type": "code",
   "execution_count": 123,
   "metadata": {},
   "outputs": [
    {
     "data": {
      "text/plain": [
       "Text(0.5, 1.0, 'Expected CVS Stores per City Based on Population')"
      ]
     },
     "execution_count": 123,
     "metadata": {},
     "output_type": "execute_result"
    },
    {
     "data": {
      "image/png": "[encoded data removed]",
      "text/plain": [
       "<Figure size 576x432 with 1 Axes>"
      ]
     },
     "metadata": {
      "needs_background": "light"
     },
     "output_type": "display_data"
    }
   ],
   "source": [
    "green_cities = df_cities.sort_values('under_count')[0:10]\n",
    "red_cities = df_cities.sort_values('under_count')[-10:]\n",
    "\n",
    "fig, ax = plt.subplots(figsize=(8, 6))\n",
    "ax.bar(green_cities['city'],-green_cities['under_count'],color='g')\n",
    "# ax.set_xticklabels(green_states['state'], rotation=90, ha='center')\n",
    "\n",
    "ax.bar(red_cities['city'],-red_cities['under_count'],color='r')\n",
    "ax.set_xticklabels(pd.concat([green_cities['city'],red_cities['city']]), rotation=90, ha='center')\n",
    "\n",
    "plt.xlabel('City')\n",
    "plt.ylabel('Expected Number of CVS Stores')\n",
    "plt.title('Expected CVS Stores per City Based on Population')"
   ]
  },
  {
   "cell_type": "markdown",
   "metadata": {},
   "source": [
    "### City and State Combined"
   ]
  },
  {
   "cell_type": "code",
   "execution_count": 145,
   "metadata": {},
   "outputs": [
    {
     "data": {
      "text/html": [
       "<div>\n",
       "<style scoped>\n",
       "    .dataframe tbody tr th:only-of-type {\n",
       "        vertical-align: middle;\n",
       "    }\n",
       "\n",
       "    .dataframe tbody tr th {\n",
       "        vertical-align: top;\n",
       "    }\n",
       "\n",
       "    .dataframe thead th {\n",
       "        text-align: right;\n",
       "    }\n",
       "</style>\n",
       "<table border=\"1\" class=\"dataframe\">\n",
       "  <thead>\n",
       "    <tr style=\"text-align: right;\">\n",
       "      <th></th>\n",
       "      <th>state</th>\n",
       "      <th>state_pop</th>\n",
       "      <th>city_count</th>\n",
       "      <th>cvs_count_state</th>\n",
       "      <th>under_state</th>\n",
       "      <th>under_count_state</th>\n",
       "      <th>city</th>\n",
       "      <th>city_pop</th>\n",
       "      <th>cvs_count_city</th>\n",
       "      <th>under_city</th>\n",
       "      <th>under_count_city</th>\n",
       "    </tr>\n",
       "  </thead>\n",
       "  <tbody>\n",
       "    <tr>\n",
       "      <th>0</th>\n",
       "      <td>Alabama</td>\n",
       "      <td>4903185</td>\n",
       "      <td>100</td>\n",
       "      <td>180</td>\n",
       "      <td>False</td>\n",
       "      <td>-33.0</td>\n",
       "      <td>Huntsville</td>\n",
       "      <td>200574.0</td>\n",
       "      <td>9.0</td>\n",
       "      <td>False</td>\n",
       "      <td>-3.0</td>\n",
       "    </tr>\n",
       "    <tr>\n",
       "      <th>1</th>\n",
       "      <td>Alabama</td>\n",
       "      <td>4903185</td>\n",
       "      <td>100</td>\n",
       "      <td>180</td>\n",
       "      <td>False</td>\n",
       "      <td>-33.0</td>\n",
       "      <td>Madison</td>\n",
       "      <td>51593.0</td>\n",
       "      <td>3.0</td>\n",
       "      <td>False</td>\n",
       "      <td>-1.0</td>\n",
       "    </tr>\n",
       "    <tr>\n",
       "      <th>2</th>\n",
       "      <td>Alabama</td>\n",
       "      <td>4903185</td>\n",
       "      <td>100</td>\n",
       "      <td>180</td>\n",
       "      <td>False</td>\n",
       "      <td>-33.0</td>\n",
       "      <td>Birmingham</td>\n",
       "      <td>209403.0</td>\n",
       "      <td>12.0</td>\n",
       "      <td>False</td>\n",
       "      <td>-6.0</td>\n",
       "    </tr>\n",
       "    <tr>\n",
       "      <th>3</th>\n",
       "      <td>Alabama</td>\n",
       "      <td>4903185</td>\n",
       "      <td>100</td>\n",
       "      <td>180</td>\n",
       "      <td>False</td>\n",
       "      <td>-33.0</td>\n",
       "      <td>Montgomery</td>\n",
       "      <td>198525.0</td>\n",
       "      <td>11.0</td>\n",
       "      <td>False</td>\n",
       "      <td>-5.0</td>\n",
       "    </tr>\n",
       "    <tr>\n",
       "      <th>4</th>\n",
       "      <td>Alabama</td>\n",
       "      <td>4903185</td>\n",
       "      <td>100</td>\n",
       "      <td>180</td>\n",
       "      <td>False</td>\n",
       "      <td>-33.0</td>\n",
       "      <td>Mobile</td>\n",
       "      <td>188720.0</td>\n",
       "      <td>13.0</td>\n",
       "      <td>False</td>\n",
       "      <td>-7.0</td>\n",
       "    </tr>\n",
       "  </tbody>\n",
       "</table>\n",
       "</div>"
      ],
      "text/plain": [
       "     state  state_pop  city_count  cvs_count_state  under_state  \\\n",
       "0  Alabama    4903185         100              180        False   \n",
       "1  Alabama    4903185         100              180        False   \n",
       "2  Alabama    4903185         100              180        False   \n",
       "3  Alabama    4903185         100              180        False   \n",
       "4  Alabama    4903185         100              180        False   \n",
       "\n",
       "   under_count_state        city  city_pop  cvs_count_city under_city  \\\n",
       "0              -33.0  Huntsville  200574.0             9.0      False   \n",
       "1              -33.0     Madison   51593.0             3.0      False   \n",
       "2              -33.0  Birmingham  209403.0            12.0      False   \n",
       "3              -33.0  Montgomery  198525.0            11.0      False   \n",
       "4              -33.0      Mobile  188720.0            13.0      False   \n",
       "\n",
       "   under_count_city  \n",
       "0              -3.0  \n",
       "1              -1.0  \n",
       "2              -6.0  \n",
       "3              -5.0  \n",
       "4              -7.0  "
      ]
     },
     "execution_count": 145,
     "metadata": {},
     "output_type": "execute_result"
    }
   ],
   "source": [
    "df_cvs.head()"
   ]
  },
  {
   "cell_type": "code",
   "execution_count": 168,
   "metadata": {},
   "outputs": [
    {
     "data": {
      "text/html": [
       "<div>\n",
       "<style scoped>\n",
       "    .dataframe tbody tr th:only-of-type {\n",
       "        vertical-align: middle;\n",
       "    }\n",
       "\n",
       "    .dataframe tbody tr th {\n",
       "        vertical-align: top;\n",
       "    }\n",
       "\n",
       "    .dataframe thead th {\n",
       "        text-align: right;\n",
       "    }\n",
       "</style>\n",
       "<table border=\"1\" class=\"dataframe\">\n",
       "  <thead>\n",
       "    <tr style=\"text-align: right;\">\n",
       "      <th></th>\n",
       "      <th>under_count_state</th>\n",
       "      <th>under_count_city</th>\n",
       "    </tr>\n",
       "    <tr>\n",
       "      <th>state</th>\n",
       "      <th></th>\n",
       "      <th></th>\n",
       "    </tr>\n",
       "  </thead>\n",
       "  <tbody>\n",
       "    <tr>\n",
       "      <th>New York</th>\n",
       "      <td>12.0</td>\n",
       "      <td>168.0</td>\n",
       "    </tr>\n",
       "    <tr>\n",
       "      <th>Colorado</th>\n",
       "      <td>122.0</td>\n",
       "      <td>52.0</td>\n",
       "    </tr>\n",
       "    <tr>\n",
       "      <th>Washington</th>\n",
       "      <td>183.0</td>\n",
       "      <td>48.0</td>\n",
       "    </tr>\n",
       "    <tr>\n",
       "      <th>Oregon</th>\n",
       "      <td>105.0</td>\n",
       "      <td>27.0</td>\n",
       "    </tr>\n",
       "    <tr>\n",
       "      <th>Puerto Rico</th>\n",
       "      <td>74.0</td>\n",
       "      <td>20.0</td>\n",
       "    </tr>\n",
       "    <tr>\n",
       "      <th>Idaho</th>\n",
       "      <td>51.0</td>\n",
       "      <td>9.0</td>\n",
       "    </tr>\n",
       "    <tr>\n",
       "      <th>Arkansas</th>\n",
       "      <td>68.0</td>\n",
       "      <td>8.0</td>\n",
       "    </tr>\n",
       "    <tr>\n",
       "      <th>Alaska</th>\n",
       "      <td>18.0</td>\n",
       "      <td>7.0</td>\n",
       "    </tr>\n",
       "    <tr>\n",
       "      <th>New Mexico</th>\n",
       "      <td>38.0</td>\n",
       "      <td>7.0</td>\n",
       "    </tr>\n",
       "    <tr>\n",
       "      <th>Utah</th>\n",
       "      <td>67.0</td>\n",
       "      <td>7.0</td>\n",
       "    </tr>\n",
       "    <tr>\n",
       "      <th>Wisconsin</th>\n",
       "      <td>93.0</td>\n",
       "      <td>5.0</td>\n",
       "    </tr>\n",
       "    <tr>\n",
       "      <th>South Dakota</th>\n",
       "      <td>24.0</td>\n",
       "      <td>4.0</td>\n",
       "    </tr>\n",
       "    <tr>\n",
       "      <th>North Dakota</th>\n",
       "      <td>17.0</td>\n",
       "      <td>3.0</td>\n",
       "    </tr>\n",
       "    <tr>\n",
       "      <th>Nebraska</th>\n",
       "      <td>28.0</td>\n",
       "      <td>2.0</td>\n",
       "    </tr>\n",
       "    <tr>\n",
       "      <th>Wyoming</th>\n",
       "      <td>15.0</td>\n",
       "      <td>2.0</td>\n",
       "    </tr>\n",
       "    <tr>\n",
       "      <th>Kentucky</th>\n",
       "      <td>53.0</td>\n",
       "      <td>0.0</td>\n",
       "    </tr>\n",
       "    <tr>\n",
       "      <th>Kansas</th>\n",
       "      <td>33.0</td>\n",
       "      <td>0.0</td>\n",
       "    </tr>\n",
       "    <tr>\n",
       "      <th>Iowa</th>\n",
       "      <td>56.0</td>\n",
       "      <td>0.0</td>\n",
       "    </tr>\n",
       "    <tr>\n",
       "      <th>Vermont</th>\n",
       "      <td>10.0</td>\n",
       "      <td>0.0</td>\n",
       "    </tr>\n",
       "    <tr>\n",
       "      <th>Montana</th>\n",
       "      <td>16.0</td>\n",
       "      <td>-2.0</td>\n",
       "    </tr>\n",
       "    <tr>\n",
       "      <th>Mississippi</th>\n",
       "      <td>32.0</td>\n",
       "      <td>-2.0</td>\n",
       "    </tr>\n",
       "    <tr>\n",
       "      <th>Maine</th>\n",
       "      <td>15.0</td>\n",
       "      <td>-2.0</td>\n",
       "    </tr>\n",
       "    <tr>\n",
       "      <th>Delaware</th>\n",
       "      <td>9.0</td>\n",
       "      <td>-2.0</td>\n",
       "    </tr>\n",
       "    <tr>\n",
       "      <th>Minnesota</th>\n",
       "      <td>36.0</td>\n",
       "      <td>-3.0</td>\n",
       "    </tr>\n",
       "    <tr>\n",
       "      <th>Tennessee</th>\n",
       "      <td>44.0</td>\n",
       "      <td>-3.0</td>\n",
       "    </tr>\n",
       "    <tr>\n",
       "      <th>Oklahoma</th>\n",
       "      <td>41.0</td>\n",
       "      <td>-7.0</td>\n",
       "    </tr>\n",
       "    <tr>\n",
       "      <th>Arizona</th>\n",
       "      <td>21.0</td>\n",
       "      <td>-14.0</td>\n",
       "    </tr>\n",
       "    <tr>\n",
       "      <th>California</th>\n",
       "      <td>10.0</td>\n",
       "      <td>-18.0</td>\n",
       "    </tr>\n",
       "    <tr>\n",
       "      <th>Louisiana</th>\n",
       "      <td>4.0</td>\n",
       "      <td>-22.0</td>\n",
       "    </tr>\n",
       "    <tr>\n",
       "      <th>Texas</th>\n",
       "      <td>27.0</td>\n",
       "      <td>-68.0</td>\n",
       "    </tr>\n",
       "  </tbody>\n",
       "</table>\n",
       "</div>"
      ],
      "text/plain": [
       "              under_count_state  under_count_city\n",
       "state                                            \n",
       "New York                   12.0             168.0\n",
       "Colorado                  122.0              52.0\n",
       "Washington                183.0              48.0\n",
       "Oregon                    105.0              27.0\n",
       "Puerto Rico                74.0              20.0\n",
       "Idaho                      51.0               9.0\n",
       "Arkansas                   68.0               8.0\n",
       "Alaska                     18.0               7.0\n",
       "New Mexico                 38.0               7.0\n",
       "Utah                       67.0               7.0\n",
       "Wisconsin                  93.0               5.0\n",
       "South Dakota               24.0               4.0\n",
       "North Dakota               17.0               3.0\n",
       "Nebraska                   28.0               2.0\n",
       "Wyoming                    15.0               2.0\n",
       "Kentucky                   53.0               0.0\n",
       "Kansas                     33.0               0.0\n",
       "Iowa                       56.0               0.0\n",
       "Vermont                    10.0               0.0\n",
       "Montana                    16.0              -2.0\n",
       "Mississippi                32.0              -2.0\n",
       "Maine                      15.0              -2.0\n",
       "Delaware                    9.0              -2.0\n",
       "Minnesota                  36.0              -3.0\n",
       "Tennessee                  44.0              -3.0\n",
       "Oklahoma                   41.0              -7.0\n",
       "Arizona                    21.0             -14.0\n",
       "California                 10.0             -18.0\n",
       "Louisiana                   4.0             -22.0\n",
       "Texas                      27.0             -68.0"
      ]
     },
     "execution_count": 168,
     "metadata": {},
     "output_type": "execute_result"
    }
   ],
   "source": [
    "cvs_graph = df_cvs.groupby('state').agg({'under_count_state':'mean','under_count_city':'sum'})\n",
    "cvs_graph = cvs_graph[cvs_graph['under_count_state'] > 0]\n",
    "cvs_graph.sort_values('under_count_city',ascending=False)"
   ]
  },
  {
   "cell_type": "code",
   "execution_count": 284,
   "metadata": {},
   "outputs": [
    {
     "data": {
      "text/plain": [
       "Text(0.5, 1.0, 'Demand for CVS Stores')"
      ]
     },
     "execution_count": 284,
     "metadata": {},
     "output_type": "execute_result"
    },
    {
     "data": {
      "image/png": "[encoded data removed]",
      "text/plain": [
       "<Figure size 504x360 with 1 Axes>"
      ]
     },
     "metadata": {
      "needs_background": "light"
     },
     "output_type": "display_data"
    }
   ],
   "source": [
    "trendline = [[0,200],[9,9]]\n",
    "\n",
    "circle_points = cvs_graph[cvs_graph['under_count_city'] > 9]\n",
    "square_points = cvs_graph[cvs_graph['under_count_city'] <= 9]\n",
    "\n",
    "plt.figure(figsize=(7, 5))\n",
    "plt.scatter(circle_points['under_count_state'],circle_points['under_count_city'],color='c')\n",
    "plt.scatter(square_points['under_count_state'],square_points['under_count_city'],color='m',marker='s')\n",
    "plt.legend(['Higher demand inside of Cities','Higher demand outside of Cities'])\n",
    "plt.plot(trendline[0],trendline[1],color='m')\n",
    "\n",
    "plt.xlabel('Demand in Overall State')\n",
    "plt.ylabel('Demand in Major Cities')\n",
    "plt.title('Demand for CVS Stores')"
   ]
  },
  {
   "cell_type": "code",
   "execution_count": 204,
   "metadata": {},
   "outputs": [
    {
     "data": {
      "text/html": [
       "<div>\n",
       "<style scoped>\n",
       "    .dataframe tbody tr th:only-of-type {\n",
       "        vertical-align: middle;\n",
       "    }\n",
       "\n",
       "    .dataframe tbody tr th {\n",
       "        vertical-align: top;\n",
       "    }\n",
       "\n",
       "    .dataframe thead th {\n",
       "        text-align: right;\n",
       "    }\n",
       "</style>\n",
       "<table border=\"1\" class=\"dataframe\">\n",
       "  <thead>\n",
       "    <tr style=\"text-align: right;\">\n",
       "      <th></th>\n",
       "      <th>under_count_state</th>\n",
       "      <th>under_count_city</th>\n",
       "    </tr>\n",
       "    <tr>\n",
       "      <th>state</th>\n",
       "      <th></th>\n",
       "      <th></th>\n",
       "    </tr>\n",
       "  </thead>\n",
       "  <tbody>\n",
       "    <tr>\n",
       "      <th>Washington</th>\n",
       "      <td>183.0</td>\n",
       "      <td>48.0</td>\n",
       "    </tr>\n",
       "    <tr>\n",
       "      <th>Colorado</th>\n",
       "      <td>122.0</td>\n",
       "      <td>52.0</td>\n",
       "    </tr>\n",
       "    <tr>\n",
       "      <th>Oregon</th>\n",
       "      <td>105.0</td>\n",
       "      <td>27.0</td>\n",
       "    </tr>\n",
       "    <tr>\n",
       "      <th>Puerto Rico</th>\n",
       "      <td>74.0</td>\n",
       "      <td>20.0</td>\n",
       "    </tr>\n",
       "  </tbody>\n",
       "</table>\n",
       "</div>"
      ],
      "text/plain": [
       "             under_count_state  under_count_city\n",
       "state                                           \n",
       "Washington               183.0              48.0\n",
       "Colorado                 122.0              52.0\n",
       "Oregon                   105.0              27.0\n",
       "Puerto Rico               74.0              20.0"
      ]
     },
     "execution_count": 204,
     "metadata": {},
     "output_type": "execute_result"
    }
   ],
   "source": [
    "circle_points.sort_values('under_count_state',ascending=False)[0:4]"
   ]
  },
  {
   "cell_type": "code",
   "execution_count": 205,
   "metadata": {},
   "outputs": [
    {
     "data": {
      "text/html": [
       "<div>\n",
       "<style scoped>\n",
       "    .dataframe tbody tr th:only-of-type {\n",
       "        vertical-align: middle;\n",
       "    }\n",
       "\n",
       "    .dataframe tbody tr th {\n",
       "        vertical-align: top;\n",
       "    }\n",
       "\n",
       "    .dataframe thead th {\n",
       "        text-align: right;\n",
       "    }\n",
       "</style>\n",
       "<table border=\"1\" class=\"dataframe\">\n",
       "  <thead>\n",
       "    <tr style=\"text-align: right;\">\n",
       "      <th></th>\n",
       "      <th>under_count_state</th>\n",
       "      <th>under_count_city</th>\n",
       "    </tr>\n",
       "    <tr>\n",
       "      <th>state</th>\n",
       "      <th></th>\n",
       "      <th></th>\n",
       "    </tr>\n",
       "  </thead>\n",
       "  <tbody>\n",
       "    <tr>\n",
       "      <th>Wisconsin</th>\n",
       "      <td>93.0</td>\n",
       "      <td>5.0</td>\n",
       "    </tr>\n",
       "    <tr>\n",
       "      <th>Arkansas</th>\n",
       "      <td>68.0</td>\n",
       "      <td>8.0</td>\n",
       "    </tr>\n",
       "    <tr>\n",
       "      <th>Utah</th>\n",
       "      <td>67.0</td>\n",
       "      <td>7.0</td>\n",
       "    </tr>\n",
       "    <tr>\n",
       "      <th>Iowa</th>\n",
       "      <td>56.0</td>\n",
       "      <td>0.0</td>\n",
       "    </tr>\n",
       "    <tr>\n",
       "      <th>Kentucky</th>\n",
       "      <td>53.0</td>\n",
       "      <td>0.0</td>\n",
       "    </tr>\n",
       "    <tr>\n",
       "      <th>Idaho</th>\n",
       "      <td>51.0</td>\n",
       "      <td>9.0</td>\n",
       "    </tr>\n",
       "  </tbody>\n",
       "</table>\n",
       "</div>"
      ],
      "text/plain": [
       "           under_count_state  under_count_city\n",
       "state                                         \n",
       "Wisconsin               93.0               5.0\n",
       "Arkansas                68.0               8.0\n",
       "Utah                    67.0               7.0\n",
       "Iowa                    56.0               0.0\n",
       "Kentucky                53.0               0.0\n",
       "Idaho                   51.0               9.0"
      ]
     },
     "execution_count": 205,
     "metadata": {},
     "output_type": "execute_result"
    }
   ],
   "source": [
    "square_points.sort_values('under_count_state',ascending=False)[0:6]"
   ]
  },
  {
   "cell_type": "code",
   "execution_count": 219,
   "metadata": {},
   "outputs": [
    {
     "data": {
      "text/plain": [
       "Text(0.5, 1.0, 'Top 10 States for Store Expansion')"
      ]
     },
     "execution_count": 219,
     "metadata": {},
     "output_type": "execute_result"
    },
    {
     "data": {
      "image/png": "[encoded data removed]",
      "text/plain": [
       "<Figure size 432x432 with 1 Axes>"
      ]
     },
     "metadata": {
      "needs_background": "light"
     },
     "output_type": "display_data"
    }
   ],
   "source": [
    "circle_points = cvs_graph[cvs_graph['under_count_city'] > 9].sort_values('under_count_state',ascending=False)[0:4]\n",
    "square_points = cvs_graph[cvs_graph['under_count_city'] <= 9].sort_values('under_count_state',ascending=False)[0:6]\n",
    "\n",
    "fig, ax = plt.subplots(figsize=(6,6))\n",
    "\n",
    "plt.scatter(circle_points['under_count_state'],circle_points['under_count_city'],color='c')\n",
    "for i, txt in enumerate(circle_points.index):\n",
    "    ax.annotate(txt, (circle_points['under_count_state'][i], circle_points['under_count_city'][i]), size=8)\n",
    "    \n",
    "plt.scatter(square_points['under_count_state'],square_points['under_count_city'],color='m',marker='s')\n",
    "for i, txt in enumerate(square_points.index):\n",
    "    ax.annotate(txt, (square_points['under_count_state'][i], square_points['under_count_city'][i]), size=8)\n",
    "    \n",
    "plt.legend(['Expand in Cities','Expand outside of Cities'])\n",
    "\n",
    "plt.xlabel('Demand in Overall State')\n",
    "plt.ylabel('Demand in Major Cities')\n",
    "plt.title('Top 10 States for Store Expansion')"
   ]
  },
  {
   "cell_type": "code",
   "execution_count": 233,
   "metadata": {},
   "outputs": [
    {
     "data": {
      "text/plain": [
       "['Washington',\n",
       " 'Colorado',\n",
       " 'Oregon',\n",
       " 'Puerto Rico',\n",
       " 'Wisconsin',\n",
       " 'Arkansas',\n",
       " 'Utah',\n",
       " 'Iowa',\n",
       " 'Kentucky',\n",
       " 'Idaho']"
      ]
     },
     "execution_count": 233,
     "metadata": {},
     "output_type": "execute_result"
    }
   ],
   "source": [
    "circle_points.index.tolist() + square_points.index.tolist()"
   ]
  },
  {
   "cell_type": "code",
   "execution_count": 285,
   "metadata": {},
   "outputs": [
    {
     "data": {
      "text/plain": [
       "Text(0.5, 1.0, 'Top 10 States for CVS Store Expansion')"
      ]
     },
     "execution_count": 285,
     "metadata": {},
     "output_type": "execute_result"
    },
    {
     "data": {
      "image/png": "[encoded data removed]",
      "text/plain": [
       "<Figure size 576x432 with 1 Axes>"
      ]
     },
     "metadata": {
      "needs_background": "light"
     },
     "output_type": "display_data"
    }
   ],
   "source": [
    "circle_points = cvs_graph[cvs_graph['under_count_city'] > 9].sort_values('under_count_state',ascending=False)[0:4]\n",
    "square_points = cvs_graph[cvs_graph['under_count_city'] <= 9].sort_values('under_count_state',ascending=False)[0:6]\n",
    "\n",
    "fig, ax = plt.subplots(figsize=(8, 6))\n",
    "\n",
    "ax.bar(circle_points.index,circle_points['under_count_state'],color='c')\n",
    "\n",
    "ax.bar(square_points.index,square_points['under_count_state'],color='m')\n",
    "ax.set_xticklabels(circle_points.index.tolist() + square_points.index.tolist(), rotation=45, ha='right')\n",
    "\n",
    "plt.legend(['Expand inside of Cities','Expand outside of Cities'])\n",
    "plt.xlabel('State')\n",
    "plt.ylabel('Demand for CVS Stores')\n",
    "plt.title('Top 10 States for CVS Store Expansion')"
   ]
  },
  {
   "cell_type": "code",
   "execution_count": 271,
   "metadata": {},
   "outputs": [
    {
     "data": {
      "text/html": [
       "<div>\n",
       "<style scoped>\n",
       "    .dataframe tbody tr th:only-of-type {\n",
       "        vertical-align: middle;\n",
       "    }\n",
       "\n",
       "    .dataframe tbody tr th {\n",
       "        vertical-align: top;\n",
       "    }\n",
       "\n",
       "    .dataframe thead th {\n",
       "        text-align: right;\n",
       "    }\n",
       "</style>\n",
       "<table border=\"1\" class=\"dataframe\">\n",
       "  <thead>\n",
       "    <tr style=\"text-align: right;\">\n",
       "      <th></th>\n",
       "      <th>city</th>\n",
       "      <th>state</th>\n",
       "      <th>under_count_city</th>\n",
       "      <th>under_count_state</th>\n",
       "    </tr>\n",
       "  </thead>\n",
       "  <tbody>\n",
       "    <tr>\n",
       "      <th>652</th>\n",
       "      <td>Seattle</td>\n",
       "      <td>Washington</td>\n",
       "      <td>14.0</td>\n",
       "      <td>183.0</td>\n",
       "    </tr>\n",
       "    <tr>\n",
       "      <th>645</th>\n",
       "      <td>Tacoma</td>\n",
       "      <td>Washington</td>\n",
       "      <td>6.0</td>\n",
       "      <td>183.0</td>\n",
       "    </tr>\n",
       "    <tr>\n",
       "      <th>646</th>\n",
       "      <td>Spokane</td>\n",
       "      <td>Washington</td>\n",
       "      <td>5.0</td>\n",
       "      <td>183.0</td>\n",
       "    </tr>\n",
       "    <tr>\n",
       "      <th>643</th>\n",
       "      <td>Vancouver</td>\n",
       "      <td>Washington</td>\n",
       "      <td>4.0</td>\n",
       "      <td>183.0</td>\n",
       "    </tr>\n",
       "    <tr>\n",
       "      <th>210</th>\n",
       "      <td>Denver</td>\n",
       "      <td>Colorado</td>\n",
       "      <td>15.0</td>\n",
       "      <td>122.0</td>\n",
       "    </tr>\n",
       "    <tr>\n",
       "      <th>209</th>\n",
       "      <td>Colorado Springs</td>\n",
       "      <td>Colorado</td>\n",
       "      <td>8.0</td>\n",
       "      <td>122.0</td>\n",
       "    </tr>\n",
       "    <tr>\n",
       "      <th>208</th>\n",
       "      <td>Aurora</td>\n",
       "      <td>Colorado</td>\n",
       "      <td>6.0</td>\n",
       "      <td>122.0</td>\n",
       "    </tr>\n",
       "    <tr>\n",
       "      <th>516</th>\n",
       "      <td>Portland</td>\n",
       "      <td>Oregon</td>\n",
       "      <td>12.0</td>\n",
       "      <td>105.0</td>\n",
       "    </tr>\n",
       "    <tr>\n",
       "      <th>517</th>\n",
       "      <td>Salem</td>\n",
       "      <td>Oregon</td>\n",
       "      <td>4.0</td>\n",
       "      <td>105.0</td>\n",
       "    </tr>\n",
       "    <tr>\n",
       "      <th>519</th>\n",
       "      <td>Eugene</td>\n",
       "      <td>Oregon</td>\n",
       "      <td>4.0</td>\n",
       "      <td>105.0</td>\n",
       "    </tr>\n",
       "    <tr>\n",
       "      <th>537</th>\n",
       "      <td>San Juan</td>\n",
       "      <td>Puerto Rico</td>\n",
       "      <td>10.0</td>\n",
       "      <td>74.0</td>\n",
       "    </tr>\n",
       "    <tr>\n",
       "      <th>535</th>\n",
       "      <td>Ponce</td>\n",
       "      <td>Puerto Rico</td>\n",
       "      <td>4.0</td>\n",
       "      <td>74.0</td>\n",
       "    </tr>\n",
       "  </tbody>\n",
       "</table>\n",
       "</div>"
      ],
      "text/plain": [
       "                 city        state  under_count_city  under_count_state\n",
       "652           Seattle   Washington              14.0              183.0\n",
       "645            Tacoma   Washington               6.0              183.0\n",
       "646           Spokane   Washington               5.0              183.0\n",
       "643         Vancouver   Washington               4.0              183.0\n",
       "210            Denver     Colorado              15.0              122.0\n",
       "209  Colorado Springs     Colorado               8.0              122.0\n",
       "208            Aurora     Colorado               6.0              122.0\n",
       "516          Portland       Oregon              12.0              105.0\n",
       "517             Salem       Oregon               4.0              105.0\n",
       "519            Eugene       Oregon               4.0              105.0\n",
       "537          San Juan  Puerto Rico              10.0               74.0\n",
       "535             Ponce  Puerto Rico               4.0               74.0"
      ]
     },
     "execution_count": 271,
     "metadata": {},
     "output_type": "execute_result"
    }
   ],
   "source": [
    "x = df_cvs[df_cvs['under_count_city']>3].sort_values(['under_count_state','under_count_city'],ascending=False)\n",
    "x = x[['city','state','under_count_city','under_count_state']]\n",
    "# df1.loc[df1.a==0,:]\n",
    "x[(x.state=='Washington') | (x.state=='Colorado') | (x.state=='Puerto Rico')\n",
    "     | (x.state=='Oregon')]"
   ]
  }
 ],
 "metadata": {
  "kernelspec": {
   "display_name": "Python 3",
   "language": "python",
   "name": "python3"
  },
  "language_info": {
   "codemirror_mode": {
    "name": "ipython",
    "version": 3
   },
   "file_extension": ".py",
   "mimetype": "text/x-python",
   "name": "python",
   "nbconvert_exporter": "python",
   "pygments_lexer": "ipython3",
   "version": "3.7.6"
  }
 },
 "nbformat": 4,
 "nbformat_minor": 4
}
