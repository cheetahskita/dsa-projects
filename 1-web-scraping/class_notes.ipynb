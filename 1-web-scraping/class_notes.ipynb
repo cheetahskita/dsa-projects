{
 "cells": [
  {
   "cell_type": "markdown",
   "metadata": {},
   "source": [
    "<p><a name=\"sections\"></a></p>\n",
    "<br>\n",
    "<br>\n",
    "\n",
    "# Sections\n",
    "\n",
    "- <a href=\"#intro\">Introduction to Beautiful Soup</a><br>\n",
    "    - <a href=\"#web\">What is web scraping</a><br>\n",
    "    - <a href=\"#html\">Introduction to HTML</a><br>\n",
    "    - <a href=\"#beautiful\">Basics of Beautiful Soup</a><br>\n",
    "\n",
    "- <a href=\"#example\">Examples</a><br>\n",
    "    - <a href=\"#calendar\">Python User Group Calendar</a><br>\n",
    "    - <a href=\"#yelp\">Scrape Yelp Reviews</a><br>"
   ]
  },
  {
   "cell_type": "markdown",
   "metadata": {},
   "source": [
    "<p><a name=\"web\"></a></p>\n",
    "\n",
    "## What is web scraping?\n",
    "\n",
    "- HTML is short for **HyperText Markup Language**. It's a language for presenting content on the Web.\n",
    "\n",
    "- Plain text is turned into an HTML document by **tags** that are then interpreted by a browser.\n",
    "\n",
    "- Using BeautifulSoup, you can easily extract the tag values from HTML source code."
   ]
  },
  {
   "cell_type": "markdown",
   "metadata": {},
   "source": [
    "### Beautiful Soup VS Regular Expressions"
   ]
  },
  {
   "cell_type": "code",
   "execution_count": 1,
   "metadata": {},
   "outputs": [
    {
     "name": "stdout",
     "output_type": "stream",
     "text": [
      "<!DOCTYPE html>\n",
      "<html>\n",
      "    <head>\n",
      "        <title>Hi</title> <!--Im a comment, ignore me.-->\n",
      "    </head>\n",
      "    <body>\n",
      "        <a href='http://www.crummy.com/software/BeautifulSoup/'>Hello, beautifulsoup!</a>\n",
      "    </body>\n",
      "</html>\n"
     ]
    }
   ],
   "source": [
    "# the source code of hi.html\n",
    "# !cat data/hi.html\n",
    "# Windows user\n",
    "!type data\\hi.html"
   ]
  },
  {
   "cell_type": "markdown",
   "metadata": {},
   "source": [
    "### Example:\n",
    "- Extract the characters between the title tags. \n",
    "\n",
    "\n",
    "- In this case it's `Hi` (`<title>Hi</title>`)."
   ]
  },
  {
   "cell_type": "markdown",
   "metadata": {},
   "source": [
    "- **Solution using Regular Expressions**"
   ]
  },
  {
   "cell_type": "code",
   "execution_count": 2,
   "metadata": {},
   "outputs": [
    {
     "name": "stdout",
     "output_type": "stream",
     "text": [
      "['Hi']\n"
     ]
    }
   ],
   "source": [
    "import re\n",
    "hi_path = 'data/hi.html'\n",
    "with open(hi_path, 'r') as f:\n",
    "    hi = f.read()\n",
    "    print(re.findall('<title>(.*)</title>', hi))"
   ]
  },
  {
   "cell_type": "markdown",
   "metadata": {},
   "source": [
    "- **Solution using BeautifulSoup**"
   ]
  },
  {
   "cell_type": "code",
   "execution_count": 6,
   "metadata": {
    "scrolled": true
   },
   "outputs": [
    {
     "name": "stdout",
     "output_type": "stream",
     "text": [
      "<title>Hi</title>\n",
      "Hi\n"
     ]
    }
   ],
   "source": [
    "from bs4 import BeautifulSoup\n",
    "with open(hi_path, 'r') as f:\n",
    "    hi = f.read()\n",
    "    hi = BeautifulSoup(hi, 'html.parser')\n",
    "    print(hi.title) # find the title tag\n",
    "    print(hi.title.string)  # find the value of tag"
   ]
  },
  {
   "cell_type": "code",
   "execution_count": 8,
   "metadata": {},
   "outputs": [
    {
     "data": {
      "text/plain": [
       "bs4.element.NavigableString"
      ]
     },
     "execution_count": 8,
     "metadata": {},
     "output_type": "execute_result"
    }
   ],
   "source": [
    "type(hi.title.string)"
   ]
  },
  {
   "cell_type": "markdown",
   "metadata": {},
   "source": [
    "**Compared with regular expressions:**\n",
    "    \n",
    "- Beautiful Soup's syntax is much simpler, while regular expressions are more flexible."
   ]
  },
  {
   "cell_type": "markdown",
   "metadata": {},
   "source": [
    "<p><a name=\"html\"></a></p>\n",
    "\n",
    "## Introduction to HTML"
   ]
  },
  {
   "cell_type": "markdown",
   "metadata": {},
   "source": [
    "### Tag\n",
    "\n",
    "- The `<title>` tags in this example designate the enclosed text as the title to be displayed in the head of the browser tab.\n",
    "![hi](pic/hi.png)\n",
    "\n",
    "- Tags are always enclosed by `<` and `>` to distinguish them from the content. \n",
    "- A pair of tags consist of start and end tags which carry the same name, but the end tag is preceded by a slash `/` ."
   ]
  },
  {
   "cell_type": "markdown",
   "metadata": {},
   "source": [
    "### Values\n",
    "\n",
    "Values are the content between start tags and end tags.\n",
    "\n",
    "- **Example**\n",
    "\n",
    "`<title>Hi</title>`: It's a title tag with a value of `Hi`."
   ]
  },
  {
   "cell_type": "markdown",
   "metadata": {},
   "source": [
    "### Attributes\n",
    "Tags have another feauture called attributes.\n",
    "\n",
    "- **Example**\n",
    "\n",
    "`<a href='http://www.crummy.com/software/BeautifulSoup/'>Hello, beautifulsoup!</a>`\n",
    "\n",
    "The anchor tag `<a>` with an attribute `href` and hyperlink—http://www.crummy.com/software/BeautifulSoup/. It creates an association of text points to another address (a hyperlink)."
   ]
  },
  {
   "cell_type": "markdown",
   "metadata": {},
   "source": [
    "### Tree structure\n",
    "- The first tag in the example is the `<html>` tag. \n",
    "\n",
    "- Between the `<html>` tags, several tags are opened and closed again: `<head>, <title>` , and\n",
    "`<body>, <a>`.\n",
    "\n",
    "    - The `<head>` and `<body>` tags are directly enclosed by the `<html>` tag. \n",
    "    - The `<title>` tag is enclosed by the `<head>` tag.\n",
    "    - The `<a>` tag is enclosed by the `<body>` tag.\n",
    "\n",
    "\n",
    "- A good way to describe the multiple layers of an HTML document is the tree analogy. \n",
    "![html](pic/html.png)\n",
    "\n",
    "- The `html` tag is the root tag that splits into two branches, `<head>` and `<body>`; `<head>` is followed by another branch called `<title>`; `<body>` is followed by another branch called `<a>`."
   ]
  },
  {
   "cell_type": "markdown",
   "metadata": {},
   "source": [
    "<p><a name=\"beautiful\"></a></p>\n",
    "\n",
    "## Basics of Beautiful Soup"
   ]
  },
  {
   "cell_type": "markdown",
   "metadata": {},
   "source": [
    "### Parse HTML"
   ]
  },
  {
   "cell_type": "markdown",
   "metadata": {},
   "source": [
    "- The `prettify()` method adds indentations so that it will help you understand the tree structure of the html document."
   ]
  },
  {
   "cell_type": "code",
   "execution_count": 9,
   "metadata": {},
   "outputs": [
    {
     "name": "stdout",
     "output_type": "stream",
     "text": [
      "<class 'bs4.BeautifulSoup'>\n",
      "\n",
      "\n",
      "<!DOCTYPE html>\n",
      "<html>\n",
      " <head>\n",
      "  <title>\n",
      "   Hi\n",
      "  </title>\n",
      "  <!--Im a comment, ignore me.-->\n",
      " </head>\n",
      " <body>\n",
      "  <a href=\"http://www.crummy.com/software/BeautifulSoup/\">\n",
      "   Hello, beautifulsoup!\n",
      "  </a>\n",
      " </body>\n",
      "</html>\n",
      "\n"
     ]
    }
   ],
   "source": [
    "from bs4 import BeautifulSoup\n",
    "# open a local file and parse the plain text by BeautifulSoup directly\n",
    "with open(hi_path, 'r') as f:\n",
    "    hi = f.read()\n",
    "    hi = BeautifulSoup(hi, 'html.parser')\n",
    "    print(type(hi)) # get a bs4.BeautifulSoup object\n",
    "    print('\\n')\n",
    "    print(hi.prettify())"
   ]
  },
  {
   "cell_type": "markdown",
   "metadata": {},
   "source": [
    "### Names, Values, and Attributes\n",
    "\n",
    "Beautiful Soup can extract the `name`, `value` and `attributes` of tags. The corresponding methods are:\n",
    "- name\n",
    "- string\n",
    "- attrs"
   ]
  },
  {
   "cell_type": "code",
   "execution_count": 10,
   "metadata": {},
   "outputs": [
    {
     "name": "stdout",
     "output_type": "stream",
     "text": [
      "The name of a tags is:  a\n",
      "The value of a tags is:  Hello, beautifulsoup!\n",
      "The attribute of a tags is:  {'href': 'http://www.crummy.com/software/BeautifulSoup/'}\n"
     ]
    }
   ],
   "source": [
    "print(\"The name of a tags is: \", hi.a.name)\n",
    "print(\"The value of a tags is: \", hi.a.string)\n",
    "print(\"The attribute of a tags is: \", hi.a.attrs)"
   ]
  },
  {
   "cell_type": "markdown",
   "metadata": {},
   "source": [
    "### get_text() & get()\n",
    "- For tags that have child tags the string does not work"
   ]
  },
  {
   "cell_type": "code",
   "execution_count": 13,
   "metadata": {},
   "outputs": [
    {
     "name": "stdout",
     "output_type": "stream",
     "text": [
      "<!DOCTYPE html>\n",
      "<html>\n",
      " <head>\n",
      "  <title>\n",
      "   Hi\n",
      "  </title>\n",
      "  <!--Im a comment, ignore me.-->\n",
      " </head>\n",
      " <body>\n",
      "  <a href=\"http://www.crummy.com/software/BeautifulSoup/\">\n",
      "   Hello, beautifulsoup!\n",
      "  </a>\n",
      " </body>\n",
      "</html>\n",
      "\n"
     ]
    }
   ],
   "source": [
    "print(hi.prettify())"
   ]
  },
  {
   "cell_type": "code",
   "execution_count": 14,
   "metadata": {},
   "outputs": [
    {
     "name": "stdout",
     "output_type": "stream",
     "text": [
      "None\n"
     ]
    }
   ],
   "source": [
    "print(hi.html.string)"
   ]
  },
  {
   "cell_type": "markdown",
   "metadata": {},
   "source": [
    "- Use the get_text method instead. The `get_text()` method will extract all the contents of child tags."
   ]
  },
  {
   "cell_type": "code",
   "execution_count": 15,
   "metadata": {},
   "outputs": [
    {
     "name": "stdout",
     "output_type": "stream",
     "text": [
      "\n",
      "\n",
      "Hi \n",
      "\n",
      "\n",
      "Hello, beautifulsoup!\n",
      "\n",
      "\n"
     ]
    }
   ],
   "source": [
    "print(hi.html.get_text())"
   ]
  },
  {
   "cell_type": "markdown",
   "metadata": {},
   "source": [
    "- `get()` is used to find the attribute of a tag. For example, we can get the href of tag a using the following code. \n",
    "\n",
    "- It is the same as run `hi.a.attrs` first and then find the value of key `href` from the dictionary."
   ]
  },
  {
   "cell_type": "code",
   "execution_count": 17,
   "metadata": {},
   "outputs": [
    {
     "data": {
      "text/plain": [
       "{'href': 'http://www.crummy.com/software/BeautifulSoup/'}"
      ]
     },
     "execution_count": 17,
     "metadata": {},
     "output_type": "execute_result"
    }
   ],
   "source": [
    "hi.a.attrs"
   ]
  },
  {
   "cell_type": "code",
   "execution_count": 23,
   "metadata": {},
   "outputs": [
    {
     "name": "stdout",
     "output_type": "stream",
     "text": [
      "http://www.crummy.com/software/BeautifulSoup/\n"
     ]
    }
   ],
   "source": [
    "print(hi.a.get('href'))"
   ]
  },
  {
   "cell_type": "code",
   "execution_count": 22,
   "metadata": {},
   "outputs": [
    {
     "name": "stdout",
     "output_type": "stream",
     "text": [
      "http://www.crummy.com/software/BeautifulSoup/\n"
     ]
    }
   ],
   "source": [
    "print(hi.a.attrs['href'])"
   ]
  },
  {
   "cell_type": "markdown",
   "metadata": {},
   "source": [
    "### find() & find_all()\n",
    "The functions `find` and `findall` are flexible for finding tags."
   ]
  },
  {
   "cell_type": "code",
   "execution_count": 24,
   "metadata": {},
   "outputs": [
    {
     "name": "stdout",
     "output_type": "stream",
     "text": [
      "<!DOCTYPE html>\n",
      "<html>\n",
      "    <head>\n",
      "        <title>Article</title>\n",
      "    </head>\n",
      "    <body>\n",
      "        <h1 id='one'>One</h1>\n",
      "        \t<p>This is the first paragraph.</p>\n",
      "        <h2 id='two'>Two</h2>\n",
      "        \t<p><a href='www.google.com'>Here is the Google website.</a></p>\n",
      "        <h3 id='three'>Three</h3>\n",
      "        \t<p>This is the third paragraph.</p>\n",
      "    </body>\n",
      "</html>\n"
     ]
    }
   ],
   "source": [
    "# !cat data/article.html\n",
    "# Windows user\n",
    "!type data\\article.html"
   ]
  },
  {
   "cell_type": "markdown",
   "metadata": {},
   "source": [
    "![article](pic/article.png)"
   ]
  },
  {
   "cell_type": "code",
   "execution_count": 25,
   "metadata": {},
   "outputs": [],
   "source": [
    "article_path = './data/article.html'\n",
    "with open(article_path, 'r') as f:\n",
    "    article = f.read()\n",
    "    article = BeautifulSoup(article, 'html.parser')"
   ]
  },
  {
   "cell_type": "markdown",
   "metadata": {},
   "source": [
    "- Return only the first `p` tag."
   ]
  },
  {
   "cell_type": "code",
   "execution_count": 26,
   "metadata": {},
   "outputs": [
    {
     "name": "stdout",
     "output_type": "stream",
     "text": [
      "<p>This is the first paragraph.</p>\n"
     ]
    }
   ],
   "source": [
    "print(article.p)"
   ]
  },
  {
   "cell_type": "markdown",
   "metadata": {},
   "source": [
    "- `find()` returns the first p tags, which is equivalent to article.p"
   ]
  },
  {
   "cell_type": "code",
   "execution_count": 27,
   "metadata": {},
   "outputs": [
    {
     "name": "stdout",
     "output_type": "stream",
     "text": [
      "<p>This is the first paragraph.</p>\n"
     ]
    }
   ],
   "source": [
    "print(article.find('p'))"
   ]
  },
  {
   "cell_type": "markdown",
   "metadata": {},
   "source": [
    "- `find_all()` returns all p tags"
   ]
  },
  {
   "cell_type": "code",
   "execution_count": 35,
   "metadata": {
    "scrolled": true
   },
   "outputs": [
    {
     "name": "stdout",
     "output_type": "stream",
     "text": [
      "[<p>This is the first paragraph.</p>, <p><a href=\"www.google.com\">Here is the Google website.</a></p>, <p>This is the third paragraph.</p>]\n"
     ]
    }
   ],
   "source": [
    "print(article.find_all('p'))\n",
    "type(article.find_all('p'))\n",
    "result = article.find_all('p')\n",
    "result.append('new element')"
   ]
  },
  {
   "cell_type": "code",
   "execution_count": 37,
   "metadata": {
    "scrolled": true
   },
   "outputs": [
    {
     "data": {
      "text/plain": [
       "['__add__',\n",
       " '__class__',\n",
       " '__contains__',\n",
       " '__delattr__',\n",
       " '__delitem__',\n",
       " '__dict__',\n",
       " '__dir__',\n",
       " '__doc__',\n",
       " '__eq__',\n",
       " '__format__',\n",
       " '__ge__',\n",
       " '__getattr__',\n",
       " '__getattribute__',\n",
       " '__getitem__',\n",
       " '__gt__',\n",
       " '__hash__',\n",
       " '__iadd__',\n",
       " '__imul__',\n",
       " '__init__',\n",
       " '__init_subclass__',\n",
       " '__iter__',\n",
       " '__le__',\n",
       " '__len__',\n",
       " '__lt__',\n",
       " '__module__',\n",
       " '__mul__',\n",
       " '__ne__',\n",
       " '__new__',\n",
       " '__reduce__',\n",
       " '__reduce_ex__',\n",
       " '__repr__',\n",
       " '__reversed__',\n",
       " '__rmul__',\n",
       " '__setattr__',\n",
       " '__setitem__',\n",
       " '__sizeof__',\n",
       " '__str__',\n",
       " '__subclasshook__',\n",
       " '__weakref__',\n",
       " 'append',\n",
       " 'clear',\n",
       " 'copy',\n",
       " 'count',\n",
       " 'extend',\n",
       " 'index',\n",
       " 'insert',\n",
       " 'pop',\n",
       " 'remove',\n",
       " 'reverse',\n",
       " 'sort',\n",
       " 'source']"
      ]
     },
     "execution_count": 37,
     "metadata": {},
     "output_type": "execute_result"
    }
   ],
   "source": [
    "dir(result)"
   ]
  },
  {
   "cell_type": "code",
   "execution_count": 34,
   "metadata": {},
   "outputs": [
    {
     "data": {
      "text/plain": [
       "True"
      ]
     },
     "execution_count": 34,
     "metadata": {},
     "output_type": "execute_result"
    }
   ],
   "source": [
    "isinstance(result, list)"
   ]
  },
  {
   "cell_type": "markdown",
   "metadata": {},
   "source": [
    "- To find the tags that have specific attributes, you can pass a dictionary as the `attrs` argument."
   ]
  },
  {
   "cell_type": "code",
   "execution_count": 38,
   "metadata": {},
   "outputs": [
    {
     "name": "stdout",
     "output_type": "stream",
     "text": [
      "[<h1 id=\"one\">One</h1>]\n"
     ]
    }
   ],
   "source": [
    "print(article.find_all('h1', attrs={'id':'one'}))"
   ]
  },
  {
   "cell_type": "markdown",
   "metadata": {},
   "source": [
    "- You can also specify a function to extract a list of Tag objects that match the given criteria.\n",
    "- It is the same as the following:"
   ]
  },
  {
   "cell_type": "code",
   "execution_count": 42,
   "metadata": {},
   "outputs": [
    {
     "name": "stdout",
     "output_type": "stream",
     "text": [
      "[<a href=\"www.google.com\">Here is the Google website.</a>]\n"
     ]
    }
   ],
   "source": [
    "# the tags whose attribute id equals 'one'\n",
    "print(article.find_all(lambda tag: tag.get('href')))"
   ]
  },
  {
   "cell_type": "markdown",
   "metadata": {},
   "source": [
    "<p><a name=\"example\"></a></p>\n",
    "\n",
    "## Examples"
   ]
  },
  {
   "cell_type": "markdown",
   "metadata": {},
   "source": [
    "<p><a name=\"calendar\"></a></p>\n",
    "\n",
    "### Python User Group Calendar"
   ]
  },
  {
   "cell_type": "markdown",
   "metadata": {},
   "source": [
    "Let's extract the time, location, and event titles from this web page [Python User Group Calendar](https://www.python.org/events/python-user-group/)."
   ]
  },
  {
   "cell_type": "markdown",
   "metadata": {},
   "source": [
    "<img src=pic/events.png width=800/>"
   ]
  },
  {
   "cell_type": "markdown",
   "metadata": {},
   "source": [
    "- For the examples we discussed before, we saved the html document locally. However, you don't want to download all the pages and then start scraping for your web scraping project.\n",
    "- The [Requests package](http://docs.python-requests.org/en/master/) we are using here is well designed and very popular in the industry. It makes http requests easy to use with Python.\n",
    "- The `get` method we are using here is one type of [http request](https://www.tutorialspoint.com/http/http_methods.htm). It is most often used to retrieve information from the web server. "
   ]
  },
  {
   "cell_type": "code",
   "execution_count": 47,
   "metadata": {},
   "outputs": [],
   "source": [
    "import requests\n",
    "response = requests.get('https://www.python.org/events/python-user-group/')\n",
    "text = BeautifulSoup(response.text, 'html.parser')"
   ]
  },
  {
   "cell_type": "code",
   "execution_count": 48,
   "metadata": {},
   "outputs": [
    {
     "name": "stdout",
     "output_type": "stream",
     "text": [
      "<!DOCTYPE doctype html>\n",
      "<!--[if lt IE 7]>   <html class=\"no-js ie6 lt-ie7 lt-ie8 lt-ie9\">   <![endif]-->\n",
      "<!--[if IE 7]>      <html class=\"no-js ie7 lt-ie8 lt-ie9\">          <![endif]-->\n",
      "<!--[if IE 8]>      <html class=\"no-js ie8 lt-ie9\">                 <![endif]-->\n",
      "<!--[if gt IE 8]><!-->\n",
      "<html class=\"no-js\" dir=\"ltr\" lang=\"en\">\n",
      " <!--<![endif]-->\n",
      " <head>\n",
      "  <meta charset=\"utf-8\"/>\n",
      "  <meta content=\"IE=edge\" http-equiv=\"X-UA-Compatible\"/>\n",
      "  <link href=\"//ajax.googleapis.com/ajax/libs/jquery/1.8.2/jquery.min.js\" rel=\"prefetch\"/>\n",
      "  <meta content=\"Python.org\" name=\"application-name\"/>\n",
      "  <meta content=\"The official home of the Python Programming Language\" name=\"msapplication-tooltip\"/>\n",
      "  <meta content=\"Python.org\" name=\"apple-mobile-web-app-title\"/>\n",
      "  <meta content=\"yes\" name=\"apple-mobile-web-app-capable\"/>\n",
      "  <meta content=\"black\" name=\"apple-mobile-web-app-status-bar-style\"/>\n",
      "  <meta content=\"width=device-width, initial-scale=1.0\" name=\"viewport\"/>\n",
      "  <meta content=\"True\" name=\"HandheldFriendly\"/>\n",
      "  <meta content=\"telephone=no\" name=\"format-detection\"/>\n",
      "  <meta content=\"on\" http-equiv=\"cleartype\"/>\n",
      "  <meta content=\"false\" http-equiv=\"imagetoolbar\"/>\n",
      "  <script src=\"/static/js/libs/modernizr.js\">\n",
      "  </script>\n",
      "  <link href=\"/static/stylesheets/style.30afed881237.css\" rel=\"stylesheet\" title=\"default\" type=\"text/css\">\n",
      "   <link href=\"/static/stylesheets/mq.eef77a5d2257.css\" media=\"not print, braille, embossed, speech, tty\" rel=\"stylesheet\" type=\"text/css\"/>\n",
      "   <!--[if (lte IE 8)&(!IEMobile)]>\n",
      "    <link href=\"/static/stylesheets/no-mq.7946159eb289.css\" rel=\"stylesheet\" type=\"text/css\" media=\"screen\" />\n",
      "    \n",
      "    \n",
      "    <![endif]-->\n",
      "   <link href=\"/static/favicon.ico\" rel=\"icon\" type=\"image/x-icon\"/>\n",
      "   <link href=\"/static/apple-touch-icon-144x144-precomposed.png\" rel=\"apple-touch-icon-precomposed\" sizes=\"144x144\"/>\n",
      "   <link href=\"/static/apple-touch-icon-114x114-precomposed.png\" rel=\"apple-touch-icon-precomposed\" sizes=\"114x114\"/>\n",
      "   <link href=\"/static/apple-touch-icon-72x72-precomposed.png\" rel=\"apple-touch-icon-precomposed\" sizes=\"72x72\"/>\n",
      "   <link href=\"/static/apple-touch-icon-precomposed.png\" rel=\"apple-touch-icon-precomposed\"/>\n",
      "   <link href=\"/static/apple-touch-icon-precomposed.png\" rel=\"apple-touch-icon\"/>\n",
      "   <meta content=\"/static/metro-icon-144x144-precomposed.png\" name=\"msapplication-TileImage\"/>\n",
      "   <!-- white shape -->\n",
      "   <meta content=\"#3673a5\" name=\"msapplication-TileColor\"/>\n",
      "   <!-- python blue -->\n",
      "   <meta content=\"#3673a5\" name=\"msapplication-navbutton-color\"/>\n",
      "   <title>\n",
      "    Our Events | Python.org\n",
      "   </title>\n",
      "   <meta content=\"The official home of the Python Programming Language\" name=\"description\"/>\n",
      "   <meta content=\"Python programming language object oriented web free open source software license documentation download community\" name=\"keywords\"/>\n",
      "   <meta content=\"website\" property=\"og:type\"/>\n",
      "   <meta content=\"Python.org\" property=\"og:site_name\"/>\n",
      "   <meta content=\"Our Events\" property=\"og:title\"/>\n",
      "   <meta content=\"The official home of the Python Programming Language\" property=\"og:description\"/>\n",
      "   <meta content=\"https://www.python.org/static/opengraph-icon-200x200.png\" property=\"og:image\"/>\n",
      "   <meta content=\"https://www.python.org/static/opengraph-icon-200x200.png\" property=\"og:image:secure_url\"/>\n",
      "   <meta content=\"https://www.python.org/events/python-user-group/\" property=\"og:url\"/>\n",
      "   <link href=\"/static/humans.txt\" rel=\"author\"/>\n",
      "   <link href=\"https://www.python.org/dev/peps/peps.rss/\" rel=\"alternate\" title=\"Python Enhancement Proposals\" type=\"application/rss+xml\"/>\n",
      "   <link href=\"https://www.python.org/jobs/feed/rss/\" rel=\"alternate\" title=\"Python Job Opportunities\" type=\"application/rss+xml\"/>\n",
      "   <link href=\"https://feeds.feedburner.com/PythonSoftwareFoundationNews\" rel=\"alternate\" title=\"Python Software Foundation News\" type=\"application/rss+xml\"/>\n",
      "   <link href=\"https://feeds.feedburner.com/PythonInsider\" rel=\"alternate\" title=\"Python Insider\" type=\"application/rss+xml\"/>\n",
      "   <script type=\"application/ld+json\">\n",
      "    {\n",
      "       \"@context\": \"https://schema.org\",\n",
      "       \"@type\": \"WebSite\",\n",
      "       \"url\": \"https://www.python.org/\",\n",
      "       \"potentialAction\": {\n",
      "         \"@type\": \"SearchAction\",\n",
      "         \"target\": \"https://www.python.org/search/?q={search_term_string}\",\n",
      "         \"query-input\": \"required name=search_term_string\"\n",
      "       }\n",
      "     }\n",
      "   </script>\n",
      "   <script type=\"text/javascript\">\n",
      "    var _gaq = _gaq || [];\n",
      "    _gaq.push(['_setAccount', 'UA-39055973-1']);\n",
      "    _gaq.push(['_trackPageview']);\n",
      "\n",
      "    (function() {\n",
      "        var ga = document.createElement('script'); ga.type = 'text/javascript'; ga.async = true;\n",
      "        ga.src = ('https:' == document.location.protocol ? 'https://ssl' : 'http://www') + '.google-analytics.com/ga.js';\n",
      "        var s = document.getElementsByTagName('script')[0]; s.parentNode.insertBefore(ga, s);\n",
      "    })();\n",
      "   </script>\n",
      "  </link>\n",
      " </head>\n",
      " <body class=\"python events default-page\">\n",
      "  <div id=\"touchnav-wrapper\">\n",
      "   <div class=\"do-not-print\" id=\"nojs\">\n",
      "    <p>\n",
      "     <strong>\n",
      "      Notice:\n",
      "     </strong>\n",
      "     While Javascript is not essential for this website, your interaction with the content will be limited. Please turn Javascript on for the full experience.\n",
      "    </p>\n",
      "   </div>\n",
      "   <!--[if lte IE 8]>\n",
      "        <div id=\"oldie-warning\" class=\"do-not-print\">\n",
      "            <p>\n",
      "                <strong>Notice:</strong> Your browser is <em>ancient</em>. Please\n",
      "                <a href=\"http://browsehappy.com/\">upgrade to a different browser</a> to experience a better web.\n",
      "            </p>\n",
      "        </div>\n",
      "        <![endif]-->\n",
      "   <!-- Sister Site Links -->\n",
      "   <div class=\"top-bar do-not-print\" id=\"top\">\n",
      "    <nav class=\"meta-navigation container\" role=\"navigation\">\n",
      "     <div class=\"skip-link screen-reader-text\">\n",
      "      <a href=\"#content\" title=\"Skip to content\">\n",
      "       Skip to content\n",
      "      </a>\n",
      "     </div>\n",
      "     <a aria-hidden=\"true\" class=\"jump-link\" href=\"#python-network\" id=\"close-python-network\">\n",
      "      <span aria-hidden=\"true\" class=\"icon-arrow-down\">\n",
      "       <span>\n",
      "        ▼\n",
      "       </span>\n",
      "      </span>\n",
      "      Close\n",
      "     </a>\n",
      "     <ul class=\"menu\" role=\"tree\">\n",
      "      <li class=\"python-meta current_branch selected\">\n",
      "       <a class=\"current_branch selected\" href=\"/\" title=\"The Python Programming Language\">\n",
      "        Python\n",
      "       </a>\n",
      "      </li>\n",
      "      <li class=\"psf-meta\">\n",
      "       <a href=\"/psf-landing/\" title=\"The Python Software Foundation\">\n",
      "        PSF\n",
      "       </a>\n",
      "      </li>\n",
      "      <li class=\"docs-meta\">\n",
      "       <a href=\"https://docs.python.org\" title=\"Python Documentation\">\n",
      "        Docs\n",
      "       </a>\n",
      "      </li>\n",
      "      <li class=\"pypi-meta\">\n",
      "       <a href=\"https://pypi.org/\" title=\"Python Package Index\">\n",
      "        PyPI\n",
      "       </a>\n",
      "      </li>\n",
      "      <li class=\"jobs-meta\">\n",
      "       <a href=\"/jobs/\" title=\"Python Job Board\">\n",
      "        Jobs\n",
      "       </a>\n",
      "      </li>\n",
      "      <li class=\"shop-meta\">\n",
      "       <a href=\"/community-landing/\">\n",
      "        Community\n",
      "       </a>\n",
      "      </li>\n",
      "     </ul>\n",
      "     <a aria-hidden=\"true\" class=\"jump-link\" href=\"#top\" id=\"python-network\">\n",
      "      <span aria-hidden=\"true\" class=\"icon-arrow-up\">\n",
      "       <span>\n",
      "        ▲\n",
      "       </span>\n",
      "      </span>\n",
      "      The Python Network\n",
      "     </a>\n",
      "    </nav>\n",
      "   </div>\n",
      "   <!-- Header elements -->\n",
      "   <header class=\"main-header\" role=\"banner\">\n",
      "    <div class=\"container\">\n",
      "     <h1 class=\"site-headline\">\n",
      "      <a href=\"/\">\n",
      "       <img alt=\"python™\" class=\"python-logo\" src=\"/static/img/python-logo.png\"/>\n",
      "      </a>\n",
      "     </h1>\n",
      "     <div class=\"options-bar-container do-not-print\">\n",
      "      <a class=\"donate-button\" href=\"https://psfmember.org/civicrm/contribute/transact?reset=1&amp;id=2\">\n",
      "       Donate\n",
      "      </a>\n",
      "      <div class=\"options-bar\">\n",
      "       <a class=\"jump-to-menu\" href=\"#site-map\" id=\"site-map-link\">\n",
      "        <span class=\"menu-icon\">\n",
      "         ≡\n",
      "        </span>\n",
      "        Menu\n",
      "       </a>\n",
      "       <form action=\"/search/\" class=\"search-the-site\" method=\"get\">\n",
      "        <fieldset title=\"Search Python.org\">\n",
      "         <span aria-hidden=\"true\" class=\"icon-search\">\n",
      "         </span>\n",
      "         <label class=\"screen-reader-text\" for=\"id-search-field\">\n",
      "          Search This Site\n",
      "         </label>\n",
      "         <input class=\"search-field\" id=\"id-search-field\" name=\"q\" placeholder=\"Search\" role=\"textbox\" tabindex=\"1\" type=\"search\" value=\"\"/>\n",
      "         <button class=\"search-button\" id=\"submit\" name=\"submit\" tabindex=\"3\" title=\"Submit this Search\" type=\"submit\">\n",
      "          GO\n",
      "         </button>\n",
      "         <!--[if IE]><input type=\"text\" style=\"display: none;\" disabled=\"disabled\" size=\"1\" tabindex=\"4\"><![endif]-->\n",
      "        </fieldset>\n",
      "       </form>\n",
      "       <span class=\"breaker\">\n",
      "       </span>\n",
      "       <div aria-hidden=\"true\" class=\"adjust-font-size\">\n",
      "        <ul aria-label=\"Adjust Text Size on Page\" class=\"navigation menu\">\n",
      "         <li aria-haspopup=\"true\" class=\"tier-1 last\">\n",
      "          <a class=\"action-trigger\" href=\"#\">\n",
      "           <strong>\n",
      "            <small>\n",
      "             A\n",
      "            </small>\n",
      "            A\n",
      "           </strong>\n",
      "          </a>\n",
      "          <ul class=\"subnav menu\">\n",
      "           <li class=\"tier-2 element-1\" role=\"treeitem\">\n",
      "            <a class=\"text-shrink\" href=\"javascript:;\" title=\"Make Text Smaller\">\n",
      "             Smaller\n",
      "            </a>\n",
      "           </li>\n",
      "           <li class=\"tier-2 element-2\" role=\"treeitem\">\n",
      "            <a class=\"text-grow\" href=\"javascript:;\" title=\"Make Text Larger\">\n",
      "             Larger\n",
      "            </a>\n",
      "           </li>\n",
      "           <li class=\"tier-2 element-3\" role=\"treeitem\">\n",
      "            <a class=\"text-reset\" href=\"javascript:;\" title=\"Reset any font size changes I have made\">\n",
      "             Reset\n",
      "            </a>\n",
      "           </li>\n",
      "          </ul>\n",
      "         </li>\n",
      "        </ul>\n",
      "       </div>\n",
      "       <div class=\"winkwink-nudgenudge\">\n",
      "        <ul aria-label=\"Social Media Navigation\" class=\"navigation menu\">\n",
      "         <li aria-haspopup=\"true\" class=\"tier-1 last\">\n",
      "          <a class=\"action-trigger\" href=\"#\">\n",
      "           Socialize\n",
      "          </a>\n",
      "          <ul class=\"subnav menu\">\n",
      "           <li class=\"tier-2 element-1\" role=\"treeitem\">\n",
      "            <a href=\"https://www.facebook.com/pythonlang?fref=ts\">\n",
      "             <span aria-hidden=\"true\" class=\"icon-facebook\">\n",
      "             </span>\n",
      "             Facebook\n",
      "            </a>\n",
      "           </li>\n",
      "           <li class=\"tier-2 element-2\" role=\"treeitem\">\n",
      "            <a href=\"https://twitter.com/ThePSF\">\n",
      "             <span aria-hidden=\"true\" class=\"icon-twitter\">\n",
      "             </span>\n",
      "             Twitter\n",
      "            </a>\n",
      "           </li>\n",
      "           <li class=\"tier-2 element-3\" role=\"treeitem\">\n",
      "            <a href=\"/community/irc/\">\n",
      "             <span aria-hidden=\"true\" class=\"icon-freenode\">\n",
      "             </span>\n",
      "             Chat on IRC\n",
      "            </a>\n",
      "           </li>\n",
      "          </ul>\n",
      "         </li>\n",
      "        </ul>\n",
      "       </div>\n",
      "       <span data-html-include=\"/authenticated\">\n",
      "       </span>\n",
      "      </div>\n",
      "      <!-- end options-bar -->\n",
      "     </div>\n",
      "     <nav class=\"python-navigation main-navigation do-not-print\" id=\"mainnav\" role=\"navigation\">\n",
      "      <ul aria-label=\"Main Navigation\" class=\"navigation menu\" role=\"menubar\">\n",
      "       <li aria-haspopup=\"true\" class=\"tier-1 element-1\" id=\"about\">\n",
      "        <a class=\"\" href=\"/about/\" title=\"\">\n",
      "         About\n",
      "        </a>\n",
      "        <ul aria-hidden=\"true\" class=\"subnav menu\" role=\"menu\">\n",
      "         <li class=\"tier-2 element-1\" role=\"treeitem\">\n",
      "          <a href=\"/about/apps/\" title=\"\">\n",
      "           Applications\n",
      "          </a>\n",
      "         </li>\n",
      "         <li class=\"tier-2 element-2\" role=\"treeitem\">\n",
      "          <a href=\"/about/quotes/\" title=\"\">\n",
      "           Quotes\n",
      "          </a>\n",
      "         </li>\n",
      "         <li class=\"tier-2 element-3\" role=\"treeitem\">\n",
      "          <a href=\"/about/gettingstarted/\" title=\"\">\n",
      "           Getting Started\n",
      "          </a>\n",
      "         </li>\n",
      "         <li class=\"tier-2 element-4\" role=\"treeitem\">\n",
      "          <a href=\"/about/help/\" title=\"\">\n",
      "           Help\n",
      "          </a>\n",
      "         </li>\n",
      "         <li class=\"tier-2 element-5\" role=\"treeitem\">\n",
      "          <a href=\"http://brochure.getpython.info/\" title=\"\">\n",
      "           Python Brochure\n",
      "          </a>\n",
      "         </li>\n",
      "        </ul>\n",
      "       </li>\n",
      "       <li aria-haspopup=\"true\" class=\"tier-1 element-2\" id=\"downloads\">\n",
      "        <a class=\"\" href=\"/downloads/\" title=\"\">\n",
      "         Downloads\n",
      "        </a>\n",
      "        <ul aria-hidden=\"true\" class=\"subnav menu\" role=\"menu\">\n",
      "         <li class=\"tier-2 element-1\" role=\"treeitem\">\n",
      "          <a href=\"/downloads/\" title=\"\">\n",
      "           All releases\n",
      "          </a>\n",
      "         </li>\n",
      "         <li class=\"tier-2 element-2\" role=\"treeitem\">\n",
      "          <a href=\"/downloads/source/\" title=\"\">\n",
      "           Source code\n",
      "          </a>\n",
      "         </li>\n",
      "         <li class=\"tier-2 element-3\" role=\"treeitem\">\n",
      "          <a href=\"/downloads/windows/\" title=\"\">\n",
      "           Windows\n",
      "          </a>\n",
      "         </li>\n",
      "         <li class=\"tier-2 element-4\" role=\"treeitem\">\n",
      "          <a href=\"/downloads/mac-osx/\" title=\"\">\n",
      "           Mac OS X\n",
      "          </a>\n",
      "         </li>\n",
      "         <li class=\"tier-2 element-5\" role=\"treeitem\">\n",
      "          <a href=\"/download/other/\" title=\"\">\n",
      "           Other Platforms\n",
      "          </a>\n",
      "         </li>\n",
      "         <li class=\"tier-2 element-6\" role=\"treeitem\">\n",
      "          <a href=\"https://docs.python.org/3/license.html\" title=\"\">\n",
      "           License\n",
      "          </a>\n",
      "         </li>\n",
      "         <li class=\"tier-2 element-7\" role=\"treeitem\">\n",
      "          <a href=\"/download/alternatives\" title=\"\">\n",
      "           Alternative Implementations\n",
      "          </a>\n",
      "         </li>\n",
      "        </ul>\n",
      "       </li>\n",
      "       <li aria-haspopup=\"true\" class=\"tier-1 element-3\" id=\"documentation\">\n",
      "        <a class=\"\" href=\"/doc/\" title=\"\">\n",
      "         Documentation\n",
      "        </a>\n",
      "        <ul aria-hidden=\"true\" class=\"subnav menu\" role=\"menu\">\n",
      "         <li class=\"tier-2 element-1\" role=\"treeitem\">\n",
      "          <a href=\"/doc/\" title=\"\">\n",
      "           Docs\n",
      "          </a>\n",
      "         </li>\n",
      "         <li class=\"tier-2 element-2\" role=\"treeitem\">\n",
      "          <a href=\"/doc/av\" title=\"\">\n",
      "           Audio/Visual Talks\n",
      "          </a>\n",
      "         </li>\n",
      "         <li class=\"tier-2 element-3\" role=\"treeitem\">\n",
      "          <a href=\"https://wiki.python.org/moin/BeginnersGuide\" title=\"\">\n",
      "           Beginner's Guide\n",
      "          </a>\n",
      "         </li>\n",
      "         <li class=\"tier-2 element-4\" role=\"treeitem\">\n",
      "          <a href=\"https://devguide.python.org/\" title=\"\">\n",
      "           Developer's Guide\n",
      "          </a>\n",
      "         </li>\n",
      "         <li class=\"tier-2 element-5\" role=\"treeitem\">\n",
      "          <a href=\"https://docs.python.org/faq/\" title=\"\">\n",
      "           FAQ\n",
      "          </a>\n",
      "         </li>\n",
      "         <li class=\"tier-2 element-6\" role=\"treeitem\">\n",
      "          <a href=\"http://wiki.python.org/moin/Languages\" title=\"\">\n",
      "           Non-English Docs\n",
      "          </a>\n",
      "         </li>\n",
      "         <li class=\"tier-2 element-7\" role=\"treeitem\">\n",
      "          <a href=\"http://python.org/dev/peps/\" title=\"\">\n",
      "           PEP Index\n",
      "          </a>\n",
      "         </li>\n",
      "         <li class=\"tier-2 element-8\" role=\"treeitem\">\n",
      "          <a href=\"https://wiki.python.org/moin/PythonBooks\" title=\"\">\n",
      "           Python Books\n",
      "          </a>\n",
      "         </li>\n",
      "         <li class=\"tier-2 element-9\" role=\"treeitem\">\n",
      "          <a href=\"/doc/essays/\" title=\"\">\n",
      "           Python Essays\n",
      "          </a>\n",
      "         </li>\n",
      "        </ul>\n",
      "       </li>\n",
      "       <li aria-haspopup=\"true\" class=\"tier-1 element-4\" id=\"community\">\n",
      "        <a class=\"\" href=\"/community/\" title=\"\">\n",
      "         Community\n",
      "        </a>\n",
      "        <ul aria-hidden=\"true\" class=\"subnav menu\" role=\"menu\">\n",
      "         <li class=\"tier-2 element-1\" role=\"treeitem\">\n",
      "          <a href=\"/community/survey\" title=\"\">\n",
      "           Community Survey\n",
      "          </a>\n",
      "         </li>\n",
      "         <li class=\"tier-2 element-2\" role=\"treeitem\">\n",
      "          <a href=\"/community/diversity/\" title=\"\">\n",
      "           Diversity\n",
      "          </a>\n",
      "         </li>\n",
      "         <li class=\"tier-2 element-3\" role=\"treeitem\">\n",
      "          <a href=\"/community/lists/\" title=\"\">\n",
      "           Mailing Lists\n",
      "          </a>\n",
      "         </li>\n",
      "         <li class=\"tier-2 element-4\" role=\"treeitem\">\n",
      "          <a href=\"/community/irc/\" title=\"\">\n",
      "           IRC\n",
      "          </a>\n",
      "         </li>\n",
      "         <li class=\"tier-2 element-5\" role=\"treeitem\">\n",
      "          <a href=\"/community/forums/\" title=\"\">\n",
      "           Forums\n",
      "          </a>\n",
      "         </li>\n",
      "         <li class=\"tier-2 element-6\" role=\"treeitem\">\n",
      "          <a href=\"/psf/annual-report/2020/\" title=\"\">\n",
      "           PSF Annual Impact Report\n",
      "          </a>\n",
      "         </li>\n",
      "         <li class=\"tier-2 element-7\" role=\"treeitem\">\n",
      "          <a href=\"/community/workshops/\" title=\"\">\n",
      "           Python Conferences\n",
      "          </a>\n",
      "         </li>\n",
      "         <li class=\"tier-2 element-8\" role=\"treeitem\">\n",
      "          <a href=\"/community/sigs/\" title=\"\">\n",
      "           Special Interest Groups\n",
      "          </a>\n",
      "         </li>\n",
      "         <li class=\"tier-2 element-9\" role=\"treeitem\">\n",
      "          <a href=\"/community/logos/\" title=\"\">\n",
      "           Python Logo\n",
      "          </a>\n",
      "         </li>\n",
      "         <li class=\"tier-2 element-10\" role=\"treeitem\">\n",
      "          <a href=\"https://wiki.python.org/moin/\" title=\"\">\n",
      "           Python Wiki\n",
      "          </a>\n",
      "         </li>\n",
      "         <li class=\"tier-2 element-11\" role=\"treeitem\">\n",
      "          <a href=\"/community/merchandise/\" title=\"\">\n",
      "           Merchandise\n",
      "          </a>\n",
      "         </li>\n",
      "         <li class=\"tier-2 element-12\" role=\"treeitem\">\n",
      "          <a href=\"/community/awards\" title=\"\">\n",
      "           Community Awards\n",
      "          </a>\n",
      "         </li>\n",
      "         <li class=\"tier-2 element-13\" role=\"treeitem\">\n",
      "          <a href=\"/psf/conduct/\" title=\"\">\n",
      "           Code of Conduct\n",
      "          </a>\n",
      "         </li>\n",
      "        </ul>\n",
      "       </li>\n",
      "       <li aria-haspopup=\"true\" class=\"tier-1 element-5\" id=\"success-stories\">\n",
      "        <a class=\"\" href=\"/success-stories/\" title=\"success-stories\">\n",
      "         Success Stories\n",
      "        </a>\n",
      "        <ul aria-hidden=\"true\" class=\"subnav menu\" role=\"menu\">\n",
      "         <li class=\"tier-2 element-1\" role=\"treeitem\">\n",
      "          <a href=\"/success-stories/category/arts/\" title=\"\">\n",
      "           Arts\n",
      "          </a>\n",
      "         </li>\n",
      "         <li class=\"tier-2 element-2\" role=\"treeitem\">\n",
      "          <a href=\"/success-stories/category/business/\" title=\"\">\n",
      "           Business\n",
      "          </a>\n",
      "         </li>\n",
      "         <li class=\"tier-2 element-3\" role=\"treeitem\">\n",
      "          <a href=\"/success-stories/category/education/\" title=\"\">\n",
      "           Education\n",
      "          </a>\n",
      "         </li>\n",
      "         <li class=\"tier-2 element-4\" role=\"treeitem\">\n",
      "          <a href=\"/success-stories/category/engineering/\" title=\"\">\n",
      "           Engineering\n",
      "          </a>\n",
      "         </li>\n",
      "         <li class=\"tier-2 element-5\" role=\"treeitem\">\n",
      "          <a href=\"/success-stories/category/government/\" title=\"\">\n",
      "           Government\n",
      "          </a>\n",
      "         </li>\n",
      "         <li class=\"tier-2 element-6\" role=\"treeitem\">\n",
      "          <a href=\"/success-stories/category/scientific/\" title=\"\">\n",
      "           Scientific\n",
      "          </a>\n",
      "         </li>\n",
      "         <li class=\"tier-2 element-7\" role=\"treeitem\">\n",
      "          <a href=\"/success-stories/category/software-development/\" title=\"\">\n",
      "           Software Development\n",
      "          </a>\n",
      "         </li>\n",
      "        </ul>\n",
      "       </li>\n",
      "       <li aria-haspopup=\"true\" class=\"tier-1 element-6\" id=\"news\">\n",
      "        <a class=\"\" href=\"/blogs/\" title=\"News from around the Python world\">\n",
      "         News\n",
      "        </a>\n",
      "        <ul aria-hidden=\"true\" class=\"subnav menu\" role=\"menu\">\n",
      "         <li class=\"tier-2 element-1\" role=\"treeitem\">\n",
      "          <a href=\"/blogs/\" title=\"Python Insider Blog Posts\">\n",
      "           Python News\n",
      "          </a>\n",
      "         </li>\n",
      "         <li class=\"tier-2 element-2\" role=\"treeitem\">\n",
      "          <a href=\"/psf/newsletter/\" title=\"Python Software Foundation Newsletter\">\n",
      "           PSF Newsletter\n",
      "          </a>\n",
      "         </li>\n",
      "         <li class=\"tier-2 element-3\" role=\"treeitem\">\n",
      "          <a href=\"http://planetpython.org/\" title=\"Planet Python\">\n",
      "           Community News\n",
      "          </a>\n",
      "         </li>\n",
      "         <li class=\"tier-2 element-4\" role=\"treeitem\">\n",
      "          <a href=\"http://pyfound.blogspot.com/\" title=\"PSF Blog\">\n",
      "           PSF News\n",
      "          </a>\n",
      "         </li>\n",
      "         <li class=\"tier-2 element-5\" role=\"treeitem\">\n",
      "          <a href=\"http://pycon.blogspot.com/\" title=\"PyCon Blog\">\n",
      "           PyCon News\n",
      "          </a>\n",
      "         </li>\n",
      "        </ul>\n",
      "       </li>\n",
      "       <li aria-haspopup=\"true\" class=\"tier-1 element-7\" id=\"events\">\n",
      "        <a class=\"selected\" href=\"/events/\" title=\"\">\n",
      "         Events\n",
      "        </a>\n",
      "        <ul aria-hidden=\"true\" class=\"subnav menu\" role=\"menu\">\n",
      "         <li class=\"tier-2 element-1\" role=\"treeitem\">\n",
      "          <a href=\"/events/python-events\" title=\"\">\n",
      "           Python Events\n",
      "          </a>\n",
      "         </li>\n",
      "         <li class=\"tier-2 element-2\" role=\"treeitem\">\n",
      "          <a href=\"/events/python-user-group/\" title=\"\">\n",
      "           User Group Events\n",
      "          </a>\n",
      "         </li>\n",
      "         <li class=\"tier-2 element-3\" role=\"treeitem\">\n",
      "          <a href=\"/events/python-events/past/\" title=\"\">\n",
      "           Python Events Archive\n",
      "          </a>\n",
      "         </li>\n",
      "         <li class=\"tier-2 element-4\" role=\"treeitem\">\n",
      "          <a href=\"/events/python-user-group/past/\" title=\"\">\n",
      "           User Group Events Archive\n",
      "          </a>\n",
      "         </li>\n",
      "         <li class=\"tier-2 element-5\" role=\"treeitem\">\n",
      "          <a href=\"https://wiki.python.org/moin/PythonEventsCalendar#Submitting_an_Event\" title=\"\">\n",
      "           Submit an Event\n",
      "          </a>\n",
      "         </li>\n",
      "        </ul>\n",
      "       </li>\n",
      "      </ul>\n",
      "     </nav>\n",
      "     <div class=\"header-banner\">\n",
      "      <!-- for optional \"do-not-print\" class -->\n",
      "     </div>\n",
      "    </div>\n",
      "    <!-- end .container -->\n",
      "   </header>\n",
      "   <div class=\"content-wrapper\" id=\"content\">\n",
      "    <!-- Main Content Column -->\n",
      "    <div class=\"container\">\n",
      "     <section class=\"main-content with-right-sidebar\" role=\"main\">\n",
      "      <header class=\"article-header\">\n",
      "       <h3>\n",
      "        from the Python User Group Calendar\n",
      "       </h3>\n",
      "      </header>\n",
      "      <div class=\"most-recent-events\">\n",
      "       <div class=\"shrubbery\">\n",
      "        <h2 class=\"widget-title\">\n",
      "         <span aria-hidden=\"true\" class=\"icon-calendar\">\n",
      "         </span>\n",
      "         Upcoming Events\n",
      "        </h2>\n",
      "        <ul class=\"list-recent-events menu\">\n",
      "         <li>\n",
      "          <h3 class=\"event-title\">\n",
      "           <a href=\"/events/python-user-group/911/\">\n",
      "            Python Meeting Düsseldorf\n",
      "           </a>\n",
      "          </h3>\n",
      "          <p>\n",
      "           <time datetime=\"2020-09-30T16:00:00+00:00\">\n",
      "            30 Sept.\n",
      "            <span class=\"say-no-more\">\n",
      "             2020\n",
      "            </span>\n",
      "            4pm UTC – 6pm UTC\n",
      "           </time>\n",
      "           <span class=\"event-location\">\n",
      "            Düsseldorf, Germany\n",
      "           </span>\n",
      "          </p>\n",
      "         </li>\n",
      "         <li>\n",
      "          <h3 class=\"event-title\">\n",
      "           <a href=\"/events/python-user-group/874/\">\n",
      "            PyCC Meetup'19 (Python Cape Coast User Group)\n",
      "           </a>\n",
      "          </h3>\n",
      "          <p>\n",
      "           <time datetime=\"2020-10-26T08:00:00+00:00\">\n",
      "            26 Oct.\n",
      "            <span class=\"say-no-more\">\n",
      "             2020\n",
      "            </span>\n",
      "            8am UTC – 10am UTC\n",
      "           </time>\n",
      "           <span class=\"event-location\">\n",
      "            Cape coast, Ghana\n",
      "           </span>\n",
      "          </p>\n",
      "         </li>\n",
      "         <li>\n",
      "          <h3 class=\"event-title\">\n",
      "           <a href=\"/events/python-user-group/903/\">\n",
      "            enterPy\n",
      "           </a>\n",
      "          </h3>\n",
      "          <p>\n",
      "           <time datetime=\"2020-11-23T00:00:00+00:00\">\n",
      "            23 Nov. – 24 Nov.\n",
      "            <span class=\"say-no-more\">\n",
      "             2020\n",
      "            </span>\n",
      "           </time>\n",
      "           <span class=\"event-location\">\n",
      "            Mannheim, Germany\n",
      "           </span>\n",
      "          </p>\n",
      "         </li>\n",
      "        </ul>\n",
      "       </div>\n",
      "       <h3 class=\"widget-title just-missed\">\n",
      "        You just missed...\n",
      "       </h3>\n",
      "       <ul class=\"list-recent-events menu\">\n",
      "        <li>\n",
      "         <h3 class=\"event-title\">\n",
      "          <a href=\"/events/python-user-group/912/\">\n",
      "           Python Meeting Düsseldorf\n",
      "          </a>\n",
      "         </h3>\n",
      "         <p>\n",
      "          <time datetime=\"2020-06-24T16:00:00+00:00\">\n",
      "           24 June\n",
      "           <span class=\"say-no-more\">\n",
      "            2020\n",
      "           </span>\n",
      "           4pm UTC – 6pm UTC\n",
      "          </time>\n",
      "          <span class=\"event-location\">\n",
      "           Online\n",
      "          </span>\n",
      "         </p>\n",
      "        </li>\n",
      "        <li>\n",
      "         <h3 class=\"event-title\">\n",
      "          <a href=\"/events/python-user-group/979/\">\n",
      "           Python for Signal Processing Algorithms Implementation Workshop\n",
      "          </a>\n",
      "         </h3>\n",
      "         <p>\n",
      "          <time datetime=\"2020-06-18T00:00:00+00:00\">\n",
      "           18 June\n",
      "           <span class=\"say-no-more\">\n",
      "            2020\n",
      "           </span>\n",
      "          </time>\n",
      "          <span class=\"event-location\">\n",
      "           Erode, Tamilnadu, INDIA\n",
      "          </span>\n",
      "         </p>\n",
      "        </li>\n",
      "       </ul>\n",
      "      </div>\n",
      "     </section>\n",
      "     <aside class=\"right-sidebar\" role=\"secondary\">\n",
      "      <div class=\"sidebar-widget subscribe-widget\">\n",
      "       <h2 class=\"widget-title\">\n",
      "        Python Event Subscriptions\n",
      "       </h2>\n",
      "       <p>\n",
      "        Subscribe to Python Event Calendars:\n",
      "       </p>\n",
      "       <ul class=\"menu\">\n",
      "        <li>\n",
      "         <a href=\"https://www.google.com/calendar/ical/3haig2m9msslkpf2tn1h56nn9g@group.calendar.google.com/public/basic.ics\">\n",
      "          <span aria-hidden=\"true\" class=\"icon-ical\">\n",
      "          </span>\n",
      "          Events in iCal format\n",
      "         </a>\n",
      "        </li>\n",
      "       </ul>\n",
      "       <h2 class=\"widget-title\">\n",
      "        Python Events Calendars\n",
      "       </h2>\n",
      "       <br/>\n",
      "       <p>\n",
      "        For Python events near you, please have a look at the\n",
      "        <a href=\"http://lmorillas.github.io/python_events/\">\n",
      "         <b>\n",
      "          Python events map\n",
      "         </b>\n",
      "        </a>\n",
      "        .\n",
      "       </p>\n",
      "       <p>\n",
      "        The Python events calendars are maintained by the\n",
      "        <a href=\"https://wiki.python.org/moin/PythonEventsCalendar#Python_Calendar_Team\">\n",
      "         events calendar team\n",
      "        </a>\n",
      "        .\n",
      "       </p>\n",
      "       <p>\n",
      "        Please see the\n",
      "        <a href=\"https://wiki.python.org/moin/PythonEventsCalendar\">\n",
      "         events calendar project page\n",
      "        </a>\n",
      "        for details on how to\n",
      "        <a href=\"https://wiki.python.org/moin/PythonEventsCalendar#Submitting_an_Event\">\n",
      "         submit events\n",
      "        </a>\n",
      "        ,\n",
      "        <a href=\"https://wiki.python.org/moin/PythonEventsCalendar#Available_Calendars\">\n",
      "         subscribe to the calendars\n",
      "        </a>\n",
      "        , get\n",
      "        <a href=\"https://twitter.com/PythonEvents\">\n",
      "         Twitter feeds\n",
      "        </a>\n",
      "        or embed them.\n",
      "       </p>\n",
      "       <p>\n",
      "        Thank you.\n",
      "       </p>\n",
      "      </div>\n",
      "     </aside>\n",
      "    </div>\n",
      "    <!-- end .container -->\n",
      "   </div>\n",
      "   <!-- end #content .content-wrapper -->\n",
      "   <!-- Footer and social media list -->\n",
      "   <footer class=\"main-footer\" id=\"site-map\" role=\"contentinfo\">\n",
      "    <div class=\"main-footer-links\">\n",
      "     <div class=\"container\">\n",
      "      <a class=\"jump-link\" href=\"#python-network\" id=\"back-to-top-1\">\n",
      "       <span aria-hidden=\"true\" class=\"icon-arrow-up\">\n",
      "        <span>\n",
      "         ▲\n",
      "        </span>\n",
      "       </span>\n",
      "       Back to Top\n",
      "      </a>\n",
      "      <ul class=\"sitemap navigation menu do-not-print\" id=\"container\" role=\"tree\">\n",
      "       <li class=\"tier-1 element-1\">\n",
      "        <a href=\"/about/\">\n",
      "         About\n",
      "        </a>\n",
      "        <ul class=\"subnav menu\">\n",
      "         <li class=\"tier-2 element-1\" role=\"treeitem\">\n",
      "          <a href=\"/about/apps/\" title=\"\">\n",
      "           Applications\n",
      "          </a>\n",
      "         </li>\n",
      "         <li class=\"tier-2 element-2\" role=\"treeitem\">\n",
      "          <a href=\"/about/quotes/\" title=\"\">\n",
      "           Quotes\n",
      "          </a>\n",
      "         </li>\n",
      "         <li class=\"tier-2 element-3\" role=\"treeitem\">\n",
      "          <a href=\"/about/gettingstarted/\" title=\"\">\n",
      "           Getting Started\n",
      "          </a>\n",
      "         </li>\n",
      "         <li class=\"tier-2 element-4\" role=\"treeitem\">\n",
      "          <a href=\"/about/help/\" title=\"\">\n",
      "           Help\n",
      "          </a>\n",
      "         </li>\n",
      "         <li class=\"tier-2 element-5\" role=\"treeitem\">\n",
      "          <a href=\"http://brochure.getpython.info/\" title=\"\">\n",
      "           Python Brochure\n",
      "          </a>\n",
      "         </li>\n",
      "        </ul>\n",
      "       </li>\n",
      "       <li class=\"tier-1 element-2\">\n",
      "        <a href=\"/downloads/\">\n",
      "         Downloads\n",
      "        </a>\n",
      "        <ul class=\"subnav menu\">\n",
      "         <li class=\"tier-2 element-1\" role=\"treeitem\">\n",
      "          <a href=\"/downloads/\" title=\"\">\n",
      "           All releases\n",
      "          </a>\n",
      "         </li>\n",
      "         <li class=\"tier-2 element-2\" role=\"treeitem\">\n",
      "          <a href=\"/downloads/source/\" title=\"\">\n",
      "           Source code\n",
      "          </a>\n",
      "         </li>\n",
      "         <li class=\"tier-2 element-3\" role=\"treeitem\">\n",
      "          <a href=\"/downloads/windows/\" title=\"\">\n",
      "           Windows\n",
      "          </a>\n",
      "         </li>\n",
      "         <li class=\"tier-2 element-4\" role=\"treeitem\">\n",
      "          <a href=\"/downloads/mac-osx/\" title=\"\">\n",
      "           Mac OS X\n",
      "          </a>\n",
      "         </li>\n",
      "         <li class=\"tier-2 element-5\" role=\"treeitem\">\n",
      "          <a href=\"/download/other/\" title=\"\">\n",
      "           Other Platforms\n",
      "          </a>\n",
      "         </li>\n",
      "         <li class=\"tier-2 element-6\" role=\"treeitem\">\n",
      "          <a href=\"https://docs.python.org/3/license.html\" title=\"\">\n",
      "           License\n",
      "          </a>\n",
      "         </li>\n",
      "         <li class=\"tier-2 element-7\" role=\"treeitem\">\n",
      "          <a href=\"/download/alternatives\" title=\"\">\n",
      "           Alternative Implementations\n",
      "          </a>\n",
      "         </li>\n",
      "        </ul>\n",
      "       </li>\n",
      "       <li class=\"tier-1 element-3\">\n",
      "        <a href=\"/doc/\">\n",
      "         Documentation\n",
      "        </a>\n",
      "        <ul class=\"subnav menu\">\n",
      "         <li class=\"tier-2 element-1\" role=\"treeitem\">\n",
      "          <a href=\"/doc/\" title=\"\">\n",
      "           Docs\n",
      "          </a>\n",
      "         </li>\n",
      "         <li class=\"tier-2 element-2\" role=\"treeitem\">\n",
      "          <a href=\"/doc/av\" title=\"\">\n",
      "           Audio/Visual Talks\n",
      "          </a>\n",
      "         </li>\n",
      "         <li class=\"tier-2 element-3\" role=\"treeitem\">\n",
      "          <a href=\"https://wiki.python.org/moin/BeginnersGuide\" title=\"\">\n",
      "           Beginner's Guide\n",
      "          </a>\n",
      "         </li>\n",
      "         <li class=\"tier-2 element-4\" role=\"treeitem\">\n",
      "          <a href=\"https://devguide.python.org/\" title=\"\">\n",
      "           Developer's Guide\n",
      "          </a>\n",
      "         </li>\n",
      "         <li class=\"tier-2 element-5\" role=\"treeitem\">\n",
      "          <a href=\"https://docs.python.org/faq/\" title=\"\">\n",
      "           FAQ\n",
      "          </a>\n",
      "         </li>\n",
      "         <li class=\"tier-2 element-6\" role=\"treeitem\">\n",
      "          <a href=\"http://wiki.python.org/moin/Languages\" title=\"\">\n",
      "           Non-English Docs\n",
      "          </a>\n",
      "         </li>\n",
      "         <li class=\"tier-2 element-7\" role=\"treeitem\">\n",
      "          <a href=\"http://python.org/dev/peps/\" title=\"\">\n",
      "           PEP Index\n",
      "          </a>\n",
      "         </li>\n",
      "         <li class=\"tier-2 element-8\" role=\"treeitem\">\n",
      "          <a href=\"https://wiki.python.org/moin/PythonBooks\" title=\"\">\n",
      "           Python Books\n",
      "          </a>\n",
      "         </li>\n",
      "         <li class=\"tier-2 element-9\" role=\"treeitem\">\n",
      "          <a href=\"/doc/essays/\" title=\"\">\n",
      "           Python Essays\n",
      "          </a>\n",
      "         </li>\n",
      "        </ul>\n",
      "       </li>\n",
      "       <li class=\"tier-1 element-4\">\n",
      "        <a href=\"/community/\">\n",
      "         Community\n",
      "        </a>\n",
      "        <ul class=\"subnav menu\">\n",
      "         <li class=\"tier-2 element-1\" role=\"treeitem\">\n",
      "          <a href=\"/community/survey\" title=\"\">\n",
      "           Community Survey\n",
      "          </a>\n",
      "         </li>\n",
      "         <li class=\"tier-2 element-2\" role=\"treeitem\">\n",
      "          <a href=\"/community/diversity/\" title=\"\">\n",
      "           Diversity\n",
      "          </a>\n",
      "         </li>\n",
      "         <li class=\"tier-2 element-3\" role=\"treeitem\">\n",
      "          <a href=\"/community/lists/\" title=\"\">\n",
      "           Mailing Lists\n",
      "          </a>\n",
      "         </li>\n",
      "         <li class=\"tier-2 element-4\" role=\"treeitem\">\n",
      "          <a href=\"/community/irc/\" title=\"\">\n",
      "           IRC\n",
      "          </a>\n",
      "         </li>\n",
      "         <li class=\"tier-2 element-5\" role=\"treeitem\">\n",
      "          <a href=\"/community/forums/\" title=\"\">\n",
      "           Forums\n",
      "          </a>\n",
      "         </li>\n",
      "         <li class=\"tier-2 element-6\" role=\"treeitem\">\n",
      "          <a href=\"/psf/annual-report/2020/\" title=\"\">\n",
      "           PSF Annual Impact Report\n",
      "          </a>\n",
      "         </li>\n",
      "         <li class=\"tier-2 element-7\" role=\"treeitem\">\n",
      "          <a href=\"/community/workshops/\" title=\"\">\n",
      "           Python Conferences\n",
      "          </a>\n",
      "         </li>\n",
      "         <li class=\"tier-2 element-8\" role=\"treeitem\">\n",
      "          <a href=\"/community/sigs/\" title=\"\">\n",
      "           Special Interest Groups\n",
      "          </a>\n",
      "         </li>\n",
      "         <li class=\"tier-2 element-9\" role=\"treeitem\">\n",
      "          <a href=\"/community/logos/\" title=\"\">\n",
      "           Python Logo\n",
      "          </a>\n",
      "         </li>\n",
      "         <li class=\"tier-2 element-10\" role=\"treeitem\">\n",
      "          <a href=\"https://wiki.python.org/moin/\" title=\"\">\n",
      "           Python Wiki\n",
      "          </a>\n",
      "         </li>\n",
      "         <li class=\"tier-2 element-11\" role=\"treeitem\">\n",
      "          <a href=\"/community/merchandise/\" title=\"\">\n",
      "           Merchandise\n",
      "          </a>\n",
      "         </li>\n",
      "         <li class=\"tier-2 element-12\" role=\"treeitem\">\n",
      "          <a href=\"/community/awards\" title=\"\">\n",
      "           Community Awards\n",
      "          </a>\n",
      "         </li>\n",
      "         <li class=\"tier-2 element-13\" role=\"treeitem\">\n",
      "          <a href=\"/psf/conduct/\" title=\"\">\n",
      "           Code of Conduct\n",
      "          </a>\n",
      "         </li>\n",
      "        </ul>\n",
      "       </li>\n",
      "       <li class=\"tier-1 element-5\">\n",
      "        <a href=\"/success-stories/\" title=\"success-stories\">\n",
      "         Success Stories\n",
      "        </a>\n",
      "        <ul class=\"subnav menu\">\n",
      "         <li class=\"tier-2 element-1\" role=\"treeitem\">\n",
      "          <a href=\"/success-stories/category/arts/\" title=\"\">\n",
      "           Arts\n",
      "          </a>\n",
      "         </li>\n",
      "         <li class=\"tier-2 element-2\" role=\"treeitem\">\n",
      "          <a href=\"/success-stories/category/business/\" title=\"\">\n",
      "           Business\n",
      "          </a>\n",
      "         </li>\n",
      "         <li class=\"tier-2 element-3\" role=\"treeitem\">\n",
      "          <a href=\"/success-stories/category/education/\" title=\"\">\n",
      "           Education\n",
      "          </a>\n",
      "         </li>\n",
      "         <li class=\"tier-2 element-4\" role=\"treeitem\">\n",
      "          <a href=\"/success-stories/category/engineering/\" title=\"\">\n",
      "           Engineering\n",
      "          </a>\n",
      "         </li>\n",
      "         <li class=\"tier-2 element-5\" role=\"treeitem\">\n",
      "          <a href=\"/success-stories/category/government/\" title=\"\">\n",
      "           Government\n",
      "          </a>\n",
      "         </li>\n",
      "         <li class=\"tier-2 element-6\" role=\"treeitem\">\n",
      "          <a href=\"/success-stories/category/scientific/\" title=\"\">\n",
      "           Scientific\n",
      "          </a>\n",
      "         </li>\n",
      "         <li class=\"tier-2 element-7\" role=\"treeitem\">\n",
      "          <a href=\"/success-stories/category/software-development/\" title=\"\">\n",
      "           Software Development\n",
      "          </a>\n",
      "         </li>\n",
      "        </ul>\n",
      "       </li>\n",
      "       <li class=\"tier-1 element-6\">\n",
      "        <a href=\"/blogs/\" title=\"News from around the Python world\">\n",
      "         News\n",
      "        </a>\n",
      "        <ul class=\"subnav menu\">\n",
      "         <li class=\"tier-2 element-1\" role=\"treeitem\">\n",
      "          <a href=\"/blogs/\" title=\"Python Insider Blog Posts\">\n",
      "           Python News\n",
      "          </a>\n",
      "         </li>\n",
      "         <li class=\"tier-2 element-2\" role=\"treeitem\">\n",
      "          <a href=\"/psf/newsletter/\" title=\"Python Software Foundation Newsletter\">\n",
      "           PSF Newsletter\n",
      "          </a>\n",
      "         </li>\n",
      "         <li class=\"tier-2 element-3\" role=\"treeitem\">\n",
      "          <a href=\"http://planetpython.org/\" title=\"Planet Python\">\n",
      "           Community News\n",
      "          </a>\n",
      "         </li>\n",
      "         <li class=\"tier-2 element-4\" role=\"treeitem\">\n",
      "          <a href=\"http://pyfound.blogspot.com/\" title=\"PSF Blog\">\n",
      "           PSF News\n",
      "          </a>\n",
      "         </li>\n",
      "         <li class=\"tier-2 element-5\" role=\"treeitem\">\n",
      "          <a href=\"http://pycon.blogspot.com/\" title=\"PyCon Blog\">\n",
      "           PyCon News\n",
      "          </a>\n",
      "         </li>\n",
      "        </ul>\n",
      "       </li>\n",
      "       <li class=\"tier-1 element-7\">\n",
      "        <a href=\"/events/\">\n",
      "         Events\n",
      "        </a>\n",
      "        <ul class=\"subnav menu\">\n",
      "         <li class=\"tier-2 element-1\" role=\"treeitem\">\n",
      "          <a href=\"/events/python-events\" title=\"\">\n",
      "           Python Events\n",
      "          </a>\n",
      "         </li>\n",
      "         <li class=\"tier-2 element-2\" role=\"treeitem\">\n",
      "          <a href=\"/events/python-user-group/\" title=\"\">\n",
      "           User Group Events\n",
      "          </a>\n",
      "         </li>\n",
      "         <li class=\"tier-2 element-3\" role=\"treeitem\">\n",
      "          <a href=\"/events/python-events/past/\" title=\"\">\n",
      "           Python Events Archive\n",
      "          </a>\n",
      "         </li>\n",
      "         <li class=\"tier-2 element-4\" role=\"treeitem\">\n",
      "          <a href=\"/events/python-user-group/past/\" title=\"\">\n",
      "           User Group Events Archive\n",
      "          </a>\n",
      "         </li>\n",
      "         <li class=\"tier-2 element-5\" role=\"treeitem\">\n",
      "          <a href=\"https://wiki.python.org/moin/PythonEventsCalendar#Submitting_an_Event\" title=\"\">\n",
      "           Submit an Event\n",
      "          </a>\n",
      "         </li>\n",
      "        </ul>\n",
      "       </li>\n",
      "       <li class=\"tier-1 element-8\">\n",
      "        <a href=\"/dev/\">\n",
      "         Contributing\n",
      "        </a>\n",
      "        <ul class=\"subnav menu\">\n",
      "         <li class=\"tier-2 element-1\" role=\"treeitem\">\n",
      "          <a href=\"https://devguide.python.org/\" title=\"\">\n",
      "           Developer's Guide\n",
      "          </a>\n",
      "         </li>\n",
      "         <li class=\"tier-2 element-2\" role=\"treeitem\">\n",
      "          <a href=\"https://bugs.python.org/\" title=\"\">\n",
      "           Issue Tracker\n",
      "          </a>\n",
      "         </li>\n",
      "         <li class=\"tier-2 element-3\" role=\"treeitem\">\n",
      "          <a href=\"https://mail.python.org/mailman/listinfo/python-dev\" title=\"\">\n",
      "           python-dev list\n",
      "          </a>\n",
      "         </li>\n",
      "         <li class=\"tier-2 element-4\" role=\"treeitem\">\n",
      "          <a href=\"/dev/core-mentorship/\" title=\"\">\n",
      "           Core Mentorship\n",
      "          </a>\n",
      "         </li>\n",
      "         <li class=\"tier-2 element-5\" role=\"treeitem\">\n",
      "          <a href=\"/dev/security/\" title=\"\">\n",
      "           Report a Security Issue\n",
      "          </a>\n",
      "         </li>\n",
      "        </ul>\n",
      "       </li>\n",
      "      </ul>\n",
      "      <a class=\"jump-link\" href=\"#python-network\" id=\"back-to-top-2\">\n",
      "       <span aria-hidden=\"true\" class=\"icon-arrow-up\">\n",
      "        <span>\n",
      "         ▲\n",
      "        </span>\n",
      "       </span>\n",
      "       Back to Top\n",
      "      </a>\n",
      "     </div>\n",
      "     <!-- end .container -->\n",
      "    </div>\n",
      "    <!-- end .main-footer-links -->\n",
      "    <div class=\"site-base\">\n",
      "     <div class=\"container\">\n",
      "      <ul class=\"footer-links navigation menu do-not-print\" role=\"tree\">\n",
      "       <li class=\"tier-1 element-1\">\n",
      "        <a href=\"/about/help/\">\n",
      "         Help &amp;\n",
      "         <span class=\"say-no-more\">\n",
      "          General\n",
      "         </span>\n",
      "         Contact\n",
      "        </a>\n",
      "       </li>\n",
      "       <li class=\"tier-1 element-2\">\n",
      "        <a href=\"/community/diversity/\">\n",
      "         Diversity\n",
      "         <span class=\"say-no-more\">\n",
      "          Initiatives\n",
      "         </span>\n",
      "        </a>\n",
      "       </li>\n",
      "       <li class=\"tier-1 element-3\">\n",
      "        <a href=\"https://github.com/python/pythondotorg/issues\">\n",
      "         Submit Website Bug\n",
      "        </a>\n",
      "       </li>\n",
      "       <li class=\"tier-1 element-4\">\n",
      "        <a href=\"https://status.python.org/\">\n",
      "         Status\n",
      "         <span class=\"python-status-indicator-default\" id=\"python-status-indicator\">\n",
      "         </span>\n",
      "        </a>\n",
      "       </li>\n",
      "      </ul>\n",
      "      <div class=\"copyright\">\n",
      "       <p>\n",
      "        <small>\n",
      "         <span class=\"pre\">\n",
      "          Copyright ©2001-2020.\n",
      "         </span>\n",
      "         <span class=\"pre\">\n",
      "          <a href=\"/psf-landing/\">\n",
      "           Python Software Foundation\n",
      "          </a>\n",
      "         </span>\n",
      "         <span class=\"pre\">\n",
      "          <a href=\"/about/legal/\">\n",
      "           Legal Statements\n",
      "          </a>\n",
      "         </span>\n",
      "         <span class=\"pre\">\n",
      "          <a href=\"/privacy/\">\n",
      "           Privacy Policy\n",
      "          </a>\n",
      "         </span>\n",
      "         <span class=\"pre\">\n",
      "          <a href=\"/psf/sponsorship/sponsors/#heroku\">\n",
      "           Powered by Heroku\n",
      "          </a>\n",
      "         </span>\n",
      "        </small>\n",
      "       </p>\n",
      "      </div>\n",
      "     </div>\n",
      "     <!-- end .container -->\n",
      "    </div>\n",
      "    <!-- end .site-base -->\n",
      "   </footer>\n",
      "  </div>\n",
      "  <!-- end #touchnav-wrapper -->\n",
      "  <script src=\"//ajax.googleapis.com/ajax/libs/jquery/1.8.2/jquery.min.js\">\n",
      "  </script>\n",
      "  <script>\n",
      "   window.jQuery || document.write('<script src=\"/static/js/libs/jquery-1.8.2.min.js\"><\\/script>')\n",
      "  </script>\n",
      "  <script src=\"/static/js/libs/masonry.pkgd.min.js\">\n",
      "  </script>\n",
      "  <script src=\"/static/js/libs/html-includes.js\">\n",
      "  </script>\n",
      "  <script charset=\"utf-8\" src=\"/static/js/main-min.a3326162e3f0.js\" type=\"text/javascript\">\n",
      "  </script>\n",
      "  <!--[if lte IE 7]>\n",
      "    <script type=\"text/javascript\" src=\"/static/js/plugins/IE8-min.98b6ab00aab8.js\" charset=\"utf-8\"></script>\n",
      "    \n",
      "    \n",
      "    <![endif]-->\n",
      "  <!--[if lte IE 8]>\n",
      "    <script type=\"text/javascript\" src=\"/static/js/plugins/getComputedStyle-min.c3860be1d290.js\" charset=\"utf-8\"></script>\n",
      "    \n",
      "    \n",
      "    <![endif]-->\n",
      " </body>\n",
      "</html>\n",
      "\n"
     ]
    }
   ],
   "source": [
    "print(text.prettify())"
   ]
  },
  {
   "cell_type": "markdown",
   "metadata": {},
   "source": [
    "#### Title\n",
    "Titles are in `h3` tags with an attribute `class=\"event-title\"`.\n",
    "<img src=pic/title.png width=900/>"
   ]
  },
  {
   "cell_type": "code",
   "execution_count": 55,
   "metadata": {},
   "outputs": [
    {
     "data": {
      "text/plain": [
       "[<h3 class=\"event-title\"><a href=\"/events/python-user-group/911/\">Python Meeting Düsseldorf</a></h3>,\n",
       " <h3 class=\"event-title\"><a href=\"/events/python-user-group/874/\">PyCC Meetup'19 (Python Cape Coast User Group)</a></h3>,\n",
       " <h3 class=\"event-title\"><a href=\"/events/python-user-group/903/\">enterPy</a></h3>,\n",
       " <h3 class=\"event-title\"><a href=\"/events/python-user-group/912/\">Python Meeting Düsseldorf</a></h3>,\n",
       " <h3 class=\"event-title\"><a href=\"/events/python-user-group/979/\">Python for Signal Processing Algorithms Implementation Workshop</a></h3>]"
      ]
     },
     "execution_count": 55,
     "metadata": {},
     "output_type": "execute_result"
    }
   ],
   "source": [
    "titleTags = text.find_all('h3', {'class': \"event-title\"})\n",
    "titleTags"
   ]
  },
  {
   "cell_type": "code",
   "execution_count": 57,
   "metadata": {},
   "outputs": [
    {
     "data": {
      "text/plain": [
       "'Python Meeting Düsseldorf'"
      ]
     },
     "execution_count": 57,
     "metadata": {},
     "output_type": "execute_result"
    }
   ],
   "source": [
    "first_tag = titleTags[0]\n",
    "first_tag.get_text()"
   ]
  },
  {
   "cell_type": "code",
   "execution_count": 50,
   "metadata": {},
   "outputs": [
    {
     "data": {
      "text/plain": [
       "['Python Meeting Düsseldorf',\n",
       " \"PyCC Meetup'19 (Python Cape Coast User Group)\",\n",
       " 'enterPy',\n",
       " 'Python Meeting Düsseldorf',\n",
       " 'Python for Signal Processing Algorithms Implementation Workshop']"
      ]
     },
     "execution_count": 50,
     "metadata": {},
     "output_type": "execute_result"
    }
   ],
   "source": [
    "titleString = [tag.get_text() for tag in titleTags]\n",
    "titleString"
   ]
  },
  {
   "cell_type": "markdown",
   "metadata": {},
   "source": [
    "#### Time\n",
    "Times are in the `time` tags that have `datetime` attribute."
   ]
  },
  {
   "cell_type": "markdown",
   "metadata": {},
   "source": [
    "![time](pic/time.png)"
   ]
  },
  {
   "cell_type": "code",
   "execution_count": 70,
   "metadata": {},
   "outputs": [
    {
     "data": {
      "text/plain": [
       "[<time datetime=\"2020-09-30T16:00:00+00:00\">30 Sept.<span class=\"say-no-more\"> 2020</span> 4pm UTC – 6pm UTC</time>,\n",
       " <time datetime=\"2020-10-26T08:00:00+00:00\">26 Oct.<span class=\"say-no-more\"> 2020</span> 8am UTC – 10am UTC</time>,\n",
       " <time datetime=\"2020-11-23T00:00:00+00:00\">23 Nov. – 24 Nov. <span class=\"say-no-more\"> 2020</span></time>,\n",
       " <time datetime=\"2020-06-24T16:00:00+00:00\">24 June<span class=\"say-no-more\"> 2020</span> 4pm UTC – 6pm UTC</time>,\n",
       " <time datetime=\"2020-06-18T00:00:00+00:00\">18 June<span class=\"say-no-more\"> 2020</span></time>]"
      ]
     },
     "execution_count": 70,
     "metadata": {},
     "output_type": "execute_result"
    }
   ],
   "source": [
    "text.find_all('time')"
   ]
  },
  {
   "cell_type": "code",
   "execution_count": 71,
   "metadata": {},
   "outputs": [
    {
     "data": {
      "text/plain": [
       "[<time datetime=\"2020-09-30T16:00:00+00:00\">30 Sept.<span class=\"say-no-more\"> 2020</span> 4pm UTC – 6pm UTC</time>,\n",
       " <time datetime=\"2020-10-26T08:00:00+00:00\">26 Oct.<span class=\"say-no-more\"> 2020</span> 8am UTC – 10am UTC</time>,\n",
       " <time datetime=\"2020-11-23T00:00:00+00:00\">23 Nov. – 24 Nov. <span class=\"say-no-more\"> 2020</span></time>,\n",
       " <time datetime=\"2020-06-24T16:00:00+00:00\">24 June<span class=\"say-no-more\"> 2020</span> 4pm UTC – 6pm UTC</time>,\n",
       " <time datetime=\"2020-06-18T00:00:00+00:00\">18 June<span class=\"say-no-more\"> 2020</span></time>]"
      ]
     },
     "execution_count": 71,
     "metadata": {},
     "output_type": "execute_result"
    }
   ],
   "source": [
    "timeTags = text.find_all(lambda tag: 'datetime' in tag.attrs)\n",
    "timeTags"
   ]
  },
  {
   "cell_type": "code",
   "execution_count": 72,
   "metadata": {},
   "outputs": [
    {
     "data": {
      "text/plain": [
       "['2020-09-30T16:00:00+00:00',\n",
       " '2020-10-26T08:00:00+00:00',\n",
       " '2020-11-23T00:00:00+00:00',\n",
       " '2020-06-24T16:00:00+00:00',\n",
       " '2020-06-18T00:00:00+00:00']"
      ]
     },
     "execution_count": 72,
     "metadata": {},
     "output_type": "execute_result"
    }
   ],
   "source": [
    "timeString = [tag.get('datetime') for tag in timeTags]\n",
    "timeString"
   ]
  },
  {
   "cell_type": "markdown",
   "metadata": {},
   "source": [
    "#### Location\n",
    "Locations are in `span` tags with the attribute `class=\"event-location\"`."
   ]
  },
  {
   "cell_type": "markdown",
   "metadata": {},
   "source": [
    "<img src=pic/location.png width=900/>"
   ]
  },
  {
   "cell_type": "code",
   "execution_count": 73,
   "metadata": {},
   "outputs": [
    {
     "data": {
      "text/plain": [
       "[<span class=\"event-location\">Düsseldorf, Germany</span>,\n",
       " <span class=\"event-location\">Cape coast, Ghana</span>,\n",
       " <span class=\"event-location\">Mannheim, Germany</span>,\n",
       " <span class=\"event-location\">Online</span>,\n",
       " <span class=\"event-location\">Erode, Tamilnadu, INDIA</span>]"
      ]
     },
     "execution_count": 73,
     "metadata": {},
     "output_type": "execute_result"
    }
   ],
   "source": [
    "locationTags = text.find_all(\"span\", {\"class\": \"event-location\"})\n",
    "locationTags"
   ]
  },
  {
   "cell_type": "code",
   "execution_count": 74,
   "metadata": {
    "scrolled": false
   },
   "outputs": [
    {
     "data": {
      "text/plain": [
       "['Düsseldorf, Germany',\n",
       " 'Cape coast, Ghana',\n",
       " 'Mannheim, Germany',\n",
       " 'Online',\n",
       " 'Erode, Tamilnadu, INDIA']"
      ]
     },
     "execution_count": 74,
     "metadata": {},
     "output_type": "execute_result"
    }
   ],
   "source": [
    "locationString = [tag.string for tag in locationTags]\n",
    "locationString"
   ]
  },
  {
   "cell_type": "code",
   "execution_count": 77,
   "metadata": {},
   "outputs": [
    {
     "data": {
      "text/html": [
       "<div>\n",
       "<style scoped>\n",
       "    .dataframe tbody tr th:only-of-type {\n",
       "        vertical-align: middle;\n",
       "    }\n",
       "\n",
       "    .dataframe tbody tr th {\n",
       "        vertical-align: top;\n",
       "    }\n",
       "\n",
       "    .dataframe thead th {\n",
       "        text-align: right;\n",
       "    }\n",
       "</style>\n",
       "<table border=\"1\" class=\"dataframe\">\n",
       "  <thead>\n",
       "    <tr style=\"text-align: right;\">\n",
       "      <th></th>\n",
       "      <th>event_title</th>\n",
       "      <th>time</th>\n",
       "      <th>location</th>\n",
       "    </tr>\n",
       "  </thead>\n",
       "  <tbody>\n",
       "    <tr>\n",
       "      <td>0</td>\n",
       "      <td>Python Meeting Düsseldorf</td>\n",
       "      <td>2020-09-30T16:00:00+00:00</td>\n",
       "      <td>Düsseldorf, Germany</td>\n",
       "    </tr>\n",
       "    <tr>\n",
       "      <td>1</td>\n",
       "      <td>PyCC Meetup'19 (Python Cape Coast User Group)</td>\n",
       "      <td>2020-10-26T08:00:00+00:00</td>\n",
       "      <td>Cape coast, Ghana</td>\n",
       "    </tr>\n",
       "    <tr>\n",
       "      <td>2</td>\n",
       "      <td>enterPy</td>\n",
       "      <td>2020-11-23T00:00:00+00:00</td>\n",
       "      <td>Mannheim, Germany</td>\n",
       "    </tr>\n",
       "    <tr>\n",
       "      <td>3</td>\n",
       "      <td>Python Meeting Düsseldorf</td>\n",
       "      <td>2020-06-24T16:00:00+00:00</td>\n",
       "      <td>Online</td>\n",
       "    </tr>\n",
       "    <tr>\n",
       "      <td>4</td>\n",
       "      <td>Python for Signal Processing Algorithms Implem...</td>\n",
       "      <td>2020-06-18T00:00:00+00:00</td>\n",
       "      <td>Erode, Tamilnadu, INDIA</td>\n",
       "    </tr>\n",
       "  </tbody>\n",
       "</table>\n",
       "</div>"
      ],
      "text/plain": [
       "                                         event_title  \\\n",
       "0                          Python Meeting Düsseldorf   \n",
       "1      PyCC Meetup'19 (Python Cape Coast User Group)   \n",
       "2                                            enterPy   \n",
       "3                          Python Meeting Düsseldorf   \n",
       "4  Python for Signal Processing Algorithms Implem...   \n",
       "\n",
       "                        time                 location  \n",
       "0  2020-09-30T16:00:00+00:00      Düsseldorf, Germany  \n",
       "1  2020-10-26T08:00:00+00:00        Cape coast, Ghana  \n",
       "2  2020-11-23T00:00:00+00:00        Mannheim, Germany  \n",
       "3  2020-06-24T16:00:00+00:00                   Online  \n",
       "4  2020-06-18T00:00:00+00:00  Erode, Tamilnadu, INDIA  "
      ]
     },
     "execution_count": 77,
     "metadata": {},
     "output_type": "execute_result"
    }
   ],
   "source": [
    "import pandas as pd\n",
    "pd.DataFrame(list(zip(titleString, timeString, locationString)), columns=['event_title', 'time', 'location'])"
   ]
  },
  {
   "cell_type": "code",
   "execution_count": 76,
   "metadata": {},
   "outputs": [
    {
     "data": {
      "text/plain": [
       "[('Python Meeting Düsseldorf',\n",
       "  '2020-09-30T16:00:00+00:00',\n",
       "  'Düsseldorf, Germany'),\n",
       " (\"PyCC Meetup'19 (Python Cape Coast User Group)\",\n",
       "  '2020-10-26T08:00:00+00:00',\n",
       "  'Cape coast, Ghana'),\n",
       " ('enterPy', '2020-11-23T00:00:00+00:00', 'Mannheim, Germany'),\n",
       " ('Python Meeting Düsseldorf', '2020-06-24T16:00:00+00:00', 'Online'),\n",
       " ('Python for Signal Processing Algorithms Implementation Workshop',\n",
       "  '2020-06-18T00:00:00+00:00',\n",
       "  'Erode, Tamilnadu, INDIA')]"
      ]
     },
     "execution_count": 76,
     "metadata": {},
     "output_type": "execute_result"
    }
   ],
   "source": [
    "list(zip(titleString, timeString, locationString))"
   ]
  },
  {
   "cell_type": "markdown",
   "metadata": {},
   "source": [
    "### Web Scraping Project Workflow\n",
    "- We have been lucky so far because there is no missing values on this page. But what if the location of one event is missing? There is no way for us to locate it from three lists of different length.\n",
    "- The general workflow of a web scraping project is like the following:\n",
    " - Find the unique attribute that will locate the **top level** tags that you are interested in.\n",
    "     - Each tag could be a listing, review, item...\n",
    "     - **one unique tag -> one row in csv file**\n",
    " - We want to locate the event tag that its child tags contain the title, datetime and location that you want to save as columns in a csv file.\n",
    " - Then you go levels deeper to find the child tags of each event. If there is something missing there, you just replace it with an empty string.\n",
    " - The event tags have a unique  attribute **class=list-recent-events menu**.\n",
    " - Next question is: what is the best data structure to represent one single event?"
   ]
  },
  {
   "cell_type": "code",
   "execution_count": 83,
   "metadata": {},
   "outputs": [],
   "source": [
    "# Save all the event is a list\n",
    "result = []\n",
    "# Save all the ul tags, each ul is a section of the page\n",
    "uls = text.find_all('ul', {'class': 'list-recent-events menu'})\n",
    "for ul in uls:\n",
    "    # Save all the li tags, each li is an event\n",
    "    lis = ul.find_all('li')\n",
    "#     print(len(lis))\n",
    "    for li in lis:\n",
    "        # Initialize an empty dictionary for each event\n",
    "        event = {}\n",
    "        # Using try/except to avoid errors caused by missing values\n",
    "        try:\n",
    "            title = li.find('h3').get_text()\n",
    "        except:\n",
    "            continue\n",
    "        try:\n",
    "            time = li.find('time').get('datetime')\n",
    "        except:\n",
    "            time = None\n",
    "        try:\n",
    "            location = li.find('span', {'class':'event-location'}).string.strip()\n",
    "        except:\n",
    "            location = None\n",
    "        \n",
    "        # Assign the values in the dictionary\n",
    "        event['location'] = location\n",
    "        event['time'] = time\n",
    "        event['title'] = title\n",
    "        result.append(event)"
   ]
  },
  {
   "cell_type": "code",
   "execution_count": 84,
   "metadata": {},
   "outputs": [
    {
     "data": {
      "text/plain": [
       "[{'location': 'Düsseldorf, Germany',\n",
       "  'time': '2020-09-30T16:00:00+00:00',\n",
       "  'title': 'Python Meeting Düsseldorf'},\n",
       " {'location': 'Cape coast, Ghana',\n",
       "  'time': '2020-10-26T08:00:00+00:00',\n",
       "  'title': \"PyCC Meetup'19 (Python Cape Coast User Group)\"},\n",
       " {'location': 'Mannheim, Germany',\n",
       "  'time': '2020-11-23T00:00:00+00:00',\n",
       "  'title': 'enterPy'},\n",
       " {'location': 'Online',\n",
       "  'time': '2020-06-24T16:00:00+00:00',\n",
       "  'title': 'Python Meeting Düsseldorf'},\n",
       " {'location': 'Erode, Tamilnadu, INDIA',\n",
       "  'time': '2020-06-18T00:00:00+00:00',\n",
       "  'title': 'Python for Signal Processing Algorithms Implementation Workshop'}]"
      ]
     },
     "execution_count": 84,
     "metadata": {},
     "output_type": "execute_result"
    }
   ],
   "source": [
    "result"
   ]
  },
  {
   "cell_type": "markdown",
   "metadata": {},
   "source": [
    "<p><a name=\"yelp\"></a></p>\n",
    "\n",
    "## Scrape Yelp Reviews\n",
    "- Let's apply what we have learned to a more complicated example - scrape Yelp reviews. \n",
    "- Our task is to scrape all the reviews of the ABC Kitchen Restaurant on Yelp. https://www.yelp.com/biz/abc-kitchen-new-york\n",
    "- You can easily extend this code to all the restaurants."
   ]
  },
  {
   "cell_type": "markdown",
   "metadata": {},
   "source": [
    "### Step 1: Find the pattern of url"
   ]
  },
  {
   "cell_type": "markdown",
   "metadata": {},
   "source": [
    "- Here we added `User-Agent` to the header of our request. It is because sometimes the web server will check the different fields of the header to block robot scrapers. \n",
    "- `User-Agent` is the most common one because it is specific to your browser."
   ]
  },
  {
   "cell_type": "code",
   "execution_count": 85,
   "metadata": {},
   "outputs": [],
   "source": [
    "from bs4 import BeautifulSoup\n",
    "import requests\n",
    "\n",
    "headers = {'User-Agent': 'Mozilla/5.0 (Windows NT 10.0; Win64; x64) AppleWebKit/537.36 (KHTML, like Gecko) Chrome/83.0.4103.116 Safari/537.36'\n",
    "            }\n",
    "\n",
    "response = requests.get('https://www.yelp.com/biz/abc-kitchen-new-york', headers=headers)\n",
    "text = BeautifulSoup(response.text, 'html.parser')"
   ]
  },
  {
   "cell_type": "markdown",
   "metadata": {},
   "source": [
    "- If you go to the second page, you can see the url becomes https://www.yelp.com/biz/abc-kitchen-new-york?start=20\n",
    "- Similarly, the url to the thid page: https://www.yelp.com/biz/abc-kitchen-new-york?start=40\n",
    "- But how do we find out the url of the last page?"
   ]
  },
  {
   "cell_type": "code",
   "execution_count": 102,
   "metadata": {},
   "outputs": [],
   "source": [
    "import re\n",
    "\n",
    "temp = 'lemon--div__373c0__1mboc border-color--default__373c0__3-ifU text-align--center__373c0__2n2yQ'\n",
    "num_reviews = text.find_all('div', attrs={'class': temp})[0].get_text()\n",
    "num_reviews = int(re.findall('1 of (\\d+)', num_reviews)[0])\n",
    "\n",
    "# url_list = []\n",
    "# for i in range(num_reviews):\n",
    "#     url_list.append(f'https://www.yelp.com/biz/abc-kitchen-new-york?start={i*20}')\n",
    "    \n",
    "url_list = [f'https://www.yelp.com/biz/abc-kitchen-new-york?start={i*20}' for i in range(num_reviews+1)]"
   ]
  },
  {
   "cell_type": "code",
   "execution_count": 103,
   "metadata": {},
   "outputs": [
    {
     "data": {
      "text/plain": [
       "'https://www.yelp.com/biz/abc-kitchen-new-york?start=2960'"
      ]
     },
     "execution_count": 103,
     "metadata": {},
     "output_type": "execute_result"
    }
   ],
   "source": [
    "url_list[-1]"
   ]
  },
  {
   "cell_type": "code",
   "execution_count": 104,
   "metadata": {},
   "outputs": [
    {
     "name": "stdout",
     "output_type": "stream",
     "text": [
      "2972\n"
     ]
    }
   ],
   "source": [
    "import re\n",
    "\n",
    "temp = 'lemon--p__373c0__3Qnnj text__373c0__2Kxyz text-color--mid__373c0__jCeOG text-align--left__373c0__2XGa- text-size--large__373c0__3t60B'\n",
    "num_reviews = text.find('p', attrs={'class': temp}).string\n",
    "num_reviews = int(re.findall('\\d+', num_reviews)[0])\n",
    "print(num_reviews)\n",
    "\n",
    "# url_list = []\n",
    "# for i in range(0, num_reviews, 20):\n",
    "#     url_list.append('https://www.yelp.com/biz/abc-kitchen-new-york?start='+str(i))\n",
    "    \n",
    "url_list = [f'https://www.yelp.com/biz/abc-kitchen-new-york?start={i}' for i in range(0, num_reviews, 20)]\n",
    "print(url_list[-1])"
   ]
  },
  {
   "cell_type": "markdown",
   "metadata": {},
   "source": [
    "### Step 2: Find all the review divs on the page"
   ]
  },
  {
   "cell_type": "code",
   "execution_count": 109,
   "metadata": {},
   "outputs": [
    {
     "name": "stdout",
     "output_type": "stream",
     "text": [
      "20\n"
     ]
    }
   ],
   "source": [
    "temp = 'lemon--li__373c0__1r9wz margin-b3__373c0__q1DuY padding-b3__373c0__342DA border--bottom__373c0__3qNtD border-color--default__373c0__3-ifU'\n",
    "reviews = text.find_all('li', attrs={'class': temp})\n",
    "print(len(reviews))"
   ]
  },
  {
   "cell_type": "markdown",
   "metadata": {},
   "source": [
    "### Step 3: Scrape the detail information\n",
    "\n",
    "For debugging purpose, we usually test it out on one review and then apply to the others."
   ]
  },
  {
   "cell_type": "code",
   "execution_count": 125,
   "metadata": {},
   "outputs": [
    {
     "name": "stdout",
     "output_type": "stream",
     "text": [
      "5.0\n"
     ]
    }
   ],
   "source": [
    "review = reviews[0]\n",
    "\n",
    "# Rating\n",
    "temp = 'lemon--span__373c0__3997G display--inline__373c0__3JqBP border-color--default__373c0__3-ifU'\n",
    "rating = review.find('span', attrs={'class': temp}).find('div').get('aria-label')\n",
    "rating = float(re.findall('\\d+', rating)[0])\n",
    "print(rating)"
   ]
  },
  {
   "cell_type": "code",
   "execution_count": 126,
   "metadata": {},
   "outputs": [
    {
     "name": "stdout",
     "output_type": "stream",
     "text": [
      "3/7/2020\n"
     ]
    }
   ],
   "source": [
    "# Date\n",
    "temp = 'lemon--span__373c0__3997G text__373c0__2Kxyz text-color--mid__373c0__jCeOG text-align--left__373c0__2XGa-'\n",
    "date = review.find('span', attrs={'class': temp}).string\n",
    "print(date)"
   ]
  },
  {
   "cell_type": "code",
   "execution_count": 127,
   "metadata": {},
   "outputs": [
    {
     "name": "stdout",
     "output_type": "stream",
     "text": [
      "Honestly I cannot say enough goods things about the food here. I went with a group of 7 for dinner, we were at a lovely round table which was perfect for conversation. I would definitely recommend making a reservation. There are two entrances, we came through the store on the oposite side. The restaurant is very cool, very nice dinner vibe. The staff was on top of everything and made sure everyone's drink was full and mine was never empty. We started off with some appetizers. The chef prefers when guests order appetizers and main courses at the same time so that's what we did. We got a few crab toasts with lemon aioli (SO GOOD, my favorite dish), kale salad with lemon (delicious, the mint and Serrano chilies are a phenomenal addition and make the salad wonderful), and the tomato mozzarella basil whole wheat pizza (very good and fresh, but I would recommend the crab toast over the pizza). For my main course I chose the Black Sea bass. This was so good!! I cannot put into words how much I enjoyed it. The fish was cooked perfectly and seasoned very well. The potatoes and spinach were a great addition to the fish. And the herb broth added a while new element. I cannot recommend this dish enough, so good! Another popular choice at my table was the ricotta ravioli. I tried it and it was very good, but the Black Sea bass was my favorite. We also ordered the roasted sweet potato (again very good, I did not know what to expect with this and was blown away, great flavor). We also had the house cut fries, which were salted sweet potato fries and they were quite good. And finally, the most important part of the meal, dessert! We got a few different dishes for the table. We chose the chocolate cake, the sundae, the fruit plate, and the cookie plate. I would highly recommend the salted Carmel sundae. You can't go wrong with any option but the sundae was my favorite! Overall, ABC Kitchen was fantastic. My favorite dishes and the ones I would most recommend are: the crab toast, kale salad, Black Sea bass, and finally the sundae.\n"
     ]
    }
   ],
   "source": [
    "# Content\n",
    "temp = 'lemon--span__373c0__3997G raw__373c0__3rKqk'\n",
    "content = review.find('span', attrs={'class': temp}).get_text()\n",
    "print(content)"
   ]
  },
  {
   "cell_type": "markdown",
   "metadata": {},
   "source": [
    "### Step 4: Apply to all the reviews and save them to a csv file"
   ]
  },
  {
   "cell_type": "code",
   "execution_count": 130,
   "metadata": {},
   "outputs": [],
   "source": [
    "import csv\n",
    "# Windows using text encoding when opening the file by default.\n",
    "# Override it to 'utf-8' will save lots of encoding issues.\n",
    "with open('reviews.csv', 'w', encoding='utf-8', newline='') as csvfile:\n",
    "    review_writer = csv.writer(csvfile)\n",
    "    review_writer.writerow(['date','rating','content'])\n",
    "    for review in reviews:\n",
    "        dic = {}\n",
    "        date = review.find('span', attrs={'class': 'lemon--span__373c0__3997G text__373c0__2Kxyz text-color--mid__373c0__jCeOG text-align--left__373c0__2XGa-'})\\\n",
    "                   .get_text().strip()\n",
    "        rating = review.find('span', attrs={'class': 'lemon--span__373c0__3997G display--inline__373c0__3JqBP border-color--default__373c0__3-ifU'})\\\n",
    "                   .find('div').get('aria-label')\n",
    "        rating = float(re.findall('\\d+', rating)[0])\n",
    "        content = review.find('span', attrs={'class': 'lemon--span__373c0__3997G raw__373c0__3rKqk'})\\\n",
    "                   .get_text().strip()\n",
    "        dic['date'] = date\n",
    "        dic['rating'] = rating\n",
    "        dic['content'] = content\n",
    "        review_writer.writerow(dic.values())"
   ]
  },
  {
   "cell_type": "markdown",
   "metadata": {},
   "source": [
    "### Step 5: Apply to all the pages"
   ]
  },
  {
   "cell_type": "code",
   "execution_count": 133,
   "metadata": {
    "scrolled": true
   },
   "outputs": [
    {
     "name": "stdout",
     "output_type": "stream",
     "text": [
      "Finished page: 1\n",
      "Finished page: 2\n",
      "Finished page: 3\n",
      "Finished page: 4\n",
      "Finished page: 5\n",
      "Finished page: 6\n",
      "Finished page: 7\n",
      "Finished page: 8\n",
      "Finished page: 9\n"
     ]
    },
    {
     "ename": "KeyboardInterrupt",
     "evalue": "",
     "output_type": "error",
     "traceback": [
      "\u001b[1;31m---------------------------------------------------------------------------\u001b[0m",
      "\u001b[1;31mTypeError\u001b[0m                                 Traceback (most recent call last)",
      "\u001b[1;32m~\\Anaconda3\\lib\\site-packages\\urllib3\\connectionpool.py\u001b[0m in \u001b[0;36m_make_request\u001b[1;34m(self, conn, method, url, timeout, chunked, **httplib_request_kw)\u001b[0m\n\u001b[0;32m    376\u001b[0m             \u001b[1;32mtry\u001b[0m\u001b[1;33m:\u001b[0m  \u001b[1;31m# Python 2.7, use buffering of HTTP responses\u001b[0m\u001b[1;33m\u001b[0m\u001b[1;33m\u001b[0m\u001b[0m\n\u001b[1;32m--> 377\u001b[1;33m                 \u001b[0mhttplib_response\u001b[0m \u001b[1;33m=\u001b[0m \u001b[0mconn\u001b[0m\u001b[1;33m.\u001b[0m\u001b[0mgetresponse\u001b[0m\u001b[1;33m(\u001b[0m\u001b[0mbuffering\u001b[0m\u001b[1;33m=\u001b[0m\u001b[1;32mTrue\u001b[0m\u001b[1;33m)\u001b[0m\u001b[1;33m\u001b[0m\u001b[1;33m\u001b[0m\u001b[0m\n\u001b[0m\u001b[0;32m    378\u001b[0m             \u001b[1;32mexcept\u001b[0m \u001b[0mTypeError\u001b[0m\u001b[1;33m:\u001b[0m  \u001b[1;31m# Python 3\u001b[0m\u001b[1;33m\u001b[0m\u001b[1;33m\u001b[0m\u001b[0m\n",
      "\u001b[1;31mTypeError\u001b[0m: getresponse() got an unexpected keyword argument 'buffering'",
      "\nDuring handling of the above exception, another exception occurred:\n",
      "\u001b[1;31mKeyboardInterrupt\u001b[0m                         Traceback (most recent call last)",
      "\u001b[1;32m<ipython-input-133-8278bfa5bd35>\u001b[0m in \u001b[0;36m<module>\u001b[1;34m\u001b[0m\n\u001b[0;32m     25\u001b[0m \u001b[1;33m\u001b[0m\u001b[0m\n\u001b[0;32m     26\u001b[0m     \u001b[1;32mfor\u001b[0m \u001b[0mindex\u001b[0m\u001b[1;33m,\u001b[0m \u001b[0murl\u001b[0m \u001b[1;32min\u001b[0m \u001b[0menumerate\u001b[0m\u001b[1;33m(\u001b[0m\u001b[0murl_list\u001b[0m\u001b[1;33m,\u001b[0m \u001b[1;36m1\u001b[0m\u001b[1;33m)\u001b[0m\u001b[1;33m:\u001b[0m\u001b[1;33m\u001b[0m\u001b[1;33m\u001b[0m\u001b[0m\n\u001b[1;32m---> 27\u001b[1;33m         \u001b[0mresponse\u001b[0m \u001b[1;33m=\u001b[0m \u001b[0mrequests\u001b[0m\u001b[1;33m.\u001b[0m\u001b[0mget\u001b[0m\u001b[1;33m(\u001b[0m\u001b[0murl\u001b[0m\u001b[1;33m,\u001b[0m \u001b[0mheaders\u001b[0m\u001b[1;33m=\u001b[0m\u001b[0mheaders\u001b[0m\u001b[1;33m)\u001b[0m\u001b[1;33m\u001b[0m\u001b[1;33m\u001b[0m\u001b[0m\n\u001b[0m\u001b[0;32m     28\u001b[0m         \u001b[0mtext\u001b[0m \u001b[1;33m=\u001b[0m \u001b[0mBeautifulSoup\u001b[0m\u001b[1;33m(\u001b[0m\u001b[0mresponse\u001b[0m\u001b[1;33m.\u001b[0m\u001b[0mtext\u001b[0m\u001b[1;33m,\u001b[0m \u001b[1;34m'html.parser'\u001b[0m\u001b[1;33m)\u001b[0m\u001b[1;33m\u001b[0m\u001b[1;33m\u001b[0m\u001b[0m\n\u001b[0;32m     29\u001b[0m         \u001b[0mreviews\u001b[0m \u001b[1;33m=\u001b[0m \u001b[0mtext\u001b[0m\u001b[1;33m.\u001b[0m\u001b[0mfind_all\u001b[0m\u001b[1;33m(\u001b[0m\u001b[1;34m'li'\u001b[0m\u001b[1;33m,\u001b[0m \u001b[0mattrs\u001b[0m\u001b[1;33m=\u001b[0m\u001b[1;33m{\u001b[0m\u001b[1;34m'class'\u001b[0m\u001b[1;33m:\u001b[0m \u001b[1;34m'lemon--li__373c0__1r9wz margin-b3__373c0__q1DuY padding-b3__373c0__342DA border--bottom__373c0__3qNtD border-color--default__373c0__3-ifU'\u001b[0m\u001b[1;33m}\u001b[0m\u001b[1;33m)\u001b[0m\u001b[1;33m\u001b[0m\u001b[1;33m\u001b[0m\u001b[0m\n",
      "\u001b[1;32m~\\Anaconda3\\lib\\site-packages\\requests\\api.py\u001b[0m in \u001b[0;36mget\u001b[1;34m(url, params, **kwargs)\u001b[0m\n\u001b[0;32m     73\u001b[0m \u001b[1;33m\u001b[0m\u001b[0m\n\u001b[0;32m     74\u001b[0m     \u001b[0mkwargs\u001b[0m\u001b[1;33m.\u001b[0m\u001b[0msetdefault\u001b[0m\u001b[1;33m(\u001b[0m\u001b[1;34m'allow_redirects'\u001b[0m\u001b[1;33m,\u001b[0m \u001b[1;32mTrue\u001b[0m\u001b[1;33m)\u001b[0m\u001b[1;33m\u001b[0m\u001b[1;33m\u001b[0m\u001b[0m\n\u001b[1;32m---> 75\u001b[1;33m     \u001b[1;32mreturn\u001b[0m \u001b[0mrequest\u001b[0m\u001b[1;33m(\u001b[0m\u001b[1;34m'get'\u001b[0m\u001b[1;33m,\u001b[0m \u001b[0murl\u001b[0m\u001b[1;33m,\u001b[0m \u001b[0mparams\u001b[0m\u001b[1;33m=\u001b[0m\u001b[0mparams\u001b[0m\u001b[1;33m,\u001b[0m \u001b[1;33m**\u001b[0m\u001b[0mkwargs\u001b[0m\u001b[1;33m)\u001b[0m\u001b[1;33m\u001b[0m\u001b[1;33m\u001b[0m\u001b[0m\n\u001b[0m\u001b[0;32m     76\u001b[0m \u001b[1;33m\u001b[0m\u001b[0m\n\u001b[0;32m     77\u001b[0m \u001b[1;33m\u001b[0m\u001b[0m\n",
      "\u001b[1;32m~\\Anaconda3\\lib\\site-packages\\requests\\api.py\u001b[0m in \u001b[0;36mrequest\u001b[1;34m(method, url, **kwargs)\u001b[0m\n\u001b[0;32m     58\u001b[0m     \u001b[1;31m# cases, and look like a memory leak in others.\u001b[0m\u001b[1;33m\u001b[0m\u001b[1;33m\u001b[0m\u001b[1;33m\u001b[0m\u001b[0m\n\u001b[0;32m     59\u001b[0m     \u001b[1;32mwith\u001b[0m \u001b[0msessions\u001b[0m\u001b[1;33m.\u001b[0m\u001b[0mSession\u001b[0m\u001b[1;33m(\u001b[0m\u001b[1;33m)\u001b[0m \u001b[1;32mas\u001b[0m \u001b[0msession\u001b[0m\u001b[1;33m:\u001b[0m\u001b[1;33m\u001b[0m\u001b[1;33m\u001b[0m\u001b[0m\n\u001b[1;32m---> 60\u001b[1;33m         \u001b[1;32mreturn\u001b[0m \u001b[0msession\u001b[0m\u001b[1;33m.\u001b[0m\u001b[0mrequest\u001b[0m\u001b[1;33m(\u001b[0m\u001b[0mmethod\u001b[0m\u001b[1;33m=\u001b[0m\u001b[0mmethod\u001b[0m\u001b[1;33m,\u001b[0m \u001b[0murl\u001b[0m\u001b[1;33m=\u001b[0m\u001b[0murl\u001b[0m\u001b[1;33m,\u001b[0m \u001b[1;33m**\u001b[0m\u001b[0mkwargs\u001b[0m\u001b[1;33m)\u001b[0m\u001b[1;33m\u001b[0m\u001b[1;33m\u001b[0m\u001b[0m\n\u001b[0m\u001b[0;32m     61\u001b[0m \u001b[1;33m\u001b[0m\u001b[0m\n\u001b[0;32m     62\u001b[0m \u001b[1;33m\u001b[0m\u001b[0m\n",
      "\u001b[1;32m~\\Anaconda3\\lib\\site-packages\\requests\\sessions.py\u001b[0m in \u001b[0;36mrequest\u001b[1;34m(self, method, url, params, data, headers, cookies, files, auth, timeout, allow_redirects, proxies, hooks, stream, verify, cert, json)\u001b[0m\n\u001b[0;32m    531\u001b[0m         }\n\u001b[0;32m    532\u001b[0m         \u001b[0msend_kwargs\u001b[0m\u001b[1;33m.\u001b[0m\u001b[0mupdate\u001b[0m\u001b[1;33m(\u001b[0m\u001b[0msettings\u001b[0m\u001b[1;33m)\u001b[0m\u001b[1;33m\u001b[0m\u001b[1;33m\u001b[0m\u001b[0m\n\u001b[1;32m--> 533\u001b[1;33m         \u001b[0mresp\u001b[0m \u001b[1;33m=\u001b[0m \u001b[0mself\u001b[0m\u001b[1;33m.\u001b[0m\u001b[0msend\u001b[0m\u001b[1;33m(\u001b[0m\u001b[0mprep\u001b[0m\u001b[1;33m,\u001b[0m \u001b[1;33m**\u001b[0m\u001b[0msend_kwargs\u001b[0m\u001b[1;33m)\u001b[0m\u001b[1;33m\u001b[0m\u001b[1;33m\u001b[0m\u001b[0m\n\u001b[0m\u001b[0;32m    534\u001b[0m \u001b[1;33m\u001b[0m\u001b[0m\n\u001b[0;32m    535\u001b[0m         \u001b[1;32mreturn\u001b[0m \u001b[0mresp\u001b[0m\u001b[1;33m\u001b[0m\u001b[1;33m\u001b[0m\u001b[0m\n",
      "\u001b[1;32m~\\Anaconda3\\lib\\site-packages\\requests\\sessions.py\u001b[0m in \u001b[0;36msend\u001b[1;34m(self, request, **kwargs)\u001b[0m\n\u001b[0;32m    644\u001b[0m \u001b[1;33m\u001b[0m\u001b[0m\n\u001b[0;32m    645\u001b[0m         \u001b[1;31m# Send the request\u001b[0m\u001b[1;33m\u001b[0m\u001b[1;33m\u001b[0m\u001b[1;33m\u001b[0m\u001b[0m\n\u001b[1;32m--> 646\u001b[1;33m         \u001b[0mr\u001b[0m \u001b[1;33m=\u001b[0m \u001b[0madapter\u001b[0m\u001b[1;33m.\u001b[0m\u001b[0msend\u001b[0m\u001b[1;33m(\u001b[0m\u001b[0mrequest\u001b[0m\u001b[1;33m,\u001b[0m \u001b[1;33m**\u001b[0m\u001b[0mkwargs\u001b[0m\u001b[1;33m)\u001b[0m\u001b[1;33m\u001b[0m\u001b[1;33m\u001b[0m\u001b[0m\n\u001b[0m\u001b[0;32m    647\u001b[0m \u001b[1;33m\u001b[0m\u001b[0m\n\u001b[0;32m    648\u001b[0m         \u001b[1;31m# Total elapsed time of the request (approximately)\u001b[0m\u001b[1;33m\u001b[0m\u001b[1;33m\u001b[0m\u001b[1;33m\u001b[0m\u001b[0m\n",
      "\u001b[1;32m~\\Anaconda3\\lib\\site-packages\\requests\\adapters.py\u001b[0m in \u001b[0;36msend\u001b[1;34m(self, request, stream, timeout, verify, cert, proxies)\u001b[0m\n\u001b[0;32m    447\u001b[0m                     \u001b[0mdecode_content\u001b[0m\u001b[1;33m=\u001b[0m\u001b[1;32mFalse\u001b[0m\u001b[1;33m,\u001b[0m\u001b[1;33m\u001b[0m\u001b[1;33m\u001b[0m\u001b[0m\n\u001b[0;32m    448\u001b[0m                     \u001b[0mretries\u001b[0m\u001b[1;33m=\u001b[0m\u001b[0mself\u001b[0m\u001b[1;33m.\u001b[0m\u001b[0mmax_retries\u001b[0m\u001b[1;33m,\u001b[0m\u001b[1;33m\u001b[0m\u001b[1;33m\u001b[0m\u001b[0m\n\u001b[1;32m--> 449\u001b[1;33m                     \u001b[0mtimeout\u001b[0m\u001b[1;33m=\u001b[0m\u001b[0mtimeout\u001b[0m\u001b[1;33m\u001b[0m\u001b[1;33m\u001b[0m\u001b[0m\n\u001b[0m\u001b[0;32m    450\u001b[0m                 )\n\u001b[0;32m    451\u001b[0m \u001b[1;33m\u001b[0m\u001b[0m\n",
      "\u001b[1;32m~\\Anaconda3\\lib\\site-packages\\urllib3\\connectionpool.py\u001b[0m in \u001b[0;36murlopen\u001b[1;34m(self, method, url, body, headers, retries, redirect, assert_same_host, timeout, pool_timeout, release_conn, chunked, body_pos, **response_kw)\u001b[0m\n\u001b[0;32m    598\u001b[0m                                                   \u001b[0mtimeout\u001b[0m\u001b[1;33m=\u001b[0m\u001b[0mtimeout_obj\u001b[0m\u001b[1;33m,\u001b[0m\u001b[1;33m\u001b[0m\u001b[1;33m\u001b[0m\u001b[0m\n\u001b[0;32m    599\u001b[0m                                                   \u001b[0mbody\u001b[0m\u001b[1;33m=\u001b[0m\u001b[0mbody\u001b[0m\u001b[1;33m,\u001b[0m \u001b[0mheaders\u001b[0m\u001b[1;33m=\u001b[0m\u001b[0mheaders\u001b[0m\u001b[1;33m,\u001b[0m\u001b[1;33m\u001b[0m\u001b[1;33m\u001b[0m\u001b[0m\n\u001b[1;32m--> 600\u001b[1;33m                                                   chunked=chunked)\n\u001b[0m\u001b[0;32m    601\u001b[0m \u001b[1;33m\u001b[0m\u001b[0m\n\u001b[0;32m    602\u001b[0m             \u001b[1;31m# If we're going to release the connection in ``finally:``, then\u001b[0m\u001b[1;33m\u001b[0m\u001b[1;33m\u001b[0m\u001b[1;33m\u001b[0m\u001b[0m\n",
      "\u001b[1;32m~\\Anaconda3\\lib\\site-packages\\urllib3\\connectionpool.py\u001b[0m in \u001b[0;36m_make_request\u001b[1;34m(self, conn, method, url, timeout, chunked, **httplib_request_kw)\u001b[0m\n\u001b[0;32m    378\u001b[0m             \u001b[1;32mexcept\u001b[0m \u001b[0mTypeError\u001b[0m\u001b[1;33m:\u001b[0m  \u001b[1;31m# Python 3\u001b[0m\u001b[1;33m\u001b[0m\u001b[1;33m\u001b[0m\u001b[0m\n\u001b[0;32m    379\u001b[0m                 \u001b[1;32mtry\u001b[0m\u001b[1;33m:\u001b[0m\u001b[1;33m\u001b[0m\u001b[1;33m\u001b[0m\u001b[0m\n\u001b[1;32m--> 380\u001b[1;33m                     \u001b[0mhttplib_response\u001b[0m \u001b[1;33m=\u001b[0m \u001b[0mconn\u001b[0m\u001b[1;33m.\u001b[0m\u001b[0mgetresponse\u001b[0m\u001b[1;33m(\u001b[0m\u001b[1;33m)\u001b[0m\u001b[1;33m\u001b[0m\u001b[1;33m\u001b[0m\u001b[0m\n\u001b[0m\u001b[0;32m    381\u001b[0m                 \u001b[1;32mexcept\u001b[0m \u001b[0mException\u001b[0m \u001b[1;32mas\u001b[0m \u001b[0me\u001b[0m\u001b[1;33m:\u001b[0m\u001b[1;33m\u001b[0m\u001b[1;33m\u001b[0m\u001b[0m\n\u001b[0;32m    382\u001b[0m                     \u001b[1;31m# Remove the TypeError from the exception chain in Python 3;\u001b[0m\u001b[1;33m\u001b[0m\u001b[1;33m\u001b[0m\u001b[1;33m\u001b[0m\u001b[0m\n",
      "\u001b[1;32m~\\Anaconda3\\lib\\http\\client.py\u001b[0m in \u001b[0;36mgetresponse\u001b[1;34m(self)\u001b[0m\n\u001b[0;32m   1334\u001b[0m         \u001b[1;32mtry\u001b[0m\u001b[1;33m:\u001b[0m\u001b[1;33m\u001b[0m\u001b[1;33m\u001b[0m\u001b[0m\n\u001b[0;32m   1335\u001b[0m             \u001b[1;32mtry\u001b[0m\u001b[1;33m:\u001b[0m\u001b[1;33m\u001b[0m\u001b[1;33m\u001b[0m\u001b[0m\n\u001b[1;32m-> 1336\u001b[1;33m                 \u001b[0mresponse\u001b[0m\u001b[1;33m.\u001b[0m\u001b[0mbegin\u001b[0m\u001b[1;33m(\u001b[0m\u001b[1;33m)\u001b[0m\u001b[1;33m\u001b[0m\u001b[1;33m\u001b[0m\u001b[0m\n\u001b[0m\u001b[0;32m   1337\u001b[0m             \u001b[1;32mexcept\u001b[0m \u001b[0mConnectionError\u001b[0m\u001b[1;33m:\u001b[0m\u001b[1;33m\u001b[0m\u001b[1;33m\u001b[0m\u001b[0m\n\u001b[0;32m   1338\u001b[0m                 \u001b[0mself\u001b[0m\u001b[1;33m.\u001b[0m\u001b[0mclose\u001b[0m\u001b[1;33m(\u001b[0m\u001b[1;33m)\u001b[0m\u001b[1;33m\u001b[0m\u001b[1;33m\u001b[0m\u001b[0m\n",
      "\u001b[1;32m~\\Anaconda3\\lib\\http\\client.py\u001b[0m in \u001b[0;36mbegin\u001b[1;34m(self)\u001b[0m\n\u001b[0;32m    304\u001b[0m         \u001b[1;31m# read until we get a non-100 response\u001b[0m\u001b[1;33m\u001b[0m\u001b[1;33m\u001b[0m\u001b[1;33m\u001b[0m\u001b[0m\n\u001b[0;32m    305\u001b[0m         \u001b[1;32mwhile\u001b[0m \u001b[1;32mTrue\u001b[0m\u001b[1;33m:\u001b[0m\u001b[1;33m\u001b[0m\u001b[1;33m\u001b[0m\u001b[0m\n\u001b[1;32m--> 306\u001b[1;33m             \u001b[0mversion\u001b[0m\u001b[1;33m,\u001b[0m \u001b[0mstatus\u001b[0m\u001b[1;33m,\u001b[0m \u001b[0mreason\u001b[0m \u001b[1;33m=\u001b[0m \u001b[0mself\u001b[0m\u001b[1;33m.\u001b[0m\u001b[0m_read_status\u001b[0m\u001b[1;33m(\u001b[0m\u001b[1;33m)\u001b[0m\u001b[1;33m\u001b[0m\u001b[1;33m\u001b[0m\u001b[0m\n\u001b[0m\u001b[0;32m    307\u001b[0m             \u001b[1;32mif\u001b[0m \u001b[0mstatus\u001b[0m \u001b[1;33m!=\u001b[0m \u001b[0mCONTINUE\u001b[0m\u001b[1;33m:\u001b[0m\u001b[1;33m\u001b[0m\u001b[1;33m\u001b[0m\u001b[0m\n\u001b[0;32m    308\u001b[0m                 \u001b[1;32mbreak\u001b[0m\u001b[1;33m\u001b[0m\u001b[1;33m\u001b[0m\u001b[0m\n",
      "\u001b[1;32m~\\Anaconda3\\lib\\http\\client.py\u001b[0m in \u001b[0;36m_read_status\u001b[1;34m(self)\u001b[0m\n\u001b[0;32m    265\u001b[0m \u001b[1;33m\u001b[0m\u001b[0m\n\u001b[0;32m    266\u001b[0m     \u001b[1;32mdef\u001b[0m \u001b[0m_read_status\u001b[0m\u001b[1;33m(\u001b[0m\u001b[0mself\u001b[0m\u001b[1;33m)\u001b[0m\u001b[1;33m:\u001b[0m\u001b[1;33m\u001b[0m\u001b[1;33m\u001b[0m\u001b[0m\n\u001b[1;32m--> 267\u001b[1;33m         \u001b[0mline\u001b[0m \u001b[1;33m=\u001b[0m \u001b[0mstr\u001b[0m\u001b[1;33m(\u001b[0m\u001b[0mself\u001b[0m\u001b[1;33m.\u001b[0m\u001b[0mfp\u001b[0m\u001b[1;33m.\u001b[0m\u001b[0mreadline\u001b[0m\u001b[1;33m(\u001b[0m\u001b[0m_MAXLINE\u001b[0m \u001b[1;33m+\u001b[0m \u001b[1;36m1\u001b[0m\u001b[1;33m)\u001b[0m\u001b[1;33m,\u001b[0m \u001b[1;34m\"iso-8859-1\"\u001b[0m\u001b[1;33m)\u001b[0m\u001b[1;33m\u001b[0m\u001b[1;33m\u001b[0m\u001b[0m\n\u001b[0m\u001b[0;32m    268\u001b[0m         \u001b[1;32mif\u001b[0m \u001b[0mlen\u001b[0m\u001b[1;33m(\u001b[0m\u001b[0mline\u001b[0m\u001b[1;33m)\u001b[0m \u001b[1;33m>\u001b[0m \u001b[0m_MAXLINE\u001b[0m\u001b[1;33m:\u001b[0m\u001b[1;33m\u001b[0m\u001b[1;33m\u001b[0m\u001b[0m\n\u001b[0;32m    269\u001b[0m             \u001b[1;32mraise\u001b[0m \u001b[0mLineTooLong\u001b[0m\u001b[1;33m(\u001b[0m\u001b[1;34m\"status line\"\u001b[0m\u001b[1;33m)\u001b[0m\u001b[1;33m\u001b[0m\u001b[1;33m\u001b[0m\u001b[0m\n",
      "\u001b[1;32m~\\Anaconda3\\lib\\socket.py\u001b[0m in \u001b[0;36mreadinto\u001b[1;34m(self, b)\u001b[0m\n\u001b[0;32m    587\u001b[0m         \u001b[1;32mwhile\u001b[0m \u001b[1;32mTrue\u001b[0m\u001b[1;33m:\u001b[0m\u001b[1;33m\u001b[0m\u001b[1;33m\u001b[0m\u001b[0m\n\u001b[0;32m    588\u001b[0m             \u001b[1;32mtry\u001b[0m\u001b[1;33m:\u001b[0m\u001b[1;33m\u001b[0m\u001b[1;33m\u001b[0m\u001b[0m\n\u001b[1;32m--> 589\u001b[1;33m                 \u001b[1;32mreturn\u001b[0m \u001b[0mself\u001b[0m\u001b[1;33m.\u001b[0m\u001b[0m_sock\u001b[0m\u001b[1;33m.\u001b[0m\u001b[0mrecv_into\u001b[0m\u001b[1;33m(\u001b[0m\u001b[0mb\u001b[0m\u001b[1;33m)\u001b[0m\u001b[1;33m\u001b[0m\u001b[1;33m\u001b[0m\u001b[0m\n\u001b[0m\u001b[0;32m    590\u001b[0m             \u001b[1;32mexcept\u001b[0m \u001b[0mtimeout\u001b[0m\u001b[1;33m:\u001b[0m\u001b[1;33m\u001b[0m\u001b[1;33m\u001b[0m\u001b[0m\n\u001b[0;32m    591\u001b[0m                 \u001b[0mself\u001b[0m\u001b[1;33m.\u001b[0m\u001b[0m_timeout_occurred\u001b[0m \u001b[1;33m=\u001b[0m \u001b[1;32mTrue\u001b[0m\u001b[1;33m\u001b[0m\u001b[1;33m\u001b[0m\u001b[0m\n",
      "\u001b[1;32m~\\Anaconda3\\lib\\site-packages\\urllib3\\contrib\\pyopenssl.py\u001b[0m in \u001b[0;36mrecv_into\u001b[1;34m(self, *args, **kwargs)\u001b[0m\n\u001b[0;32m    295\u001b[0m     \u001b[1;32mdef\u001b[0m \u001b[0mrecv_into\u001b[0m\u001b[1;33m(\u001b[0m\u001b[0mself\u001b[0m\u001b[1;33m,\u001b[0m \u001b[1;33m*\u001b[0m\u001b[0margs\u001b[0m\u001b[1;33m,\u001b[0m \u001b[1;33m**\u001b[0m\u001b[0mkwargs\u001b[0m\u001b[1;33m)\u001b[0m\u001b[1;33m:\u001b[0m\u001b[1;33m\u001b[0m\u001b[1;33m\u001b[0m\u001b[0m\n\u001b[0;32m    296\u001b[0m         \u001b[1;32mtry\u001b[0m\u001b[1;33m:\u001b[0m\u001b[1;33m\u001b[0m\u001b[1;33m\u001b[0m\u001b[0m\n\u001b[1;32m--> 297\u001b[1;33m             \u001b[1;32mreturn\u001b[0m \u001b[0mself\u001b[0m\u001b[1;33m.\u001b[0m\u001b[0mconnection\u001b[0m\u001b[1;33m.\u001b[0m\u001b[0mrecv_into\u001b[0m\u001b[1;33m(\u001b[0m\u001b[1;33m*\u001b[0m\u001b[0margs\u001b[0m\u001b[1;33m,\u001b[0m \u001b[1;33m**\u001b[0m\u001b[0mkwargs\u001b[0m\u001b[1;33m)\u001b[0m\u001b[1;33m\u001b[0m\u001b[1;33m\u001b[0m\u001b[0m\n\u001b[0m\u001b[0;32m    298\u001b[0m         \u001b[1;32mexcept\u001b[0m \u001b[0mOpenSSL\u001b[0m\u001b[1;33m.\u001b[0m\u001b[0mSSL\u001b[0m\u001b[1;33m.\u001b[0m\u001b[0mSysCallError\u001b[0m \u001b[1;32mas\u001b[0m \u001b[0me\u001b[0m\u001b[1;33m:\u001b[0m\u001b[1;33m\u001b[0m\u001b[1;33m\u001b[0m\u001b[0m\n\u001b[0;32m    299\u001b[0m             \u001b[1;32mif\u001b[0m \u001b[0mself\u001b[0m\u001b[1;33m.\u001b[0m\u001b[0msuppress_ragged_eofs\u001b[0m \u001b[1;32mand\u001b[0m \u001b[0me\u001b[0m\u001b[1;33m.\u001b[0m\u001b[0margs\u001b[0m \u001b[1;33m==\u001b[0m \u001b[1;33m(\u001b[0m\u001b[1;33m-\u001b[0m\u001b[1;36m1\u001b[0m\u001b[1;33m,\u001b[0m \u001b[1;34m'Unexpected EOF'\u001b[0m\u001b[1;33m)\u001b[0m\u001b[1;33m:\u001b[0m\u001b[1;33m\u001b[0m\u001b[1;33m\u001b[0m\u001b[0m\n",
      "\u001b[1;32m~\\Anaconda3\\lib\\site-packages\\OpenSSL\\SSL.py\u001b[0m in \u001b[0;36mrecv_into\u001b[1;34m(self, buffer, nbytes, flags)\u001b[0m\n\u001b[0;32m   1819\u001b[0m             \u001b[0mresult\u001b[0m \u001b[1;33m=\u001b[0m \u001b[0m_lib\u001b[0m\u001b[1;33m.\u001b[0m\u001b[0mSSL_peek\u001b[0m\u001b[1;33m(\u001b[0m\u001b[0mself\u001b[0m\u001b[1;33m.\u001b[0m\u001b[0m_ssl\u001b[0m\u001b[1;33m,\u001b[0m \u001b[0mbuf\u001b[0m\u001b[1;33m,\u001b[0m \u001b[0mnbytes\u001b[0m\u001b[1;33m)\u001b[0m\u001b[1;33m\u001b[0m\u001b[1;33m\u001b[0m\u001b[0m\n\u001b[0;32m   1820\u001b[0m         \u001b[1;32melse\u001b[0m\u001b[1;33m:\u001b[0m\u001b[1;33m\u001b[0m\u001b[1;33m\u001b[0m\u001b[0m\n\u001b[1;32m-> 1821\u001b[1;33m             \u001b[0mresult\u001b[0m \u001b[1;33m=\u001b[0m \u001b[0m_lib\u001b[0m\u001b[1;33m.\u001b[0m\u001b[0mSSL_read\u001b[0m\u001b[1;33m(\u001b[0m\u001b[0mself\u001b[0m\u001b[1;33m.\u001b[0m\u001b[0m_ssl\u001b[0m\u001b[1;33m,\u001b[0m \u001b[0mbuf\u001b[0m\u001b[1;33m,\u001b[0m \u001b[0mnbytes\u001b[0m\u001b[1;33m)\u001b[0m\u001b[1;33m\u001b[0m\u001b[1;33m\u001b[0m\u001b[0m\n\u001b[0m\u001b[0;32m   1822\u001b[0m         \u001b[0mself\u001b[0m\u001b[1;33m.\u001b[0m\u001b[0m_raise_ssl_error\u001b[0m\u001b[1;33m(\u001b[0m\u001b[0mself\u001b[0m\u001b[1;33m.\u001b[0m\u001b[0m_ssl\u001b[0m\u001b[1;33m,\u001b[0m \u001b[0mresult\u001b[0m\u001b[1;33m)\u001b[0m\u001b[1;33m\u001b[0m\u001b[1;33m\u001b[0m\u001b[0m\n\u001b[0;32m   1823\u001b[0m \u001b[1;33m\u001b[0m\u001b[0m\n",
      "\u001b[1;31mKeyboardInterrupt\u001b[0m: "
     ]
    }
   ],
   "source": [
    "import time\n",
    "import random\n",
    "import csv\n",
    "\n",
    "\n",
    "def scrape_single_page(reviews, csvwriter):\n",
    "    for review in reviews:\n",
    "        dic = {}\n",
    "        date = review.find('span', attrs={'class': 'lemon--span__373c0__3997G text__373c0__2Kxyz text-color--mid__373c0__jCeOG text-align--left__373c0__2XGa-'})\\\n",
    "                   .get_text().strip()\n",
    "        rating = review.find('span', attrs={'class': 'lemon--span__373c0__3997G display--inline__373c0__3JqBP border-color--default__373c0__3-ifU'})\\\n",
    "                   .find('div').get('aria-label')\n",
    "        rating = float(re.findall('\\d+', rating)[0])\n",
    "        content = review.find('span', attrs={'class': 'lemon--span__373c0__3997G raw__373c0__3rKqk'})\\\n",
    "                   .get_text().strip()\n",
    "        dic['date'] = date\n",
    "        dic['rating'] = rating\n",
    "        dic['content'] = content\n",
    "        review_writer.writerow(dic.values())\n",
    "    \n",
    "\n",
    "with open('reviews.csv', 'w', encoding='utf-8', newline='') as csvfile:\n",
    "    review_writer = csv.writer(csvfile)\n",
    "    review_writer.writerow(['date','rating','content'])\n",
    "    \n",
    "    for index, url in enumerate(url_list, 1):\n",
    "        response = requests.get(url, headers=headers)\n",
    "        text = BeautifulSoup(response.text, 'html.parser')\n",
    "        reviews = text.find_all('li', attrs={'class': 'lemon--li__373c0__1r9wz margin-b3__373c0__q1DuY padding-b3__373c0__342DA border--bottom__373c0__3qNtD border-color--default__373c0__3-ifU'})\n",
    "        scrape_single_page(reviews, review_writer)\n",
    "        # Random sleep to avoid getting banned from the server\n",
    "        time.sleep(random.randint(1,3))\n",
    "        # Log the progress\n",
    "        print(f'Finished page: {index}')"
   ]
  },
  {
   "cell_type": "code",
   "execution_count": 134,
   "metadata": {},
   "outputs": [],
   "source": [
    "import pandas as pd\n",
    "\n",
    "df = pd.read_csv('./reviews.csv')"
   ]
  },
  {
   "cell_type": "code",
   "execution_count": 136,
   "metadata": {},
   "outputs": [
    {
     "data": {
      "text/plain": [
       "4.122222222222222"
      ]
     },
     "execution_count": 136,
     "metadata": {},
     "output_type": "execute_result"
    }
   ],
   "source": [
    "df.rating.mean()"
   ]
  },
  {
   "cell_type": "code",
   "execution_count": null,
   "metadata": {},
   "outputs": [],
   "source": []
  }
 ],
 "metadata": {
  "kernelspec": {
   "display_name": "Python 3",
   "language": "python",
   "name": "python3"
  },
  "language_info": {
   "codemirror_mode": {
    "name": "ipython",
    "version": 3
   },
   "file_extension": ".py",
   "mimetype": "text/x-python",
   "name": "python",
   "nbconvert_exporter": "python",
   "pygments_lexer": "ipython3",
   "version": "3.7.6"
  }
 },
 "nbformat": 4,
 "nbformat_minor": 1
}
